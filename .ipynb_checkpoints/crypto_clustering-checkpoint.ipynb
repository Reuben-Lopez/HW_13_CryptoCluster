{
 "cells": [
  {
   "cell_type": "markdown",
   "metadata": {},
   "source": [
    "# Clustering Crypto"
   ]
  },
  {
   "cell_type": "code",
   "execution_count": 41,
   "metadata": {},
   "outputs": [],
   "source": [
    "# Initial imports\n",
    "import pandas as pd\n",
    "import hvplot.pandas\n",
    "from pathlib import Path\n",
    "import plotly.express as px\n",
    "from sklearn.preprocessing import StandardScaler, MinMaxScaler\n",
    "from sklearn.decomposition import PCA\n",
    "from sklearn.cluster import KMeans"
   ]
  },
  {
   "cell_type": "markdown",
   "metadata": {},
   "source": [
    "### Data Preprocessing"
   ]
  },
  {
   "cell_type": "code",
   "execution_count": 42,
   "metadata": {},
   "outputs": [
    {
     "data": {
      "text/html": [
       "<div>\n",
       "<style scoped>\n",
       "    .dataframe tbody tr th:only-of-type {\n",
       "        vertical-align: middle;\n",
       "    }\n",
       "\n",
       "    .dataframe tbody tr th {\n",
       "        vertical-align: top;\n",
       "    }\n",
       "\n",
       "    .dataframe thead th {\n",
       "        text-align: right;\n",
       "    }\n",
       "</style>\n",
       "<table border=\"1\" class=\"dataframe\">\n",
       "  <thead>\n",
       "    <tr style=\"text-align: right;\">\n",
       "      <th></th>\n",
       "      <th>CoinName</th>\n",
       "      <th>Algorithm</th>\n",
       "      <th>IsTrading</th>\n",
       "      <th>ProofType</th>\n",
       "      <th>TotalCoinsMined</th>\n",
       "      <th>TotalCoinSupply</th>\n",
       "    </tr>\n",
       "  </thead>\n",
       "  <tbody>\n",
       "    <tr>\n",
       "      <th>42</th>\n",
       "      <td>42 Coin</td>\n",
       "      <td>Scrypt</td>\n",
       "      <td>True</td>\n",
       "      <td>PoW/PoS</td>\n",
       "      <td>4.199995e+01</td>\n",
       "      <td>42</td>\n",
       "    </tr>\n",
       "    <tr>\n",
       "      <th>365</th>\n",
       "      <td>365Coin</td>\n",
       "      <td>X11</td>\n",
       "      <td>True</td>\n",
       "      <td>PoW/PoS</td>\n",
       "      <td>NaN</td>\n",
       "      <td>2300000000</td>\n",
       "    </tr>\n",
       "    <tr>\n",
       "      <th>404</th>\n",
       "      <td>404Coin</td>\n",
       "      <td>Scrypt</td>\n",
       "      <td>True</td>\n",
       "      <td>PoW/PoS</td>\n",
       "      <td>1.055185e+09</td>\n",
       "      <td>532000000</td>\n",
       "    </tr>\n",
       "    <tr>\n",
       "      <th>611</th>\n",
       "      <td>SixEleven</td>\n",
       "      <td>SHA-256</td>\n",
       "      <td>True</td>\n",
       "      <td>PoW</td>\n",
       "      <td>NaN</td>\n",
       "      <td>611000</td>\n",
       "    </tr>\n",
       "    <tr>\n",
       "      <th>808</th>\n",
       "      <td>808</td>\n",
       "      <td>SHA-256</td>\n",
       "      <td>True</td>\n",
       "      <td>PoW/PoS</td>\n",
       "      <td>0.000000e+00</td>\n",
       "      <td>0</td>\n",
       "    </tr>\n",
       "    <tr>\n",
       "      <th>1337</th>\n",
       "      <td>EliteCoin</td>\n",
       "      <td>X13</td>\n",
       "      <td>True</td>\n",
       "      <td>PoW/PoS</td>\n",
       "      <td>2.927942e+10</td>\n",
       "      <td>314159265359</td>\n",
       "    </tr>\n",
       "    <tr>\n",
       "      <th>2015</th>\n",
       "      <td>2015 coin</td>\n",
       "      <td>X11</td>\n",
       "      <td>True</td>\n",
       "      <td>PoW/PoS</td>\n",
       "      <td>NaN</td>\n",
       "      <td>0</td>\n",
       "    </tr>\n",
       "    <tr>\n",
       "      <th>BTC</th>\n",
       "      <td>Bitcoin</td>\n",
       "      <td>SHA-256</td>\n",
       "      <td>True</td>\n",
       "      <td>PoW</td>\n",
       "      <td>1.792718e+07</td>\n",
       "      <td>21000000</td>\n",
       "    </tr>\n",
       "    <tr>\n",
       "      <th>ETH</th>\n",
       "      <td>Ethereum</td>\n",
       "      <td>Ethash</td>\n",
       "      <td>True</td>\n",
       "      <td>PoW</td>\n",
       "      <td>1.076842e+08</td>\n",
       "      <td>0</td>\n",
       "    </tr>\n",
       "    <tr>\n",
       "      <th>LTC</th>\n",
       "      <td>Litecoin</td>\n",
       "      <td>Scrypt</td>\n",
       "      <td>True</td>\n",
       "      <td>PoW</td>\n",
       "      <td>6.303924e+07</td>\n",
       "      <td>84000000</td>\n",
       "    </tr>\n",
       "  </tbody>\n",
       "</table>\n",
       "</div>"
      ],
      "text/plain": [
       "       CoinName Algorithm  IsTrading ProofType  TotalCoinsMined  \\\n",
       "42      42 Coin    Scrypt       True   PoW/PoS     4.199995e+01   \n",
       "365     365Coin       X11       True   PoW/PoS              NaN   \n",
       "404     404Coin    Scrypt       True   PoW/PoS     1.055185e+09   \n",
       "611   SixEleven   SHA-256       True       PoW              NaN   \n",
       "808         808   SHA-256       True   PoW/PoS     0.000000e+00   \n",
       "1337  EliteCoin       X13       True   PoW/PoS     2.927942e+10   \n",
       "2015  2015 coin       X11       True   PoW/PoS              NaN   \n",
       "BTC     Bitcoin   SHA-256       True       PoW     1.792718e+07   \n",
       "ETH    Ethereum    Ethash       True       PoW     1.076842e+08   \n",
       "LTC    Litecoin    Scrypt       True       PoW     6.303924e+07   \n",
       "\n",
       "     TotalCoinSupply  \n",
       "42                42  \n",
       "365       2300000000  \n",
       "404        532000000  \n",
       "611           611000  \n",
       "808                0  \n",
       "1337    314159265359  \n",
       "2015               0  \n",
       "BTC         21000000  \n",
       "ETH                0  \n",
       "LTC         84000000  "
      ]
     },
     "execution_count": 42,
     "metadata": {},
     "output_type": "execute_result"
    }
   ],
   "source": [
    "# Loade the cryptocurrencies data\n",
    "file_path = Path(\"Resources/crypto_data.csv\")\n",
    "crypto_df = pd.read_csv(file_path, index_col=0)\n",
    "crypto_df.head(10)"
   ]
  },
  {
   "cell_type": "code",
   "execution_count": 43,
   "metadata": {},
   "outputs": [
    {
     "data": {
      "text/html": [
       "<div>\n",
       "<style scoped>\n",
       "    .dataframe tbody tr th:only-of-type {\n",
       "        vertical-align: middle;\n",
       "    }\n",
       "\n",
       "    .dataframe tbody tr th {\n",
       "        vertical-align: top;\n",
       "    }\n",
       "\n",
       "    .dataframe thead th {\n",
       "        text-align: right;\n",
       "    }\n",
       "</style>\n",
       "<table border=\"1\" class=\"dataframe\">\n",
       "  <thead>\n",
       "    <tr style=\"text-align: right;\">\n",
       "      <th></th>\n",
       "      <th>CoinName</th>\n",
       "      <th>Algorithm</th>\n",
       "      <th>IsTrading</th>\n",
       "      <th>ProofType</th>\n",
       "      <th>TotalCoinsMined</th>\n",
       "      <th>TotalCoinSupply</th>\n",
       "    </tr>\n",
       "  </thead>\n",
       "  <tbody>\n",
       "    <tr>\n",
       "      <th>42</th>\n",
       "      <td>42 Coin</td>\n",
       "      <td>Scrypt</td>\n",
       "      <td>True</td>\n",
       "      <td>PoW/PoS</td>\n",
       "      <td>4.199995e+01</td>\n",
       "      <td>42</td>\n",
       "    </tr>\n",
       "    <tr>\n",
       "      <th>365</th>\n",
       "      <td>365Coin</td>\n",
       "      <td>X11</td>\n",
       "      <td>True</td>\n",
       "      <td>PoW/PoS</td>\n",
       "      <td>NaN</td>\n",
       "      <td>2300000000</td>\n",
       "    </tr>\n",
       "    <tr>\n",
       "      <th>404</th>\n",
       "      <td>404Coin</td>\n",
       "      <td>Scrypt</td>\n",
       "      <td>True</td>\n",
       "      <td>PoW/PoS</td>\n",
       "      <td>1.055185e+09</td>\n",
       "      <td>532000000</td>\n",
       "    </tr>\n",
       "    <tr>\n",
       "      <th>611</th>\n",
       "      <td>SixEleven</td>\n",
       "      <td>SHA-256</td>\n",
       "      <td>True</td>\n",
       "      <td>PoW</td>\n",
       "      <td>NaN</td>\n",
       "      <td>611000</td>\n",
       "    </tr>\n",
       "    <tr>\n",
       "      <th>808</th>\n",
       "      <td>808</td>\n",
       "      <td>SHA-256</td>\n",
       "      <td>True</td>\n",
       "      <td>PoW/PoS</td>\n",
       "      <td>0.000000e+00</td>\n",
       "      <td>0</td>\n",
       "    </tr>\n",
       "  </tbody>\n",
       "</table>\n",
       "</div>"
      ],
      "text/plain": [
       "      CoinName Algorithm  IsTrading ProofType  TotalCoinsMined TotalCoinSupply\n",
       "42     42 Coin    Scrypt       True   PoW/PoS     4.199995e+01              42\n",
       "365    365Coin       X11       True   PoW/PoS              NaN      2300000000\n",
       "404    404Coin    Scrypt       True   PoW/PoS     1.055185e+09       532000000\n",
       "611  SixEleven   SHA-256       True       PoW              NaN          611000\n",
       "808        808   SHA-256       True   PoW/PoS     0.000000e+00               0"
      ]
     },
     "execution_count": 43,
     "metadata": {},
     "output_type": "execute_result"
    }
   ],
   "source": [
    "# Keep only cryptocurrencies that are on trading\n",
    "crypto_df.drop(crypto_df[crypto_df['IsTrading']==False].index, inplace=True)\n",
    "crypto_df.head()"
   ]
  },
  {
   "cell_type": "code",
   "execution_count": 44,
   "metadata": {},
   "outputs": [
    {
     "name": "stdout",
     "output_type": "stream",
     "text": [
      "(1144, 6)\n"
     ]
    },
    {
     "data": {
      "text/html": [
       "<div>\n",
       "<style scoped>\n",
       "    .dataframe tbody tr th:only-of-type {\n",
       "        vertical-align: middle;\n",
       "    }\n",
       "\n",
       "    .dataframe tbody tr th {\n",
       "        vertical-align: top;\n",
       "    }\n",
       "\n",
       "    .dataframe thead th {\n",
       "        text-align: right;\n",
       "    }\n",
       "</style>\n",
       "<table border=\"1\" class=\"dataframe\">\n",
       "  <thead>\n",
       "    <tr style=\"text-align: right;\">\n",
       "      <th></th>\n",
       "      <th>CoinName</th>\n",
       "      <th>Algorithm</th>\n",
       "      <th>IsTrading</th>\n",
       "      <th>ProofType</th>\n",
       "      <th>TotalCoinsMined</th>\n",
       "      <th>TotalCoinSupply</th>\n",
       "    </tr>\n",
       "  </thead>\n",
       "  <tbody>\n",
       "    <tr>\n",
       "      <th>42</th>\n",
       "      <td>42 Coin</td>\n",
       "      <td>Scrypt</td>\n",
       "      <td>True</td>\n",
       "      <td>PoW/PoS</td>\n",
       "      <td>4.199995e+01</td>\n",
       "      <td>42</td>\n",
       "    </tr>\n",
       "    <tr>\n",
       "      <th>365</th>\n",
       "      <td>365Coin</td>\n",
       "      <td>X11</td>\n",
       "      <td>True</td>\n",
       "      <td>PoW/PoS</td>\n",
       "      <td>NaN</td>\n",
       "      <td>2300000000</td>\n",
       "    </tr>\n",
       "    <tr>\n",
       "      <th>404</th>\n",
       "      <td>404Coin</td>\n",
       "      <td>Scrypt</td>\n",
       "      <td>True</td>\n",
       "      <td>PoW/PoS</td>\n",
       "      <td>1.055185e+09</td>\n",
       "      <td>532000000</td>\n",
       "    </tr>\n",
       "    <tr>\n",
       "      <th>611</th>\n",
       "      <td>SixEleven</td>\n",
       "      <td>SHA-256</td>\n",
       "      <td>True</td>\n",
       "      <td>PoW</td>\n",
       "      <td>NaN</td>\n",
       "      <td>611000</td>\n",
       "    </tr>\n",
       "    <tr>\n",
       "      <th>808</th>\n",
       "      <td>808</td>\n",
       "      <td>SHA-256</td>\n",
       "      <td>True</td>\n",
       "      <td>PoW/PoS</td>\n",
       "      <td>0.000000e+00</td>\n",
       "      <td>0</td>\n",
       "    </tr>\n",
       "  </tbody>\n",
       "</table>\n",
       "</div>"
      ],
      "text/plain": [
       "      CoinName Algorithm  IsTrading ProofType  TotalCoinsMined TotalCoinSupply\n",
       "42     42 Coin    Scrypt       True   PoW/PoS     4.199995e+01              42\n",
       "365    365Coin       X11       True   PoW/PoS              NaN      2300000000\n",
       "404    404Coin    Scrypt       True   PoW/PoS     1.055185e+09       532000000\n",
       "611  SixEleven   SHA-256       True       PoW              NaN          611000\n",
       "808        808   SHA-256       True   PoW/PoS     0.000000e+00               0"
      ]
     },
     "execution_count": 44,
     "metadata": {},
     "output_type": "execute_result"
    }
   ],
   "source": [
    "# Keep only cryptocurrencies with a working algorithm\n",
    "crypto_df = crypto_df[crypto_df['Algorithm'] != 'N/A']\n",
    "print(crypto_df.shape)\n",
    "crypto_df.head()"
   ]
  },
  {
   "cell_type": "code",
   "execution_count": 45,
   "metadata": {},
   "outputs": [
    {
     "data": {
      "text/html": [
       "<div>\n",
       "<style scoped>\n",
       "    .dataframe tbody tr th:only-of-type {\n",
       "        vertical-align: middle;\n",
       "    }\n",
       "\n",
       "    .dataframe tbody tr th {\n",
       "        vertical-align: top;\n",
       "    }\n",
       "\n",
       "    .dataframe thead th {\n",
       "        text-align: right;\n",
       "    }\n",
       "</style>\n",
       "<table border=\"1\" class=\"dataframe\">\n",
       "  <thead>\n",
       "    <tr style=\"text-align: right;\">\n",
       "      <th></th>\n",
       "      <th>CoinName</th>\n",
       "      <th>Algorithm</th>\n",
       "      <th>ProofType</th>\n",
       "      <th>TotalCoinsMined</th>\n",
       "      <th>TotalCoinSupply</th>\n",
       "    </tr>\n",
       "  </thead>\n",
       "  <tbody>\n",
       "    <tr>\n",
       "      <th>42</th>\n",
       "      <td>42 Coin</td>\n",
       "      <td>Scrypt</td>\n",
       "      <td>PoW/PoS</td>\n",
       "      <td>4.199995e+01</td>\n",
       "      <td>42</td>\n",
       "    </tr>\n",
       "    <tr>\n",
       "      <th>365</th>\n",
       "      <td>365Coin</td>\n",
       "      <td>X11</td>\n",
       "      <td>PoW/PoS</td>\n",
       "      <td>NaN</td>\n",
       "      <td>2300000000</td>\n",
       "    </tr>\n",
       "    <tr>\n",
       "      <th>404</th>\n",
       "      <td>404Coin</td>\n",
       "      <td>Scrypt</td>\n",
       "      <td>PoW/PoS</td>\n",
       "      <td>1.055185e+09</td>\n",
       "      <td>532000000</td>\n",
       "    </tr>\n",
       "    <tr>\n",
       "      <th>611</th>\n",
       "      <td>SixEleven</td>\n",
       "      <td>SHA-256</td>\n",
       "      <td>PoW</td>\n",
       "      <td>NaN</td>\n",
       "      <td>611000</td>\n",
       "    </tr>\n",
       "    <tr>\n",
       "      <th>808</th>\n",
       "      <td>808</td>\n",
       "      <td>SHA-256</td>\n",
       "      <td>PoW/PoS</td>\n",
       "      <td>0.000000e+00</td>\n",
       "      <td>0</td>\n",
       "    </tr>\n",
       "  </tbody>\n",
       "</table>\n",
       "</div>"
      ],
      "text/plain": [
       "      CoinName Algorithm ProofType  TotalCoinsMined TotalCoinSupply\n",
       "42     42 Coin    Scrypt   PoW/PoS     4.199995e+01              42\n",
       "365    365Coin       X11   PoW/PoS              NaN      2300000000\n",
       "404    404Coin    Scrypt   PoW/PoS     1.055185e+09       532000000\n",
       "611  SixEleven   SHA-256       PoW              NaN          611000\n",
       "808        808   SHA-256   PoW/PoS     0.000000e+00               0"
      ]
     },
     "execution_count": 45,
     "metadata": {},
     "output_type": "execute_result"
    }
   ],
   "source": [
    "# Remove the \"IsTrading\" column\n",
    "crypto_df.drop(['IsTrading'], axis=1, inplace=True)\n",
    "crypto_df.head()"
   ]
  },
  {
   "cell_type": "code",
   "execution_count": 46,
   "metadata": {},
   "outputs": [
    {
     "data": {
      "text/html": [
       "<div>\n",
       "<style scoped>\n",
       "    .dataframe tbody tr th:only-of-type {\n",
       "        vertical-align: middle;\n",
       "    }\n",
       "\n",
       "    .dataframe tbody tr th {\n",
       "        vertical-align: top;\n",
       "    }\n",
       "\n",
       "    .dataframe thead th {\n",
       "        text-align: right;\n",
       "    }\n",
       "</style>\n",
       "<table border=\"1\" class=\"dataframe\">\n",
       "  <thead>\n",
       "    <tr style=\"text-align: right;\">\n",
       "      <th></th>\n",
       "      <th>CoinName</th>\n",
       "      <th>Algorithm</th>\n",
       "      <th>ProofType</th>\n",
       "      <th>TotalCoinsMined</th>\n",
       "      <th>TotalCoinSupply</th>\n",
       "    </tr>\n",
       "  </thead>\n",
       "  <tbody>\n",
       "    <tr>\n",
       "      <th>42</th>\n",
       "      <td>42 Coin</td>\n",
       "      <td>Scrypt</td>\n",
       "      <td>PoW/PoS</td>\n",
       "      <td>4.199995e+01</td>\n",
       "      <td>42</td>\n",
       "    </tr>\n",
       "    <tr>\n",
       "      <th>404</th>\n",
       "      <td>404Coin</td>\n",
       "      <td>Scrypt</td>\n",
       "      <td>PoW/PoS</td>\n",
       "      <td>1.055185e+09</td>\n",
       "      <td>532000000</td>\n",
       "    </tr>\n",
       "    <tr>\n",
       "      <th>808</th>\n",
       "      <td>808</td>\n",
       "      <td>SHA-256</td>\n",
       "      <td>PoW/PoS</td>\n",
       "      <td>0.000000e+00</td>\n",
       "      <td>0</td>\n",
       "    </tr>\n",
       "    <tr>\n",
       "      <th>1337</th>\n",
       "      <td>EliteCoin</td>\n",
       "      <td>X13</td>\n",
       "      <td>PoW/PoS</td>\n",
       "      <td>2.927942e+10</td>\n",
       "      <td>314159265359</td>\n",
       "    </tr>\n",
       "    <tr>\n",
       "      <th>BTC</th>\n",
       "      <td>Bitcoin</td>\n",
       "      <td>SHA-256</td>\n",
       "      <td>PoW</td>\n",
       "      <td>1.792718e+07</td>\n",
       "      <td>21000000</td>\n",
       "    </tr>\n",
       "  </tbody>\n",
       "</table>\n",
       "</div>"
      ],
      "text/plain": [
       "       CoinName Algorithm ProofType  TotalCoinsMined TotalCoinSupply\n",
       "42      42 Coin    Scrypt   PoW/PoS     4.199995e+01              42\n",
       "404     404Coin    Scrypt   PoW/PoS     1.055185e+09       532000000\n",
       "808         808   SHA-256   PoW/PoS     0.000000e+00               0\n",
       "1337  EliteCoin       X13   PoW/PoS     2.927942e+10    314159265359\n",
       "BTC     Bitcoin   SHA-256       PoW     1.792718e+07        21000000"
      ]
     },
     "execution_count": 46,
     "metadata": {},
     "output_type": "execute_result"
    }
   ],
   "source": [
    "# Remove rows with at least 1 null value\n",
    "crypto_df_new = crypto_df.dropna()\n",
    "crypto_df_new.head()"
   ]
  },
  {
   "cell_type": "code",
   "execution_count": 47,
   "metadata": {},
   "outputs": [
    {
     "name": "stdout",
     "output_type": "stream",
     "text": [
      "(685, 5)\n"
     ]
    },
    {
     "data": {
      "text/html": [
       "<div>\n",
       "<style scoped>\n",
       "    .dataframe tbody tr th:only-of-type {\n",
       "        vertical-align: middle;\n",
       "    }\n",
       "\n",
       "    .dataframe tbody tr th {\n",
       "        vertical-align: top;\n",
       "    }\n",
       "\n",
       "    .dataframe thead th {\n",
       "        text-align: right;\n",
       "    }\n",
       "</style>\n",
       "<table border=\"1\" class=\"dataframe\">\n",
       "  <thead>\n",
       "    <tr style=\"text-align: right;\">\n",
       "      <th></th>\n",
       "      <th>CoinName</th>\n",
       "      <th>Algorithm</th>\n",
       "      <th>ProofType</th>\n",
       "      <th>TotalCoinsMined</th>\n",
       "      <th>TotalCoinSupply</th>\n",
       "    </tr>\n",
       "  </thead>\n",
       "  <tbody>\n",
       "    <tr>\n",
       "      <th>42</th>\n",
       "      <td>42 Coin</td>\n",
       "      <td>Scrypt</td>\n",
       "      <td>PoW/PoS</td>\n",
       "      <td>4.199995e+01</td>\n",
       "      <td>42</td>\n",
       "    </tr>\n",
       "    <tr>\n",
       "      <th>404</th>\n",
       "      <td>404Coin</td>\n",
       "      <td>Scrypt</td>\n",
       "      <td>PoW/PoS</td>\n",
       "      <td>1.055185e+09</td>\n",
       "      <td>532000000</td>\n",
       "    </tr>\n",
       "    <tr>\n",
       "      <th>808</th>\n",
       "      <td>808</td>\n",
       "      <td>SHA-256</td>\n",
       "      <td>PoW/PoS</td>\n",
       "      <td>0.000000e+00</td>\n",
       "      <td>0</td>\n",
       "    </tr>\n",
       "    <tr>\n",
       "      <th>1337</th>\n",
       "      <td>EliteCoin</td>\n",
       "      <td>X13</td>\n",
       "      <td>PoW/PoS</td>\n",
       "      <td>2.927942e+10</td>\n",
       "      <td>314159265359</td>\n",
       "    </tr>\n",
       "    <tr>\n",
       "      <th>BTC</th>\n",
       "      <td>Bitcoin</td>\n",
       "      <td>SHA-256</td>\n",
       "      <td>PoW</td>\n",
       "      <td>1.792718e+07</td>\n",
       "      <td>21000000</td>\n",
       "    </tr>\n",
       "  </tbody>\n",
       "</table>\n",
       "</div>"
      ],
      "text/plain": [
       "       CoinName Algorithm ProofType  TotalCoinsMined TotalCoinSupply\n",
       "42      42 Coin    Scrypt   PoW/PoS     4.199995e+01              42\n",
       "404     404Coin    Scrypt   PoW/PoS     1.055185e+09       532000000\n",
       "808         808   SHA-256   PoW/PoS     0.000000e+00               0\n",
       "1337  EliteCoin       X13   PoW/PoS     2.927942e+10    314159265359\n",
       "BTC     Bitcoin   SHA-256       PoW     1.792718e+07        21000000"
      ]
     },
     "execution_count": 47,
     "metadata": {},
     "output_type": "execute_result"
    }
   ],
   "source": [
    "# Remove rows with cryptocurrencies without coins mined\n",
    "crpyto_df_new = crypto_df_new[crypto_df_new['TotalCoinsMined']>0]\n",
    "print(crypto_df_new.shape)\n",
    "crypto_df_new.head()"
   ]
  },
  {
   "cell_type": "code",
   "execution_count": 48,
   "metadata": {},
   "outputs": [
    {
     "data": {
      "text/html": [
       "<div>\n",
       "<style scoped>\n",
       "    .dataframe tbody tr th:only-of-type {\n",
       "        vertical-align: middle;\n",
       "    }\n",
       "\n",
       "    .dataframe tbody tr th {\n",
       "        vertical-align: top;\n",
       "    }\n",
       "\n",
       "    .dataframe thead th {\n",
       "        text-align: right;\n",
       "    }\n",
       "</style>\n",
       "<table border=\"1\" class=\"dataframe\">\n",
       "  <thead>\n",
       "    <tr style=\"text-align: right;\">\n",
       "      <th></th>\n",
       "      <th>CoinName</th>\n",
       "    </tr>\n",
       "  </thead>\n",
       "  <tbody>\n",
       "    <tr>\n",
       "      <th>42</th>\n",
       "      <td>42 Coin</td>\n",
       "    </tr>\n",
       "    <tr>\n",
       "      <th>404</th>\n",
       "      <td>404Coin</td>\n",
       "    </tr>\n",
       "    <tr>\n",
       "      <th>1337</th>\n",
       "      <td>EliteCoin</td>\n",
       "    </tr>\n",
       "    <tr>\n",
       "      <th>BTC</th>\n",
       "      <td>Bitcoin</td>\n",
       "    </tr>\n",
       "    <tr>\n",
       "      <th>ETH</th>\n",
       "      <td>Ethereum</td>\n",
       "    </tr>\n",
       "  </tbody>\n",
       "</table>\n",
       "</div>"
      ],
      "text/plain": [
       "       CoinName\n",
       "42      42 Coin\n",
       "404     404Coin\n",
       "1337  EliteCoin\n",
       "BTC     Bitcoin\n",
       "ETH    Ethereum"
      ]
     },
     "execution_count": 48,
     "metadata": {},
     "output_type": "execute_result"
    }
   ],
   "source": [
    "# Fetch the cryptocurrencies names prior to drop them from crypto_df\n",
    "coin_name = crpyto_df_new.drop(['Algorithm','ProofType','TotalCoinsMined','TotalCoinSupply'], axis=1)\n",
    "coin_name.head()"
   ]
  },
  {
   "cell_type": "code",
   "execution_count": 49,
   "metadata": {},
   "outputs": [
    {
     "data": {
      "text/html": [
       "<div>\n",
       "<style scoped>\n",
       "    .dataframe tbody tr th:only-of-type {\n",
       "        vertical-align: middle;\n",
       "    }\n",
       "\n",
       "    .dataframe tbody tr th {\n",
       "        vertical-align: top;\n",
       "    }\n",
       "\n",
       "    .dataframe thead th {\n",
       "        text-align: right;\n",
       "    }\n",
       "</style>\n",
       "<table border=\"1\" class=\"dataframe\">\n",
       "  <thead>\n",
       "    <tr style=\"text-align: right;\">\n",
       "      <th></th>\n",
       "      <th>Algorithm</th>\n",
       "      <th>ProofType</th>\n",
       "      <th>TotalCoinsMined</th>\n",
       "      <th>TotalCoinSupply</th>\n",
       "    </tr>\n",
       "  </thead>\n",
       "  <tbody>\n",
       "    <tr>\n",
       "      <th>42</th>\n",
       "      <td>Scrypt</td>\n",
       "      <td>PoW/PoS</td>\n",
       "      <td>4.199995e+01</td>\n",
       "      <td>42</td>\n",
       "    </tr>\n",
       "    <tr>\n",
       "      <th>404</th>\n",
       "      <td>Scrypt</td>\n",
       "      <td>PoW/PoS</td>\n",
       "      <td>1.055185e+09</td>\n",
       "      <td>532000000</td>\n",
       "    </tr>\n",
       "    <tr>\n",
       "      <th>808</th>\n",
       "      <td>SHA-256</td>\n",
       "      <td>PoW/PoS</td>\n",
       "      <td>0.000000e+00</td>\n",
       "      <td>0</td>\n",
       "    </tr>\n",
       "    <tr>\n",
       "      <th>1337</th>\n",
       "      <td>X13</td>\n",
       "      <td>PoW/PoS</td>\n",
       "      <td>2.927942e+10</td>\n",
       "      <td>314159265359</td>\n",
       "    </tr>\n",
       "    <tr>\n",
       "      <th>BTC</th>\n",
       "      <td>SHA-256</td>\n",
       "      <td>PoW</td>\n",
       "      <td>1.792718e+07</td>\n",
       "      <td>21000000</td>\n",
       "    </tr>\n",
       "  </tbody>\n",
       "</table>\n",
       "</div>"
      ],
      "text/plain": [
       "     Algorithm ProofType  TotalCoinsMined TotalCoinSupply\n",
       "42      Scrypt   PoW/PoS     4.199995e+01              42\n",
       "404     Scrypt   PoW/PoS     1.055185e+09       532000000\n",
       "808    SHA-256   PoW/PoS     0.000000e+00               0\n",
       "1337       X13   PoW/PoS     2.927942e+10    314159265359\n",
       "BTC    SHA-256       PoW     1.792718e+07        21000000"
      ]
     },
     "execution_count": 49,
     "metadata": {},
     "output_type": "execute_result"
    }
   ],
   "source": [
    "# Remove the cryptocurrency name since it's not going to be used on the clustering algorithm\n",
    "crypto_df_3 = crypto_df_new.drop('CoinName', axis=1)\n",
    "crypto_df_3.head()"
   ]
  },
  {
   "cell_type": "code",
   "execution_count": 50,
   "metadata": {},
   "outputs": [
    {
     "name": "stdout",
     "output_type": "stream",
     "text": [
      "(685, 109)\n"
     ]
    },
    {
     "data": {
      "text/html": [
       "<div>\n",
       "<style scoped>\n",
       "    .dataframe tbody tr th:only-of-type {\n",
       "        vertical-align: middle;\n",
       "    }\n",
       "\n",
       "    .dataframe tbody tr th {\n",
       "        vertical-align: top;\n",
       "    }\n",
       "\n",
       "    .dataframe thead th {\n",
       "        text-align: right;\n",
       "    }\n",
       "</style>\n",
       "<table border=\"1\" class=\"dataframe\">\n",
       "  <thead>\n",
       "    <tr style=\"text-align: right;\">\n",
       "      <th></th>\n",
       "      <th>TotalCoinsMined</th>\n",
       "      <th>TotalCoinSupply</th>\n",
       "      <th>Algorithm_1GB AES Pattern Search</th>\n",
       "      <th>Algorithm_536</th>\n",
       "      <th>Algorithm_Argon2</th>\n",
       "      <th>Algorithm_Argon2d</th>\n",
       "      <th>Algorithm_BLAKE256</th>\n",
       "      <th>Algorithm_Blake</th>\n",
       "      <th>Algorithm_Blake2S</th>\n",
       "      <th>Algorithm_Blake2b</th>\n",
       "      <th>...</th>\n",
       "      <th>ProofType_PoW/PoS</th>\n",
       "      <th>ProofType_PoW/PoS</th>\n",
       "      <th>ProofType_PoW/PoW</th>\n",
       "      <th>ProofType_PoW/nPoS</th>\n",
       "      <th>ProofType_Pos</th>\n",
       "      <th>ProofType_Proof of Authority</th>\n",
       "      <th>ProofType_Proof of Trust</th>\n",
       "      <th>ProofType_TPoS</th>\n",
       "      <th>ProofType_Zero-Knowledge Proof</th>\n",
       "      <th>ProofType_dPoW/PoW</th>\n",
       "    </tr>\n",
       "  </thead>\n",
       "  <tbody>\n",
       "    <tr>\n",
       "      <th>42</th>\n",
       "      <td>4.199995e+01</td>\n",
       "      <td>42</td>\n",
       "      <td>0</td>\n",
       "      <td>0</td>\n",
       "      <td>0</td>\n",
       "      <td>0</td>\n",
       "      <td>0</td>\n",
       "      <td>0</td>\n",
       "      <td>0</td>\n",
       "      <td>0</td>\n",
       "      <td>...</td>\n",
       "      <td>1</td>\n",
       "      <td>0</td>\n",
       "      <td>0</td>\n",
       "      <td>0</td>\n",
       "      <td>0</td>\n",
       "      <td>0</td>\n",
       "      <td>0</td>\n",
       "      <td>0</td>\n",
       "      <td>0</td>\n",
       "      <td>0</td>\n",
       "    </tr>\n",
       "    <tr>\n",
       "      <th>404</th>\n",
       "      <td>1.055185e+09</td>\n",
       "      <td>532000000</td>\n",
       "      <td>0</td>\n",
       "      <td>0</td>\n",
       "      <td>0</td>\n",
       "      <td>0</td>\n",
       "      <td>0</td>\n",
       "      <td>0</td>\n",
       "      <td>0</td>\n",
       "      <td>0</td>\n",
       "      <td>...</td>\n",
       "      <td>1</td>\n",
       "      <td>0</td>\n",
       "      <td>0</td>\n",
       "      <td>0</td>\n",
       "      <td>0</td>\n",
       "      <td>0</td>\n",
       "      <td>0</td>\n",
       "      <td>0</td>\n",
       "      <td>0</td>\n",
       "      <td>0</td>\n",
       "    </tr>\n",
       "    <tr>\n",
       "      <th>808</th>\n",
       "      <td>0.000000e+00</td>\n",
       "      <td>0</td>\n",
       "      <td>0</td>\n",
       "      <td>0</td>\n",
       "      <td>0</td>\n",
       "      <td>0</td>\n",
       "      <td>0</td>\n",
       "      <td>0</td>\n",
       "      <td>0</td>\n",
       "      <td>0</td>\n",
       "      <td>...</td>\n",
       "      <td>1</td>\n",
       "      <td>0</td>\n",
       "      <td>0</td>\n",
       "      <td>0</td>\n",
       "      <td>0</td>\n",
       "      <td>0</td>\n",
       "      <td>0</td>\n",
       "      <td>0</td>\n",
       "      <td>0</td>\n",
       "      <td>0</td>\n",
       "    </tr>\n",
       "    <tr>\n",
       "      <th>1337</th>\n",
       "      <td>2.927942e+10</td>\n",
       "      <td>314159265359</td>\n",
       "      <td>0</td>\n",
       "      <td>0</td>\n",
       "      <td>0</td>\n",
       "      <td>0</td>\n",
       "      <td>0</td>\n",
       "      <td>0</td>\n",
       "      <td>0</td>\n",
       "      <td>0</td>\n",
       "      <td>...</td>\n",
       "      <td>1</td>\n",
       "      <td>0</td>\n",
       "      <td>0</td>\n",
       "      <td>0</td>\n",
       "      <td>0</td>\n",
       "      <td>0</td>\n",
       "      <td>0</td>\n",
       "      <td>0</td>\n",
       "      <td>0</td>\n",
       "      <td>0</td>\n",
       "    </tr>\n",
       "    <tr>\n",
       "      <th>BTC</th>\n",
       "      <td>1.792718e+07</td>\n",
       "      <td>21000000</td>\n",
       "      <td>0</td>\n",
       "      <td>0</td>\n",
       "      <td>0</td>\n",
       "      <td>0</td>\n",
       "      <td>0</td>\n",
       "      <td>0</td>\n",
       "      <td>0</td>\n",
       "      <td>0</td>\n",
       "      <td>...</td>\n",
       "      <td>0</td>\n",
       "      <td>0</td>\n",
       "      <td>0</td>\n",
       "      <td>0</td>\n",
       "      <td>0</td>\n",
       "      <td>0</td>\n",
       "      <td>0</td>\n",
       "      <td>0</td>\n",
       "      <td>0</td>\n",
       "      <td>0</td>\n",
       "    </tr>\n",
       "  </tbody>\n",
       "</table>\n",
       "<p>5 rows × 109 columns</p>\n",
       "</div>"
      ],
      "text/plain": [
       "      TotalCoinsMined TotalCoinSupply  Algorithm_1GB AES Pattern Search  \\\n",
       "42       4.199995e+01              42                                 0   \n",
       "404      1.055185e+09       532000000                                 0   \n",
       "808      0.000000e+00               0                                 0   \n",
       "1337     2.927942e+10    314159265359                                 0   \n",
       "BTC      1.792718e+07        21000000                                 0   \n",
       "\n",
       "      Algorithm_536  Algorithm_Argon2  Algorithm_Argon2d  Algorithm_BLAKE256  \\\n",
       "42                0                 0                  0                   0   \n",
       "404               0                 0                  0                   0   \n",
       "808               0                 0                  0                   0   \n",
       "1337              0                 0                  0                   0   \n",
       "BTC               0                 0                  0                   0   \n",
       "\n",
       "      Algorithm_Blake  Algorithm_Blake2S  Algorithm_Blake2b  ...  \\\n",
       "42                  0                  0                  0  ...   \n",
       "404                 0                  0                  0  ...   \n",
       "808                 0                  0                  0  ...   \n",
       "1337                0                  0                  0  ...   \n",
       "BTC                 0                  0                  0  ...   \n",
       "\n",
       "      ProofType_PoW/PoS  ProofType_PoW/PoS   ProofType_PoW/PoW  \\\n",
       "42                    1                   0                  0   \n",
       "404                   1                   0                  0   \n",
       "808                   1                   0                  0   \n",
       "1337                  1                   0                  0   \n",
       "BTC                   0                   0                  0   \n",
       "\n",
       "      ProofType_PoW/nPoS  ProofType_Pos  ProofType_Proof of Authority  \\\n",
       "42                     0              0                             0   \n",
       "404                    0              0                             0   \n",
       "808                    0              0                             0   \n",
       "1337                   0              0                             0   \n",
       "BTC                    0              0                             0   \n",
       "\n",
       "      ProofType_Proof of Trust  ProofType_TPoS  \\\n",
       "42                           0               0   \n",
       "404                          0               0   \n",
       "808                          0               0   \n",
       "1337                         0               0   \n",
       "BTC                          0               0   \n",
       "\n",
       "      ProofType_Zero-Knowledge Proof  ProofType_dPoW/PoW  \n",
       "42                                 0                   0  \n",
       "404                                0                   0  \n",
       "808                                0                   0  \n",
       "1337                               0                   0  \n",
       "BTC                                0                   0  \n",
       "\n",
       "[5 rows x 109 columns]"
      ]
     },
     "execution_count": 50,
     "metadata": {},
     "output_type": "execute_result"
    }
   ],
   "source": [
    "# Create dummies variables for text features\n",
    "dummies_df = pd.get_dummies(crypto_df_3, columns=['Algorithm', 'ProofType'])\n",
    "print(dummies_df.shape)\n",
    "dummies_df.head()"
   ]
  },
  {
   "cell_type": "code",
   "execution_count": 51,
   "metadata": {},
   "outputs": [
    {
     "data": {
      "text/plain": [
       "array([[-0.10282804, -0.03823841, -0.03823596, ..., -0.03823596,\n",
       "        -0.03823596, -0.03823596],\n",
       "       [-0.07661326, -0.03823825, -0.03823596, ..., -0.03823596,\n",
       "        -0.03823596, -0.03823596],\n",
       "       [-0.10282804, -0.03823841, -0.03823596, ..., -0.03823596,\n",
       "        -0.03823596, -0.03823596],\n",
       "       ...,\n",
       "       [-0.0784756 , -0.03823801, -0.03823596, ..., -0.03823596,\n",
       "        -0.03823596, -0.03823596],\n",
       "       [-0.10264677, -0.0382384 , -0.03823596, ..., -0.03823596,\n",
       "        -0.03823596, -0.03823596],\n",
       "       [-0.10282485, -0.03823841, -0.03823596, ..., -0.03823596,\n",
       "        -0.03823596, -0.03823596]])"
      ]
     },
     "execution_count": 51,
     "metadata": {},
     "output_type": "execute_result"
    }
   ],
   "source": [
    "# Standardize data\n",
    "standardize = StandardScaler().fit_transform(dummies_df)\n",
    "standardize"
   ]
  },
  {
   "cell_type": "markdown",
   "metadata": {},
   "source": [
    "### Reducing Dimensions Using PCA"
   ]
  },
  {
   "cell_type": "code",
   "execution_count": 52,
   "metadata": {},
   "outputs": [],
   "source": [
    "# Use PCA to reduce dimension to 3 principal components\n",
    "pca = PCA(n_components=3)\n",
    "\n",
    "coin_pca = pca.fit_transform(dummies_df)"
   ]
  },
  {
   "cell_type": "code",
   "execution_count": 69,
   "metadata": {},
   "outputs": [
    {
     "data": {
      "text/html": [
       "<div>\n",
       "<style scoped>\n",
       "    .dataframe tbody tr th:only-of-type {\n",
       "        vertical-align: middle;\n",
       "    }\n",
       "\n",
       "    .dataframe tbody tr th {\n",
       "        vertical-align: top;\n",
       "    }\n",
       "\n",
       "    .dataframe thead th {\n",
       "        text-align: right;\n",
       "    }\n",
       "</style>\n",
       "<table border=\"1\" class=\"dataframe\">\n",
       "  <thead>\n",
       "    <tr style=\"text-align: right;\">\n",
       "      <th></th>\n",
       "      <th>Principal Component 1</th>\n",
       "      <th>Principal Component 2</th>\n",
       "      <th>Principal Component 3</th>\n",
       "    </tr>\n",
       "  </thead>\n",
       "  <tbody>\n",
       "    <tr>\n",
       "      <th>42</th>\n",
       "      <td>-1.346564e+14</td>\n",
       "      <td>-4.145018e+09</td>\n",
       "      <td>0.806590</td>\n",
       "    </tr>\n",
       "    <tr>\n",
       "      <th>404</th>\n",
       "      <td>-1.346558e+14</td>\n",
       "      <td>-3.089833e+09</td>\n",
       "      <td>0.806808</td>\n",
       "    </tr>\n",
       "    <tr>\n",
       "      <th>808</th>\n",
       "      <td>-1.346564e+14</td>\n",
       "      <td>-4.145018e+09</td>\n",
       "      <td>0.666790</td>\n",
       "    </tr>\n",
       "    <tr>\n",
       "      <th>1337</th>\n",
       "      <td>-1.343422e+14</td>\n",
       "      <td>2.513442e+10</td>\n",
       "      <td>0.776956</td>\n",
       "    </tr>\n",
       "    <tr>\n",
       "      <th>BTC</th>\n",
       "      <td>-1.346564e+14</td>\n",
       "      <td>-4.127091e+09</td>\n",
       "      <td>-0.723492</td>\n",
       "    </tr>\n",
       "  </tbody>\n",
       "</table>\n",
       "</div>"
      ],
      "text/plain": [
       "      Principal Component 1  Principal Component 2  Principal Component 3\n",
       "42            -1.346564e+14          -4.145018e+09               0.806590\n",
       "404           -1.346558e+14          -3.089833e+09               0.806808\n",
       "808           -1.346564e+14          -4.145018e+09               0.666790\n",
       "1337          -1.343422e+14           2.513442e+10               0.776956\n",
       "BTC           -1.346564e+14          -4.127091e+09              -0.723492"
      ]
     },
     "execution_count": 69,
     "metadata": {},
     "output_type": "execute_result"
    }
   ],
   "source": [
    "# Create a DataFrame with the principal components data\n",
    "df_crypto = pd.DataFrame(\n",
    "    data=coin_pca, columns=[\"Principal Component 1\", \"Principal Component 2\",'Principal Component 3'], index=crypto_df_3.index\n",
    ")\n",
    "df_crypto.head()"
   ]
  },
  {
   "cell_type": "markdown",
   "metadata": {},
   "source": [
    "### Clustering Crytocurrencies Using K-Means\n",
    "\n",
    "#### Find the Best Value for `k` Using the Elbow Curve"
   ]
  },
  {
   "cell_type": "code",
   "execution_count": 65,
   "metadata": {},
   "outputs": [
    {
     "name": "stderr",
     "output_type": "stream",
     "text": [
      "WARNING:param.CurvePlot01698: title_format is deprecated. Please use title instead\n",
      "WARNING:param.CurvePlot01698: title_format is deprecated. Please use title instead\n"
     ]
    },
    {
     "data": {
      "application/vnd.holoviews_exec.v0+json": "",
      "text/html": [
       "<div id='1095'>\n",
       "\n",
       "\n",
       "\n",
       "\n",
       "\n",
       "  <div class=\"bk-root\" id=\"5f2f844e-7dc4-4c30-bf65-b64edac25dc9\" data-root-id=\"1095\"></div>\n",
       "</div>\n",
       "<script type=\"application/javascript\">(function(root) {\n",
       "  function embed_document(root) {\n",
       "  var docs_json = {\"310b4cec-7292-43e6-9276-f915a7f282d8\":{\"roots\":{\"references\":[{\"attributes\":{\"bottom_units\":\"screen\",\"fill_alpha\":0.5,\"fill_color\":\"lightgrey\",\"left_units\":\"screen\",\"level\":\"overlay\",\"line_alpha\":1.0,\"line_color\":\"black\",\"line_dash\":[4,4],\"line_width\":2,\"render_mode\":\"css\",\"right_units\":\"screen\",\"top_units\":\"screen\"},\"id\":\"1122\",\"type\":\"BoxAnnotation\"},{\"attributes\":{\"end\":9.344102300495866e+33,\"reset_end\":9.344102300495866e+33,\"reset_start\":-8.494638454512707e+32,\"start\":-8.494638454512707e+32,\"tags\":[[[\"inertia\",\"inertia\",null]]]},\"id\":\"1098\",\"type\":\"Range1d\"},{\"attributes\":{},\"id\":\"1150\",\"type\":\"UnionRenderers\"},{\"attributes\":{\"active_drag\":\"auto\",\"active_inspect\":\"auto\",\"active_multi\":null,\"active_scroll\":\"auto\",\"active_tap\":\"auto\",\"tools\":[{\"id\":\"1099\"},{\"id\":\"1117\"},{\"id\":\"1118\"},{\"id\":\"1119\"},{\"id\":\"1120\"},{\"id\":\"1121\"}]},\"id\":\"1123\",\"type\":\"Toolbar\"},{\"attributes\":{},\"id\":\"1114\",\"type\":\"BasicTicker\"},{\"attributes\":{},\"id\":\"1143\",\"type\":\"BasicTickFormatter\"},{\"attributes\":{\"axis\":{\"id\":\"1109\"},\"grid_line_color\":null,\"ticker\":null},\"id\":\"1112\",\"type\":\"Grid\"},{\"attributes\":{},\"id\":\"1107\",\"type\":\"LinearScale\"},{\"attributes\":{\"align\":null,\"below\":[{\"id\":\"1109\"}],\"center\":[{\"id\":\"1112\"},{\"id\":\"1116\"}],\"left\":[{\"id\":\"1113\"}],\"margin\":null,\"min_border_bottom\":10,\"min_border_left\":10,\"min_border_right\":10,\"min_border_top\":10,\"plot_height\":300,\"plot_width\":700,\"renderers\":[{\"id\":\"1136\"}],\"sizing_mode\":\"fixed\",\"title\":{\"id\":\"1101\"},\"toolbar\":{\"id\":\"1123\"},\"x_range\":{\"id\":\"1097\"},\"x_scale\":{\"id\":\"1105\"},\"y_range\":{\"id\":\"1098\"},\"y_scale\":{\"id\":\"1107\"}},\"id\":\"1100\",\"subtype\":\"Figure\",\"type\":\"Plot\"},{\"attributes\":{\"overlay\":{\"id\":\"1122\"}},\"id\":\"1120\",\"type\":\"BoxZoomTool\"},{\"attributes\":{\"axis_label\":\"k\",\"bounds\":\"auto\",\"formatter\":{\"id\":\"1139\"},\"major_label_orientation\":\"horizontal\",\"ticker\":{\"id\":\"1138\"}},\"id\":\"1109\",\"type\":\"LinearAxis\"},{\"attributes\":{\"ticks\":[1,2,3,4,5,6,7,8,9,10]},\"id\":\"1138\",\"type\":\"FixedTicker\"},{\"attributes\":{\"axis_label\":\"inertia\",\"bounds\":\"auto\",\"formatter\":{\"id\":\"1143\"},\"major_label_orientation\":\"horizontal\",\"ticker\":{\"id\":\"1114\"}},\"id\":\"1113\",\"type\":\"LinearAxis\"},{\"attributes\":{\"margin\":[5,5,5,5],\"name\":\"HSpacer01674\",\"sizing_mode\":\"stretch_width\"},\"id\":\"1152\",\"type\":\"Spacer\"},{\"attributes\":{},\"id\":\"1118\",\"type\":\"PanTool\"},{\"attributes\":{},\"id\":\"1105\",\"type\":\"LinearScale\"},{\"attributes\":{\"margin\":[5,5,5,5],\"name\":\"HSpacer01673\",\"sizing_mode\":\"stretch_width\"},\"id\":\"1096\",\"type\":\"Spacer\"},{\"attributes\":{\"data\":{\"inertia\":{\"__ndarray__\":\"YvoJkxYt+kaVYHYAYcoHRVNjS6z/WfREeiAWreN34UTxz/xnXvrORGxC0nMvucFEtONvS/IxtETGZDHxWkivRCIEYxOhL6dE0AeSZp7FokQ=\",\"dtype\":\"float64\",\"shape\":[10]},\"k\":[1,2,3,4,5,6,7,8,9,10]},\"selected\":{\"id\":\"1131\"},\"selection_policy\":{\"id\":\"1150\"}},\"id\":\"1130\",\"type\":\"ColumnDataSource\"},{\"attributes\":{\"axis\":{\"id\":\"1113\"},\"dimension\":1,\"grid_line_color\":null,\"ticker\":null},\"id\":\"1116\",\"type\":\"Grid\"},{\"attributes\":{\"line_alpha\":0.2,\"line_color\":\"#1f77b3\",\"line_width\":2,\"x\":{\"field\":\"k\"},\"y\":{\"field\":\"inertia\"}},\"id\":\"1135\",\"type\":\"Line\"},{\"attributes\":{},\"id\":\"1131\",\"type\":\"Selection\"},{\"attributes\":{},\"id\":\"1121\",\"type\":\"ResetTool\"},{\"attributes\":{\"source\":{\"id\":\"1130\"}},\"id\":\"1137\",\"type\":\"CDSView\"},{\"attributes\":{},\"id\":\"1117\",\"type\":\"SaveTool\"},{\"attributes\":{\"children\":[{\"id\":\"1096\"},{\"id\":\"1100\"},{\"id\":\"1152\"}],\"margin\":[0,0,0,0],\"name\":\"Row01669\",\"tags\":[\"embedded\"]},\"id\":\"1095\",\"type\":\"Row\"},{\"attributes\":{\"line_alpha\":0.1,\"line_color\":\"#1f77b3\",\"line_width\":2,\"x\":{\"field\":\"k\"},\"y\":{\"field\":\"inertia\"}},\"id\":\"1134\",\"type\":\"Line\"},{\"attributes\":{\"text\":\"Elbow Curve\",\"text_color\":{\"value\":\"black\"},\"text_font_size\":{\"value\":\"12pt\"}},\"id\":\"1101\",\"type\":\"Title\"},{\"attributes\":{\"end\":10.0,\"reset_end\":10.0,\"reset_start\":1.0,\"start\":1.0,\"tags\":[[[\"k\",\"k\",null]]]},\"id\":\"1097\",\"type\":\"Range1d\"},{\"attributes\":{\"data_source\":{\"id\":\"1130\"},\"glyph\":{\"id\":\"1133\"},\"hover_glyph\":null,\"muted_glyph\":{\"id\":\"1135\"},\"nonselection_glyph\":{\"id\":\"1134\"},\"selection_glyph\":null,\"view\":{\"id\":\"1137\"}},\"id\":\"1136\",\"type\":\"GlyphRenderer\"},{\"attributes\":{},\"id\":\"1139\",\"type\":\"BasicTickFormatter\"},{\"attributes\":{\"line_color\":\"#1f77b3\",\"line_width\":2,\"x\":{\"field\":\"k\"},\"y\":{\"field\":\"inertia\"}},\"id\":\"1133\",\"type\":\"Line\"},{\"attributes\":{\"callback\":null,\"renderers\":[{\"id\":\"1136\"}],\"tags\":[\"hv_created\"],\"tooltips\":[[\"k\",\"@{k}\"],[\"inertia\",\"@{inertia}\"]]},\"id\":\"1099\",\"type\":\"HoverTool\"},{\"attributes\":{},\"id\":\"1119\",\"type\":\"WheelZoomTool\"}],\"root_ids\":[\"1095\"]},\"title\":\"Bokeh Application\",\"version\":\"2.0.2\"}};\n",
       "  var render_items = [{\"docid\":\"310b4cec-7292-43e6-9276-f915a7f282d8\",\"root_ids\":[\"1095\"],\"roots\":{\"1095\":\"5f2f844e-7dc4-4c30-bf65-b64edac25dc9\"}}];\n",
       "  root.Bokeh.embed.embed_items_notebook(docs_json, render_items);\n",
       "  }\n",
       "if (root.Bokeh !== undefined) {\n",
       "    embed_document(root);\n",
       "  } else {\n",
       "    var attempts = 0;\n",
       "    var timer = setInterval(function(root) {\n",
       "      if (root.Bokeh !== undefined) {\n",
       "        clearInterval(timer);\n",
       "        embed_document(root);\n",
       "      } else if (document.readyState == \"complete\") {\n",
       "        attempts++;\n",
       "        if (attempts > 100) {\n",
       "          clearInterval(timer);\n",
       "          console.log(\"Bokeh: ERROR: Unable to run BokehJS code because BokehJS library is missing\");\n",
       "        }\n",
       "      }\n",
       "    }, 10, root)\n",
       "  }\n",
       "})(window);</script>"
      ],
      "text/plain": [
       ":Curve   [k]   (inertia)"
      ]
     },
     "execution_count": 65,
     "metadata": {
      "application/vnd.holoviews_exec.v0+json": {
       "id": "1095"
      }
     },
     "output_type": "execute_result"
    }
   ],
   "source": [
    "inertia = []\n",
    "k = list(range(1, 11))\n",
    "\n",
    "# Calculate the inertia for the range ok k values\n",
    "for i in k:\n",
    "    km = KMeans(n_clusters=i, random_state=0)\n",
    "    km.fit(df_crypto)\n",
    "    inertia.append(km.inertia_)\n",
    "\n",
    "# Create the Elbow Curve using hvPlot\n",
    "elbow_data = {\"k\": k, \"inertia\": inertia}\n",
    "df_elbow = pd.DataFrame(elbow_data)\n",
    "df_elbow.hvplot.line(x=\"k\", y=\"inertia\", xticks=k, title=\"Elbow Curve\")"
   ]
  },
  {
   "cell_type": "markdown",
   "metadata": {},
   "source": [
    "Running K-Means with `k=4`"
   ]
  },
  {
   "cell_type": "code",
   "execution_count": 74,
   "metadata": {},
   "outputs": [
    {
     "name": "stdout",
     "output_type": "stream",
     "text": [
      "(685, 9)\n"
     ]
    },
    {
     "data": {
      "text/html": [
       "<div>\n",
       "<style scoped>\n",
       "    .dataframe tbody tr th:only-of-type {\n",
       "        vertical-align: middle;\n",
       "    }\n",
       "\n",
       "    .dataframe tbody tr th {\n",
       "        vertical-align: top;\n",
       "    }\n",
       "\n",
       "    .dataframe thead th {\n",
       "        text-align: right;\n",
       "    }\n",
       "</style>\n",
       "<table border=\"1\" class=\"dataframe\">\n",
       "  <thead>\n",
       "    <tr style=\"text-align: right;\">\n",
       "      <th></th>\n",
       "      <th>Algorithm</th>\n",
       "      <th>ProofType</th>\n",
       "      <th>TotalCoinsMined</th>\n",
       "      <th>TotalCoinSupply</th>\n",
       "      <th>Principal Component 1</th>\n",
       "      <th>Principal Component 2</th>\n",
       "      <th>Principal Component 3</th>\n",
       "      <th>CoinName</th>\n",
       "      <th>class</th>\n",
       "    </tr>\n",
       "  </thead>\n",
       "  <tbody>\n",
       "    <tr>\n",
       "      <th>42</th>\n",
       "      <td>Scrypt</td>\n",
       "      <td>PoW/PoS</td>\n",
       "      <td>4.199995e+01</td>\n",
       "      <td>42</td>\n",
       "      <td>-1.346564e+14</td>\n",
       "      <td>-4.145018e+09</td>\n",
       "      <td>0.806590</td>\n",
       "      <td>42 Coin</td>\n",
       "      <td>0</td>\n",
       "    </tr>\n",
       "    <tr>\n",
       "      <th>404</th>\n",
       "      <td>Scrypt</td>\n",
       "      <td>PoW/PoS</td>\n",
       "      <td>1.055185e+09</td>\n",
       "      <td>532000000</td>\n",
       "      <td>-1.346558e+14</td>\n",
       "      <td>-3.089833e+09</td>\n",
       "      <td>0.806808</td>\n",
       "      <td>404Coin</td>\n",
       "      <td>0</td>\n",
       "    </tr>\n",
       "    <tr>\n",
       "      <th>808</th>\n",
       "      <td>SHA-256</td>\n",
       "      <td>PoW/PoS</td>\n",
       "      <td>0.000000e+00</td>\n",
       "      <td>0</td>\n",
       "      <td>-1.346564e+14</td>\n",
       "      <td>-4.145018e+09</td>\n",
       "      <td>0.666790</td>\n",
       "      <td>NaN</td>\n",
       "      <td>0</td>\n",
       "    </tr>\n",
       "    <tr>\n",
       "      <th>1337</th>\n",
       "      <td>X13</td>\n",
       "      <td>PoW/PoS</td>\n",
       "      <td>2.927942e+10</td>\n",
       "      <td>314159265359</td>\n",
       "      <td>-1.343422e+14</td>\n",
       "      <td>2.513442e+10</td>\n",
       "      <td>0.776956</td>\n",
       "      <td>EliteCoin</td>\n",
       "      <td>0</td>\n",
       "    </tr>\n",
       "    <tr>\n",
       "      <th>BTC</th>\n",
       "      <td>SHA-256</td>\n",
       "      <td>PoW</td>\n",
       "      <td>1.792718e+07</td>\n",
       "      <td>21000000</td>\n",
       "      <td>-1.346564e+14</td>\n",
       "      <td>-4.127091e+09</td>\n",
       "      <td>-0.723492</td>\n",
       "      <td>Bitcoin</td>\n",
       "      <td>0</td>\n",
       "    </tr>\n",
       "  </tbody>\n",
       "</table>\n",
       "</div>"
      ],
      "text/plain": [
       "     Algorithm ProofType  TotalCoinsMined TotalCoinSupply  \\\n",
       "42      Scrypt   PoW/PoS     4.199995e+01              42   \n",
       "404     Scrypt   PoW/PoS     1.055185e+09       532000000   \n",
       "808    SHA-256   PoW/PoS     0.000000e+00               0   \n",
       "1337       X13   PoW/PoS     2.927942e+10    314159265359   \n",
       "BTC    SHA-256       PoW     1.792718e+07        21000000   \n",
       "\n",
       "      Principal Component 1  Principal Component 2  Principal Component 3  \\\n",
       "42            -1.346564e+14          -4.145018e+09               0.806590   \n",
       "404           -1.346558e+14          -3.089833e+09               0.806808   \n",
       "808           -1.346564e+14          -4.145018e+09               0.666790   \n",
       "1337          -1.343422e+14           2.513442e+10               0.776956   \n",
       "BTC           -1.346564e+14          -4.127091e+09              -0.723492   \n",
       "\n",
       "       CoinName  class  \n",
       "42      42 Coin      0  \n",
       "404     404Coin      0  \n",
       "808         NaN      0  \n",
       "1337  EliteCoin      0  \n",
       "BTC     Bitcoin      0  "
      ]
     },
     "execution_count": 74,
     "metadata": {},
     "output_type": "execute_result"
    }
   ],
   "source": [
    "# Initialize the K-Means model\n",
    "model = KMeans(n_clusters=4, random_state=0)\n",
    "# Fit the model\n",
    "model.fit(df_crypto)\n",
    "# Predict clusters\n",
    "predictions = model.predict(df_crypto)\n",
    "# Create a new DataFrame including predicted clusters and cryptocurrencies features\n",
    "cluster_df = pd.concat([crypto_df_3, df_crypto], axis=1, sort=False)\n",
    "cluster_df['CoinName']=coin_name['CoinName']\n",
    "cluster_df['class']=model.labels_\n",
    "print(cluster_df.shape)\n",
    "cluster_df.head()"
   ]
  },
  {
   "cell_type": "markdown",
   "metadata": {},
   "source": [
    "### Visualizing Results\n",
    "\n",
    "#### 3D-Scatter with Clusters"
   ]
  },
  {
   "cell_type": "code",
   "execution_count": 78,
   "metadata": {},
   "outputs": [
    {
     "data": {
      "application/vnd.plotly.v1+json": {
       "config": {
        "plotlyServerURL": "https://plot.ly"
       },
       "data": [
        {
         "customdata": [
          [
           "Scrypt",
           "PoW/PoS"
          ],
          [
           "Scrypt",
           "PoW/PoS"
          ],
          [
           "SHA-256",
           "PoW/PoS"
          ],
          [
           "X13",
           "PoW/PoS"
          ],
          [
           "SHA-256",
           "PoW"
          ],
          [
           "Ethash",
           "PoW"
          ],
          [
           "Scrypt",
           "PoW"
          ],
          [
           "X11",
           "PoW/PoS"
          ],
          [
           "CryptoNight-V7",
           "PoW"
          ],
          [
           "Ethash",
           "PoW"
          ],
          [
           "Equihash",
           "PoW"
          ],
          [
           "SHA-512",
           "PoS"
          ],
          [
           "Multiple",
           "PoW"
          ],
          [
           "SHA-256",
           "PoW/PoS"
          ],
          [
           "X11",
           "PoW/PoS"
          ],
          [
           "SHA-256",
           "PoS"
          ],
          [
           "Scrypt",
           "PoW"
          ],
          [
           "X15",
           "PoW/PoS"
          ],
          [
           "X11",
           "PoW"
          ],
          [
           "SHA-256",
           "PoW"
          ],
          [
           "X13",
           "PoS"
          ],
          [
           "X13",
           "PoW/PoS"
          ],
          [
           "Scrypt",
           "PoS"
          ],
          [
           "Scrypt",
           "PoW"
          ],
          [
           "Scrypt",
           "PoW/PoS"
          ],
          [
           "SHA-256",
           "PoW"
          ],
          [
           "Scrypt",
           "PoW/PoS"
          ],
          [
           "Multiple",
           "PoW"
          ],
          [
           "Scrypt",
           "PoW"
          ],
          [
           "SHA-256",
           "PoW"
          ],
          [
           "Scrypt",
           "PoW"
          ],
          [
           "Scrypt",
           "PoW"
          ],
          [
           "Scrypt",
           "PoW/PoS"
          ],
          [
           "Quark",
           "PoW"
          ],
          [
           "Groestl",
           "PoW"
          ],
          [
           "Scrypt",
           "PoW"
          ],
          [
           "X11",
           "PoW"
          ],
          [
           "Scrypt",
           "PoW/PoS"
          ],
          [
           "Scrypt",
           "PoW"
          ],
          [
           "Scrypt",
           "PoW/PoS"
          ],
          [
           "Scrypt",
           "PoW"
          ],
          [
           "Scrypt",
           "PoW/PoS"
          ],
          [
           "Scrypt",
           "PoW"
          ],
          [
           "Multiple",
           "PoW/PoS"
          ],
          [
           "Scrypt",
           "PoS"
          ],
          [
           "X11",
           "PoW"
          ],
          [
           "Scrypt",
           "PoC"
          ],
          [
           "SHA-256",
           "PoW/PoS"
          ],
          [
           "Groestl",
           "PoW/PoS"
          ],
          [
           "Multiple",
           "PoW"
          ],
          [
           "X11",
           "PoW/PoS"
          ],
          [
           "Scrypt",
           "PoW"
          ],
          [
           "SHA-256",
           "PoW"
          ],
          [
           "Scrypt",
           "PoW"
          ],
          [
           "Scrypt",
           "PoW"
          ],
          [
           "Scrypt",
           "PoW"
          ],
          [
           "Scrypt",
           "PoW"
          ],
          [
           "Scrypt",
           "PoW"
          ],
          [
           "PoS",
           "PoS"
          ],
          [
           "Scrypt",
           "PoW"
          ],
          [
           "X11",
           "PoS"
          ],
          [
           "NIST5",
           "PoW/PoS"
          ],
          [
           "SHA-256",
           "PoW"
          ],
          [
           "Scrypt",
           "PoS/PoW/PoT"
          ],
          [
           "Scrypt",
           "PoW"
          ],
          [
           "NeoScrypt",
           "PoW"
          ],
          [
           "Scrypt",
           "PoW"
          ],
          [
           "Scrypt",
           "PoW"
          ],
          [
           "Scrypt",
           "PoW"
          ],
          [
           "X11",
           "PoW/PoS"
          ],
          [
           "X15",
           "PoW/PoS"
          ],
          [
           "Scrypt",
           "PoW/PoS"
          ],
          [
           "Multiple",
           "PoW"
          ],
          [
           "X11",
           "PoS"
          ],
          [
           "Scrypt",
           "PoW"
          ],
          [
           "X11",
           "PoW/PoS"
          ],
          [
           "SHA-256",
           "PoW"
          ],
          [
           "X11",
           "PoW/PoS"
          ],
          [
           "X13",
           "PoW/PoS"
          ],
          [
           "Scrypt",
           "PoW"
          ],
          [
           "Scrypt",
           "PoW"
          ],
          [
           "Scrypt",
           "PoW"
          ],
          [
           "Scrypt",
           "PoW"
          ],
          [
           "X11",
           "PoW/PoS"
          ],
          [
           "SHA3",
           "PoW/PoS"
          ],
          [
           "Scrypt",
           "PoW"
          ],
          [
           "HybridScryptHash256",
           "PoW"
          ],
          [
           "Scrypt",
           "PoS"
          ],
          [
           "Scrypt",
           "PoW"
          ],
          [
           "SHA-256",
           "PoW/PoS"
          ],
          [
           "Scrypt",
           "PoS"
          ],
          [
           "X13",
           "PoW/PoS"
          ],
          [
           "SHA-256",
           "PoW"
          ],
          [
           "Scrypt",
           "PoW"
          ],
          [
           "SHA-256",
           "PoW"
          ],
          [
           "Scrypt",
           "PoW"
          ],
          [
           "X13",
           "PoW/PoS"
          ],
          [
           "NeoScrypt",
           "PoW/PoS"
          ],
          [
           "Scrypt",
           "PoW/PoS"
          ],
          [
           "Scrypt",
           "PoW/PoS"
          ],
          [
           "Scrypt",
           "PoW/PoS"
          ],
          [
           "Scrypt",
           "PoW"
          ],
          [
           "Scrypt",
           "PoW"
          ],
          [
           "Scrypt",
           "PoW"
          ],
          [
           "X15",
           "PoW/PoS"
          ],
          [
           "Scrypt",
           "PoW/PoS"
          ],
          [
           "Scrypt",
           "PoW"
          ],
          [
           "Scrypt-n",
           "PoW"
          ],
          [
           "Scrypt",
           "PoW"
          ],
          [
           "X11",
           "PoS"
          ],
          [
           "X11",
           "PoW/PoS"
          ],
          [
           "SHA-256",
           "PoW"
          ],
          [
           "Multiple",
           "PoS"
          ],
          [
           "SHA-256",
           "PoW"
          ],
          [
           "PHI1612",
           "PoS"
          ],
          [
           "X11",
           "PoW/PoS"
          ],
          [
           "SHA-256",
           "PoW"
          ],
          [
           "SHA-256",
           "PoW"
          ],
          [
           "SHA-256",
           "PoW"
          ],
          [
           "SHA-256",
           "PoW"
          ],
          [
           "X11",
           "PoW"
          ],
          [
           "Scrypt",
           "PoW/PoS"
          ],
          [
           "Scrypt",
           "PoW/PoS"
          ],
          [
           "X13",
           "PoW/PoS"
          ],
          [
           "Scrypt",
           "PoW"
          ],
          [
           "X11",
           "PoW"
          ],
          [
           "Scrypt",
           "PoST"
          ],
          [
           "Lyra2REv2",
           "PoW"
          ],
          [
           "Scrypt",
           "PoW"
          ],
          [
           "Scrypt",
           "PoW/PoS"
          ],
          [
           "X11",
           "PoW/PoS"
          ],
          [
           "Multiple",
           "PoS"
          ],
          [
           "SHA-256",
           "PoW"
          ],
          [
           "X13",
           "PoW/PoS"
          ],
          [
           "Scrypt",
           "PoW/PoS"
          ],
          [
           "Scrypt",
           "PoW/PoS"
          ],
          [
           "CryptoNight",
           "PoW"
          ],
          [
           "CryptoNight",
           "PoW"
          ],
          [
           "Shabal256",
           "PoC"
          ],
          [
           "Counterparty",
           "PoS"
          ],
          [
           "Scrypt",
           "PoW"
          ],
          [
           "SHA-256",
           "PoW/PoS"
          ],
          [
           "SHA-256",
           "PoW"
          ],
          [
           "Scrypt",
           "PoS"
          ],
          [
           "Groestl",
           "PoW/PoS"
          ],
          [
           "Scrypt",
           "PoW"
          ],
          [
           "Scrypt",
           "PoS"
          ],
          [
           "Scrypt",
           "PoW"
          ],
          [
           "X13",
           "PoW/PoS"
          ],
          [
           "Scrypt",
           "PoW"
          ],
          [
           "Scrypt",
           "PoS"
          ],
          [
           "Scrypt",
           "PoW"
          ],
          [
           "SHA-256",
           "PoS"
          ],
          [
           "Scrypt",
           "PoW/PoS"
          ],
          [
           "X13",
           "PoW/PoS"
          ],
          [
           "X13",
           "PoW/PoS"
          ],
          [
           "Scrypt",
           "PoW"
          ],
          [
           "X11",
           "PoW/PoS"
          ],
          [
           "Momentum",
           "PoW"
          ],
          [
           "Stanford Folding",
           "PoW"
          ],
          [
           "X11",
           "PoS"
          ],
          [
           "Multiple",
           "PoW"
          ],
          [
           "QuBit",
           "PoW"
          ],
          [
           "X15",
           "PoW/PoS"
          ],
          [
           "Scrypt",
           "PoW"
          ],
          [
           "Scrypt",
           "PoW/PoS"
          ],
          [
           "Scrypt",
           "PoW/PoS"
          ],
          [
           "Scrypt",
           "PoW"
          ],
          [
           "SHA-256",
           "PoW"
          ],
          [
           "M7 POW",
           "PoW"
          ],
          [
           "Scrypt",
           "PoW"
          ],
          [
           "X11",
           "PoW"
          ],
          [
           "Scrypt",
           "PoW"
          ],
          [
           "SHA-256",
           "PoW"
          ],
          [
           "Scrypt",
           "PoW"
          ],
          [
           "Scrypt",
           "PoW/PoS"
          ],
          [
           "X11",
           "PoW/PoS"
          ],
          [
           "X11",
           "PoW"
          ],
          [
           "SHA3",
           "PoW/nPoS"
          ],
          [
           "X11",
           "PoW"
          ],
          [
           "Scrypt",
           "PoW/PoS"
          ],
          [
           "Lyra2RE",
           "PoW"
          ],
          [
           "SHA-256",
           "PoW"
          ],
          [
           "QUAIT",
           "PoW/PoS"
          ],
          [
           "X11",
           "PoW"
          ],
          [
           "vDPOS",
           "PoS"
          ],
          [
           "X11",
           "PoS/PoW"
          ],
          [
           "X11",
           "PoW/PoS"
          ],
          [
           "Scrypt",
           "PoW"
          ],
          [
           "Scrypt",
           "PoW"
          ],
          [
           "Scrypt",
           "PoS"
          ],
          [
           "Ethash",
           "PoW"
          ],
          [
           "X11",
           "PoS"
          ],
          [
           "X13",
           "PoW/PoS"
          ],
          [
           "Blake2b",
           "PoW"
          ],
          [
           "SHA-256",
           "PoW/PoS"
          ],
          [
           "X13",
           "PoS"
          ],
          [
           "X15",
           "PoW/PoS"
          ],
          [
           "X11",
           "PoW"
          ],
          [
           "SHA-256",
           "PoW"
          ],
          [
           "BLAKE256",
           "PoW/PoS"
          ],
          [
           "Scrypt",
           "PoW"
          ],
          [
           "Scrypt",
           "PoW"
          ],
          [
           "1GB AES Pattern Search",
           "PoW"
          ],
          [
           "SHA-256",
           "PoW/PoS"
          ],
          [
           "X11",
           "PoW/PoS"
          ],
          [
           "Scrypt",
           "PoW"
          ],
          [
           "CryptoNight",
           "PoW"
          ],
          [
           "SHA-256",
           "PoW/PoS"
          ],
          [
           "Quark",
           "PoW/PoS"
          ],
          [
           "SHA-256",
           "PoW"
          ],
          [
           "NIST5",
           "PoW/PoS"
          ],
          [
           "Blake",
           "PoS"
          ],
          [
           "Scrypt",
           "PoW/PoS"
          ],
          [
           "Scrypt",
           "PoW/PoS"
          ],
          [
           "SHA-256",
           "PoW"
          ],
          [
           "X11",
           "PoW"
          ],
          [
           "Scrypt",
           "PoS"
          ],
          [
           "Scrypt-n",
           "PoW"
          ],
          [
           "X11",
           "PoW"
          ],
          [
           "Scrypt",
           "PoW"
          ],
          [
           "Dagger",
           "PoW"
          ],
          [
           "Scrypt",
           "PoW"
          ],
          [
           "SHA-256",
           "PoW/PoS"
          ],
          [
           "CryptoNight-Lite",
           "PoW"
          ],
          [
           "X11GOST",
           "PoW"
          ],
          [
           "X11",
           "PoW/PoS"
          ],
          [
           "SHA-256",
           "PoW"
          ],
          [
           "Scrypt",
           "PoS"
          ],
          [
           "SHA-256",
           "PoW/PoS"
          ],
          [
           "Scrypt",
           "PoC"
          ],
          [
           "PoS",
           "PoS"
          ],
          [
           "Scrypt",
           "PoW"
          ],
          [
           "X11",
           "PoW"
          ],
          [
           "X11",
           "PoW/PoS"
          ],
          [
           "X11",
           "PoW/PoS"
          ],
          [
           "X11",
           "PoW/PoS"
          ],
          [
           "PoS",
           "PoS"
          ],
          [
           "SHA-256",
           "PoW/PoS"
          ],
          [
           "SHA-256",
           "PoW"
          ],
          [
           "SHA-256",
           "PoW/PoS"
          ],
          [
           "NIST5",
           "PoW/PoS"
          ],
          [
           "X15",
           "PoW/PoS"
          ],
          [
           "X11",
           "PoW/PoS"
          ],
          [
           "NIST5",
           "PoW/PoS"
          ],
          [
           "Scrypt",
           "PoW/PoS"
          ],
          [
           "Scrypt",
           "PoW/PoS"
          ],
          [
           "Scrypt",
           "PoW"
          ],
          [
           "POS 3.0",
           "PoS"
          ],
          [
           "Scrypt",
           "PoW/PoS"
          ],
          [
           "Scrypt",
           "PoW/PoS"
          ],
          [
           "Scrypt",
           "PoW/PoS"
          ],
          [
           "X13",
           "PoS"
          ],
          [
           "X11",
           "PoW"
          ],
          [
           "X11",
           "PoS"
          ],
          [
           "Equihash",
           "dPoW/PoW"
          ],
          [
           "X11",
           "PoW/PoS"
          ],
          [
           "X11",
           "PoS"
          ],
          [
           "Scrypt",
           "PoW/PoS"
          ],
          [
           "CryptoNight",
           "PoW"
          ],
          [
           "SHA-256",
           "PoW/PoS"
          ],
          [
           "SHA-256",
           "PoW"
          ],
          [
           "X11",
           "PoW/PoS"
          ],
          [
           "Scrypt",
           "PoW/PoS"
          ],
          [
           "Multiple",
           "PoW"
          ],
          [
           "Scrypt",
           "PoW/PoS"
          ],
          [
           "Scrypt",
           "PoW"
          ],
          [
           "X11",
           "PoW/PoS"
          ],
          [
           "Scrypt",
           "PoS"
          ],
          [
           "SHA-256",
           "PoW"
          ],
          [
           "Scrypt",
           "PoW/PoW"
          ],
          [
           "Scrypt",
           "PoW"
          ],
          [
           "SHA-256D",
           "PoW/PoS"
          ],
          [
           "PoS",
           "PoS"
          ],
          [
           "Scrypt",
           "PoW/PoS"
          ],
          [
           "Scrypt",
           "PoW"
          ],
          [
           "X11",
           "PoW/PoS"
          ],
          [
           "Scrypt-n",
           "PoW"
          ],
          [
           "Lyra2Z",
           "PoW"
          ],
          [
           "SHA-256",
           "PoW"
          ],
          [
           "PoS",
           "PoS"
          ],
          [
           "X13",
           "PoS"
          ],
          [
           "Quark",
           "PoW"
          ],
          [
           "X14",
           "PoW/PoS"
          ],
          [
           "PoS",
           "PoS"
          ],
          [
           "SHA-256D",
           "PoW/PoS"
          ],
          [
           "Ethash",
           "PoW"
          ],
          [
           "SHA-256",
           "PoW"
          ],
          [
           "Equihash",
           "PoW"
          ],
          [
           "DPoS",
           "DPoS"
          ],
          [
           "X11",
           "PoW/PoS"
          ],
          [
           "Scrypt",
           "PoW/PoS"
          ],
          [
           "Scrypt",
           "PoW"
          ],
          [
           "Equihash",
           "PoW"
          ],
          [
           "X11",
           "PoW"
          ],
          [
           "X13",
           "PoW/PoS"
          ],
          [
           "X11",
           "PoW/PoS"
          ],
          [
           "PoS",
           "PoS"
          ],
          [
           "SHA-256D",
           "PoW/PoS"
          ],
          [
           "Scrypt",
           "PoW/PoS"
          ],
          [
           "Scrypt",
           "PoW/PoS"
          ],
          [
           "Scrypt",
           "PoW/PoS"
          ],
          [
           "X11",
           "PoW"
          ],
          [
           "PoS",
           "PoS"
          ],
          [
           "X11",
           "PoW/PoS"
          ],
          [
           "SHA-256",
           "PoW/PoS"
          ],
          [
           "Scrypt",
           "PoW/PoS"
          ],
          [
           "X11",
           "TPoS"
          ],
          [
           "Scrypt",
           "PoW/PoS"
          ],
          [
           "Scrypt",
           "PoW/PoS"
          ],
          [
           "X11",
           "PoW/PoS"
          ],
          [
           "CryptoNight",
           "PoW"
          ],
          [
           "Scrypt",
           "PoW/PoS"
          ],
          [
           "Scrypt",
           "PoS"
          ],
          [
           "Scrypt",
           "PoW/PoS"
          ],
          [
           "Scrypt",
           "PoW/PoS"
          ],
          [
           "Quark",
           "PoS"
          ],
          [
           "QuBit",
           "PoW/PoS"
          ],
          [
           "Scrypt",
           "PoW"
          ],
          [
           "CryptoNight",
           "PoW"
          ],
          [
           "X11",
           "PoW/PoS"
          ],
          [
           "Lyra2RE",
           "PoW"
          ],
          [
           "X13",
           "PoW/PoS"
          ],
          [
           "PoS",
           "PoS"
          ],
          [
           "Scrypt",
           "PoW/PoS"
          ],
          [
           "SHA-256",
           "PoW/PoS"
          ],
          [
           "X11",
           "PoW/PoS"
          ],
          [
           "X11",
           "PoW/PoS"
          ],
          [
           "X11",
           "PoW"
          ],
          [
           "Scrypt",
           "PoW/PoS"
          ],
          [
           "X11",
           "PoW"
          ],
          [
           "Scrypt",
           "PoW/PoS"
          ],
          [
           "Scrypt",
           "PoW"
          ],
          [
           "CryptoNight-V7",
           "PoW"
          ],
          [
           "Scrypt",
           "PoS"
          ],
          [
           "Scrypt",
           "PoW/PoS "
          ],
          [
           "Keccak",
           "PoW"
          ],
          [
           "Scrypt",
           "PoW"
          ],
          [
           "X13",
           "PoS"
          ],
          [
           "X11",
           "PoW"
          ],
          [
           "Equihash",
           "PoW"
          ],
          [
           "Scrypt",
           "PoW/PoS"
          ],
          [
           "Scrypt",
           "PoW"
          ],
          [
           "Lyra2RE",
           "PoW"
          ],
          [
           "Ethash",
           "PoW"
          ],
          [
           "X11",
           "PoW"
          ],
          [
           "Scrypt",
           "PoS"
          ],
          [
           "Dagger-Hashimoto",
           "PoW"
          ],
          [
           "X11",
           "PoW/PoS"
          ],
          [
           "Blake2S",
           "PoW/PoS"
          ],
          [
           "X11",
           "PoW/PoS"
          ],
          [
           "Scrypt",
           "PoW"
          ],
          [
           "Scrypt",
           "PoS"
          ],
          [
           "PoS",
           "PoS"
          ],
          [
           "X11",
           "PoW/PoS"
          ],
          [
           "NIST5",
           "PoW"
          ],
          [
           "PoS",
           "PoS"
          ],
          [
           "X11",
           "PoW/PoS"
          ],
          [
           "Scrypt",
           "PoW/PoS"
          ],
          [
           "Scrypt",
           "PoW/PoS"
          ],
          [
           "Scrypt",
           "PoW/PoS"
          ],
          [
           "Scrypt",
           "PoW"
          ],
          [
           "SHA-256",
           "PoS"
          ],
          [
           "X11",
           "PoW/PoS"
          ],
          [
           "Scrypt",
           "PoW"
          ],
          [
           "Scrypt",
           "PoW"
          ],
          [
           "Scrypt",
           "PoS"
          ],
          [
           "SHA-256",
           "PoW"
          ],
          [
           "PoS",
           "PoS"
          ],
          [
           "Scrypt",
           "PoW/PoS"
          ],
          [
           "X11",
           "PoW/PoS"
          ],
          [
           "X15",
           "PoW/PoS"
          ],
          [
           "SHA-256",
           "PoS"
          ],
          [
           "Scrypt",
           "PoW"
          ],
          [
           "POS 3.0",
           "PoS"
          ],
          [
           "CryptoNight-V7",
           "PoW"
          ],
          [
           "536",
           "PoW/PoS"
          ],
          [
           "Argon2d",
           "PoW"
          ],
          [
           "Blake2b",
           "PoW"
          ],
          [
           "Cloverhash",
           "PoW"
          ],
          [
           "CryptoNight",
           "PoW"
          ],
          [
           "NIST5",
           "PoW/PoS"
          ],
          [
           "X11",
           "PoW"
          ],
          [
           "NIST5",
           "PoW/PoS"
          ],
          [
           "Skein",
           "PoW/PoS"
          ],
          [
           "Scrypt",
           "PoW"
          ],
          [
           "X13",
           "PoW/PoS"
          ],
          [
           "Scrypt",
           "PoW"
          ],
          [
           "X11",
           "PoW/PoS"
          ],
          [
           "X11",
           "PoW"
          ],
          [
           "X11",
           "PoW"
          ],
          [
           "Scrypt",
           "PoW/PoS"
          ],
          [
           "CryptoNight",
           "PoW"
          ],
          [
           "X13",
           "PoW/PoS"
          ],
          [
           "Time Travel",
           "PoW"
          ],
          [
           "Scrypt",
           "PoW"
          ],
          [
           "Keccak",
           "PoW"
          ],
          [
           "SkunkHash v2 Raptor",
           "PoS"
          ],
          [
           "X11",
           "PoW"
          ],
          [
           "Skein",
           "PoW/PoS"
          ],
          [
           "SHA-256",
           "PoW"
          ],
          [
           "X11",
           "PoW/PoS"
          ],
          [
           "Scrypt",
           "PoW"
          ],
          [
           "Scrypt",
           "PoS"
          ],
          [
           "VeChainThor Authority",
           "Proof of Authority"
          ],
          [
           "Scrypt",
           "PoW"
          ],
          [
           "PoS",
           "PoS"
          ],
          [
           "Scrypt",
           "PoW"
          ],
          [
           "Scrypt",
           "PoW"
          ],
          [
           "Scrypt",
           "PoW"
          ],
          [
           "Scrypt",
           "PoW"
          ],
          [
           "Scrypt",
           "PoW"
          ],
          [
           "Scrypt",
           "PoW"
          ],
          [
           "Scrypt",
           "PoW/PoS"
          ],
          [
           "Scrypt",
           "PoW/PoS"
          ],
          [
           "CryptoNight",
           "PoW"
          ],
          [
           "SHA-512",
           "PoS"
          ],
          [
           "Ouroboros",
           "PoS"
          ],
          [
           "X11",
           "PoW/PoS"
          ],
          [
           "Equihash",
           "PoW"
          ],
          [
           "NeoScrypt",
           "PoW/PoS"
          ],
          [
           "X11",
           "PoW"
          ],
          [
           "Scrypt",
           "PoW/PoS"
          ],
          [
           "NeoScrypt",
           "PoW"
          ],
          [
           "Lyra2REv2",
           "PoS"
          ],
          [
           "Equihash",
           "PoW"
          ],
          [
           "Scrypt",
           "PoW/PoS"
          ],
          [
           "SHA-256",
           "PoW/PoS"
          ],
          [
           "NIST5",
           "PoW/PoS"
          ],
          [
           "PHI1612",
           "PoW/PoS"
          ],
          [
           "Dagger",
           "PoW"
          ],
          [
           "Scrypt",
           "PoW/PoS"
          ],
          [
           "Quark",
           "PoW/PoS"
          ],
          [
           "Scrypt",
           "PoW"
          ],
          [
           "POS 2.0",
           "PoS"
          ],
          [
           "Scrypt",
           "PoW/PoS"
          ],
          [
           "SkunkHash",
           "PoW/PoS"
          ],
          [
           "X11",
           "PoW/PoS"
          ],
          [
           "Quark",
           "PoS"
          ],
          [
           "SHA-256",
           "PoS"
          ],
          [
           "X11",
           "PoW"
          ],
          [
           "NeoScrypt",
           "PoW"
          ],
          [
           "Scrypt",
           "PoW"
          ],
          [
           "Ethash",
           "PoW"
          ],
          [
           "Scrypt",
           "PoW"
          ],
          [
           "NeoScrypt",
           "PoW"
          ],
          [
           "Quark",
           "DPoS"
          ],
          [
           "X11",
           "PoW/PoS"
          ],
          [
           "DPoS",
           "DPoS"
          ],
          [
           "NIST5",
           "PoW/PoS"
          ],
          [
           "X13",
           "PoW/PoS"
          ],
          [
           "Multiple",
           "PoW"
          ],
          [
           "Scrypt",
           "PoW/PoS"
          ],
          [
           "CryptoNight",
           "PoW"
          ],
          [
           "CryptoNight",
           "PoW"
          ],
          [
           "Ethash",
           "PoW"
          ],
          [
           "NIST5",
           "PoS"
          ],
          [
           "Quark",
           "PoS"
          ],
          [
           "X11",
           "PoW"
          ],
          [
           "SHA-256",
           "PoW"
          ],
          [
           "CryptoNight-V7",
           "PoW"
          ],
          [
           "Scrypt",
           "PoW/PoS"
          ],
          [
           "Scrypt",
           "PoW/PoS"
          ],
          [
           "Scrypt",
           "PoW"
          ],
          [
           "X11",
           "PoW/PoS"
          ],
          [
           "SHA-256",
           "PoW/PoS"
          ],
          [
           "BLAKE256",
           "PoW"
          ],
          [
           "X11",
           "PoW"
          ],
          [
           "Scrypt",
           "PoW/PoS"
          ],
          [
           "NeoScrypt",
           "PoW"
          ],
          [
           "Quark",
           "PoS"
          ],
          [
           "NeoScrypt",
           "PoW"
          ],
          [
           "Scrypt",
           "PoW"
          ],
          [
           "Scrypt",
           "PoW/PoS"
          ],
          [
           "Scrypt",
           "PoW/PoS"
          ],
          [
           "X11",
           "PoS"
          ],
          [
           "X11",
           "PoW"
          ],
          [
           "SHA-256",
           "PoW"
          ],
          [
           "C11",
           "PoW"
          ],
          [
           "Scrypt",
           "PoW/PoS"
          ],
          [
           "POS 3.0",
           "PoS"
          ],
          [
           "Ethash",
           "PoS"
          ],
          [
           "Scrypt",
           "PoW and PoS"
          ],
          [
           "SkunkHash",
           "PoW"
          ],
          [
           "Scrypt",
           "PoW/PoS"
          ],
          [
           "CryptoNight",
           "PoW"
          ],
          [
           "Equihash",
           "PoW"
          ],
          [
           "Skein",
           "PoW"
          ],
          [
           "Scrypt",
           "PoW"
          ],
          [
           "Dagger",
           "PoW"
          ],
          [
           "Lyra2REv2",
           "PoW"
          ],
          [
           "X13",
           "PoS"
          ],
          [
           "Proof-of-BibleHash",
           "POBh"
          ],
          [
           "SHA-256 + Hive",
           "PoW + Hive"
          ],
          [
           "Scrypt",
           "PoW"
          ],
          [
           "Scrypt",
           "PoW"
          ],
          [
           "Scrypt",
           "PoW"
          ],
          [
           "NeoScrypt",
           "PoW"
          ],
          [
           "Equihash",
           "PoW"
          ],
          [
           "X11",
           "PoW"
          ],
          [
           "C11",
           "PoW/PoS"
          ],
          [
           "Proof-of-Authority",
           "PoA"
          ],
          [
           "X11",
           "PoW/PoS"
          ],
          [
           "XEVAN",
           "PoW/PoS"
          ],
          [
           "Scrypt",
           "PoS"
          ],
          [
           "VBFT",
           "PoS"
          ],
          [
           "Ethash",
           "PoW"
          ],
          [
           "X11",
           "PoW"
          ],
          [
           "CryptoNight",
           "PoW"
          ],
          [
           "NeoScrypt",
           "PoW"
          ],
          [
           "Scrypt",
           "PoW"
          ],
          [
           "IMesh",
           "PoW"
          ],
          [
           "NIST5",
           "PoW/PoS"
          ],
          [
           "Equihash",
           "PoW"
          ],
          [
           "Scrypt",
           "PoW/PoS"
          ],
          [
           "Scrypt",
           "PoW/PoS"
          ],
          [
           "Equihash",
           "PoW"
          ],
          [
           "Equihash",
           "PoW"
          ],
          [
           "Scrypt",
           "PoS"
          ],
          [
           "Lyra2Z",
           "PoW"
          ],
          [
           "Equihash",
           "PoW/PoS"
          ],
          [
           "Green Protocol",
           "PoS"
          ],
          [
           "PoS",
           "PoS"
          ],
          [
           "Scrypt",
           "PoW/PoS"
          ],
          [
           "Scrypt",
           "PoW/PoS"
          ],
          [
           "Semux BFT consensus",
           "DPoS"
          ],
          [
           "Scrypt",
           "PoW/PoS"
          ],
          [
           "X11",
           "PoW"
          ],
          [
           "Quark",
           "PoW/PoS"
          ],
          [
           "PoS",
           "PoS"
          ],
          [
           "CryptoNight",
           "PoW"
          ],
          [
           "X16R",
           "PoS"
          ],
          [
           "Scrypt",
           "PoW/PoS"
          ],
          [
           "NIST5",
           "PoW"
          ],
          [
           "Lyra2RE",
           "PoW"
          ],
          [
           "XEVAN",
           "PoS/PoW"
          ],
          [
           "Tribus",
           "PoW"
          ],
          [
           "Scrypt",
           "PoS"
          ],
          [
           "Lyra2Z",
           "PoW"
          ],
          [
           "CryptoNight",
           "PoW"
          ],
          [
           "CryptoNight Heavy",
           "PoW"
          ],
          [
           "CryptoNight",
           "PoW"
          ],
          [
           "Scrypt",
           "PoW/PoS"
          ],
          [
           "Scrypt",
           "PoS"
          ],
          [
           "Jump Consistent Hash",
           "PoW"
          ],
          [
           "SHA-256D",
           "PoW/PoS"
          ],
          [
           "CryptoNight",
           "PoW"
          ],
          [
           "Scrypt",
           "PoW/PoS"
          ],
          [
           "X15",
           "PoS"
          ],
          [
           "Scrypt",
           "HPoW"
          ],
          [
           "Quark",
           "PoS"
          ],
          [
           "SHA-256",
           "PoS"
          ],
          [
           "DPoS",
           "PoS"
          ],
          [
           "X16R",
           "PoW"
          ],
          [
           "HMQ1725",
           "PoW"
          ],
          [
           "X11",
           "PoW"
          ],
          [
           "X16R",
           "PoW/PoS"
          ],
          [
           "Quark",
           "PoS"
          ],
          [
           "Quark",
           "PoW/PoS"
          ],
          [
           "Scrypt",
           "PoS"
          ],
          [
           "Zhash",
           "PoW/PoS"
          ],
          [
           "Lyra2REv2",
           "PoW/PoS"
          ],
          [
           "Quark",
           "PoS"
          ],
          [
           "Scrypt",
           "PoW"
          ],
          [
           "Scrypt",
           "PoW/PoS"
          ],
          [
           "CryptoNight-V7",
           "PoW"
          ],
          [
           "Cryptonight-GPU",
           "PoW"
          ],
          [
           "Scrypt",
           "PoW/PoS"
          ],
          [
           "XEVAN",
           "PoW"
          ],
          [
           "CryptoNight Heavy",
           "PoW"
          ],
          [
           "X11",
           "PoS"
          ],
          [
           "X11",
           "PoW/PoS"
          ],
          [
           "Scrypt",
           "PoS"
          ],
          [
           "PoS",
           "PoS"
          ],
          [
           "Lyra2REv2",
           "PoW"
          ],
          [
           "Scrypt",
           "PoS"
          ],
          [
           "SHA-256",
           "PoW"
          ],
          [
           "Scrypt",
           "PoS"
          ],
          [
           "Keccak",
           "PoW/PoS"
          ],
          [
           "X11",
           "PoS"
          ],
          [
           "X11",
           "PoW"
          ],
          [
           "Quark",
           "PoW/PoS"
          ],
          [
           "Scrypt",
           "PoW/PoS"
          ],
          [
           "SHA-512",
           "Zero-Knowledge Proof"
          ],
          [
           "X16R",
           "PoW"
          ],
          [
           "ECC 256K1",
           "DPOS"
          ],
          [
           "NeoScrypt",
           "PoW/PoS"
          ],
          [
           "Equihash",
           "PoW"
          ],
          [
           "XEVAN",
           "PoS"
          ],
          [
           "Quark",
           "PoW"
          ],
          [
           "CryptoNight Heavy X",
           "PoW"
          ],
          [
           "Lyra2Z",
           "PoW"
          ],
          [
           "Ethash",
           "PoW"
          ],
          [
           "SHA-256",
           "PoW"
          ],
          [
           "XEVAN",
           "Pos"
          ],
          [
           "Ethash",
           "PoW"
          ],
          [
           "X11",
           "PoS"
          ],
          [
           "CryptoNight",
           "PoW"
          ],
          [
           "Quark",
           "POS / MN"
          ],
          [
           "SkunkHash",
           "PoW"
          ],
          [
           "Quark",
           "PoW/PoS"
          ],
          [
           "Argon2",
           "PoW"
          ],
          [
           "Blake",
           "PoW"
          ],
          [
           "Blake",
           "PoW"
          ],
          [
           "SHA-256",
           "PoW"
          ],
          [
           "Equihash",
           "PoS"
          ],
          [
           "Exosis",
           "PoW"
          ],
          [
           "Scrypt",
           "PoW"
          ],
          [
           "Scrypt",
           "PoW/PoS"
          ],
          [
           "Equihash",
           "PoW"
          ],
          [
           "Quark",
           "PoW/PoS"
          ],
          [
           "Equihash",
           "PoW"
          ],
          [
           "Quark",
           "PoS"
          ],
          [
           "Scrypt",
           "PoW/PoS"
          ],
          [
           "QuBit",
           "PoW"
          ],
          [
           "X11",
           "PoS"
          ],
          [
           "Scrypt",
           "PoW/PoS"
          ],
          [
           "Equihash1927",
           "PoW"
          ],
          [
           "XEVAN",
           "PoW/PoS"
          ],
          [
           "SHA-256D",
           "PoW/PoS"
          ],
          [
           "X11",
           "PoW/PoS"
          ],
          [
           "SHA-256",
           "PoW"
          ],
          [
           "SHA-256",
           "PoW"
          ],
          [
           "X13",
           "PoW"
          ],
          [
           "SHA-256",
           "PoW"
          ],
          [
           "X11",
           "PoW/PoS"
          ],
          [
           "DPoS",
           "DPoS"
          ],
          [
           "X11",
           "PoS"
          ],
          [
           "Scrypt",
           "PoW/PoS"
          ],
          [
           "X11",
           "PoW"
          ],
          [
           "Scrypt",
           "PoW"
          ],
          [
           "X11",
           "PoW/PoS"
          ],
          [
           "NeoScrypt",
           "PoW"
          ],
          [
           "QuBit",
           "PoW/PoS"
          ],
          [
           "Scrypt",
           "PoW/PoS"
          ],
          [
           "Blake",
           "PoW"
          ],
          [
           "Scrypt",
           "PoW/PoS"
          ],
          [
           "SHA-256",
           "PoS"
          ],
          [
           "Scrypt",
           "PoW/PoS"
          ],
          [
           "X11",
           "PoW/PoS"
          ],
          [
           "CryptoNight",
           "PoW"
          ],
          [
           "Scrypt",
           "PoW"
          ],
          [
           "Scrypt",
           "PoW/PoS"
          ],
          [
           "SHA-256",
           "PoW/PoS"
          ],
          [
           "X11",
           "PoW/PoS"
          ],
          [
           "SHA-256",
           "PoW"
          ],
          [
           "Scrypt",
           "PoW/PoS"
          ],
          [
           "CryptoNight",
           "PoW"
          ],
          [
           "Scrypt",
           "PoW"
          ],
          [
           "SHA-256",
           "PoW/PoS"
          ],
          [
           "Scrypt",
           "PoW/PoS"
          ],
          [
           "Groestl",
           "PoW"
          ],
          [
           "X11",
           "PoW/PoS"
          ],
          [
           "Scrypt",
           "PoW/PoS"
          ],
          [
           "PoS",
           "PoS"
          ],
          [
           "Scrypt",
           "PoW"
          ],
          [
           "Scrypt",
           "PoW"
          ],
          [
           "X11",
           "Proof of Trust"
          ],
          [
           "SHA-256",
           "PoW/PoS"
          ],
          [
           "DPoS",
           "DPoS"
          ],
          [
           "Scrypt",
           "PoS"
          ],
          [
           "Scrypt",
           "PoW/PoS"
          ],
          [
           "Scrypt",
           "PoW"
          ],
          [
           "NeoScrypt",
           "PoW/PoS"
          ],
          [
           "Scrypt",
           "PoW/PoS"
          ],
          [
           "SHA3-256",
           "DPoC"
          ],
          [
           "Multiple",
           "PoW"
          ],
          [
           "X13",
           "PoW/PoS"
          ],
          [
           "Equihash+Scrypt",
           "PoW"
          ],
          [
           "DPoS",
           "DPoS"
          ],
          [
           "Ethash",
           "PoW"
          ],
          [
           "DPoS",
           "DPoS"
          ],
          [
           "Ethash",
           "PoW"
          ],
          [
           "SHA-256",
           "PoS"
          ],
          [
           "Leased POS",
           "LPoS"
          ],
          [
           "PoS",
           "PoS"
          ],
          [
           "PoS",
           "PoS/LPoS"
          ],
          [
           "SHA-256",
           "DPoS"
          ],
          [
           "Scrypt",
           "PoW/PoS"
          ],
          [
           "CryptoNight",
           "PoW"
          ],
          [
           "Equihash",
           "PoW"
          ],
          [
           "Scrypt",
           "PoS"
          ]
         ],
         "hovertemplate": "<b>%{hovertext}</b><br><br>class=%{marker.color}<br>Principal Component 1=%{x}<br>Principal Component 2=%{y}<br>Principal Component 3=%{z}<br>Algorithm=%{customdata[0]}<br>ProofType=%{customdata[1]}<extra></extra>",
         "hovertext": [
          "42 Coin",
          "404Coin",
          null,
          "EliteCoin",
          "Bitcoin",
          "Ethereum",
          "Litecoin",
          "Dash",
          "Monero",
          "Ethereum Classic",
          "ZCash",
          "Bitshares",
          "DigiByte",
          "BitcoinDark",
          null,
          "PayCoin",
          "ProsperCoin",
          "KoboCoin",
          "Spreadcoin",
          null,
          null,
          null,
          null,
          "Argentum",
          "Aurora Coin",
          null,
          "BlueCoin",
          "MyriadCoin",
          "MoonCoin",
          "ZetaCoin",
          "SexCoin",
          "Quatloo",
          "EnergyCoin",
          "QuarkCoin",
          "Riecoin",
          "Digitalcoin ",
          null,
          "BitBar",
          null,
          null,
          "Catcoin",
          "CryptoBullion",
          "CannaCoin",
          null,
          null,
          "CryptCoin",
          "CasinoCoin",
          null,
          "Diamond",
          "Verge",
          null,
          null,
          "DevCoin",
          "EarthCoin",
          "E-Gulden",
          null,
          "Einsteinium",
          "Emerald",
          "Exclusive Coin",
          null,
          null,
          null,
          null,
          "FlutterCoin",
          "Franko",
          "FeatherCoin",
          "GrandCoin",
          "GlobalCoin",
          "GoldCoin",
          null,
          null,
          "HoboNickels",
          null,
          "HyperStake",
          "Infinite Coin",
          "IOCoin",
          "IXcoin",
          null,
          null,
          "KrugerCoin",
          "LuckyCoin",
          "Litebar ",
          null,
          null,
          "MaxCoin",
          "MegaCoin",
          "MediterraneanCoin",
          "MintCoin",
          "MinCoin",
          "MazaCoin",
          "Nautilus Coin",
          "NavCoin",
          null,
          "NobleCoin",
          "Namecoin",
          "NyanCoin",
          "OpalCoin",
          "Orbitcoin",
          "PotCoin",
          "PhoenixCoin",
          "Reddcoin",
          null,
          "RonPaulCoin",
          "StableCoin",
          null,
          null,
          "SmartCoin",
          null,
          null,
          "SuperCoin",
          "SyncCoin",
          "SysCoin",
          "TeslaCoin",
          "TigerCoin",
          "TittieCoin",
          "TorCoin",
          "TerraCoin",
          null,
          "UnbreakableCoin",
          "Unobtanium",
          "UroCoin",
          "UnitaryStatus Dollar",
          "UltraCoin",
          null,
          "ViaCoin",
          null,
          "VeriCoin",
          "Vertcoin",
          "WorldCoin",
          null,
          "X11 Coin",
          "Crypti",
          "JouleCoin",
          "StealthCoin",
          null,
          "ZCC Coin",
          "ByteCoin",
          "DigitalNote ",
          "BurstCoin",
          "StorjCoin",
          "MonaCoin",
          "Neutron",
          null,
          null,
          "FairCoin",
          "Gulden",
          "RubyCoin",
          "PesetaCoin",
          "Kore",
          "Wild Beast Coin",
          "Dnotes",
          "Flo",
          null,
          "8BIT Coin",
          "Sativa Coin",
          null,
          "ArtByte",
          null,
          null,
          "Folding Coin",
          "Ucoin",
          "Unitus",
          "CypherPunkCoin",
          null,
          "OmniCron",
          null,
          "Vtorrent",
          "GreenCoin",
          null,
          "Cryptonite",
          null,
          null,
          "MasterCoin",
          "SoonCoin",
          "1Credit",
          null,
          "IslaCoin",
          null,
          "Nexus",
          "MarsCoin ",
          null,
          "Crypto",
          "Anarchists Prime",
          "Droidz",
          "BowsCoin",
          null,
          "Squall Coin",
          null,
          "Song Coin",
          "BitZeny",
          "Diggits",
          "Expanse",
          null,
          "Paycon",
          "Siacoin",
          "Emercoin",
          null,
          "EverGreenCoin",
          "MindCoin",
          "I0coin",
          "Decred",
          null,
          "Revolution VR",
          "HOdlcoin",
          "EDRCoin",
          "Hitcoin",
          "Gamecredits",
          null,
          "DubaiCoin",
          null,
          "CarpeDiemCoin",
          "PWR Coin",
          null,
          "BillaryCoin",
          null,
          null,
          null,
          "GPU Coin",
          null,
          "Adzcoin",
          null,
          "SoilCoin",
          "YoCoin",
          null,
          null,
          "SibCoin",
          "EuropeCoin",
          null,
          "ZeitCoin",
          "SwingCoin",
          "SafeExchangeCoin",
          "Nebuchadnezzar",
          "Francs",
          "BolivarCoin",
          null,
          null,
          "Ratecoin",
          null,
          "Revenu",
          null,
          "Clockcoin",
          "VIP Tokens",
          null,
          "BitSend",
          null,
          null,
          null,
          "Omni",
          "Let it Ride",
          "PutinCoin",
          "iBankCoin",
          "Frankywillcoin",
          "MudraCoin",
          "PizzaCoin",
          "Lutetium Coin",
          "Komodo",
          "GoldBlocks",
          null,
          "CarterCoin",
          "Karbo",
          "BitTokens",
          "ZayedCoin",
          "MustangCoin",
          "ZoneCoin",
          "Circuits of Value",
          "RootCoin",
          "DopeCoin",
          null,
          "BitCurrency",
          "DollarCoin",
          "Swiscoin",
          "Shilling",
          "BuzzCoin",
          "Opair",
          "PesoBit",
          null,
          "Halloween Coin",
          null,
          "ZCoin",
          null,
          "CoffeeCoin",
          "RoyalCoin",
          null,
          "GanjaCoin V2",
          "TeamUP",
          "LanaCoin",
          "Elementrem",
          null,
          "ZClassic",
          "ARK",
          "InsaneCoin",
          null,
          "KiloCoin",
          null,
          "ArtexCoin",
          "EmberCoin",
          "XenixCoin",
          "FreeCoin",
          null,
          "PLNCoin",
          null,
          "AquariusCoin",
          "Kurrent",
          "Creatio",
          "Eternity",
          "Eurocoin",
          "BitcoinFast",
          "Stakenet",
          "BitConnect Coin",
          "MoneyCoin",
          "Enigma",
          "Cannabis Industry Coin",
          "Russiacoin",
          "PandaCoin",
          "GameUnits",
          "GAKHcoin",
          "Allsafe",
          "LiteCreed",
          "OsmiumCoin",
          "Bikercoins",
          null,
          "HexxCoin",
          null,
          null,
          "Klingon Empire Darsek",
          "Internet of People",
          "KushCoin",
          null,
          null,
          "Printerium",
          "PacCoin",
          "Impeach",
          null,
          "Citadel",
          "Zilbercoin",
          "FirstCoin",
          null,
          "BeaverCoin",
          "FindCoin",
          "VaultCoin",
          "Zero",
          "OpenChat",
          "Canada eCoin",
          "Zoin",
          null,
          null,
          "RenosCoin",
          "DubaiCoin",
          "VirtacoinPlus",
          "TajCoin",
          "Impact",
          "EB3coin",
          null,
          "Atmos",
          "HappyCoin",
          "Coinonat",
          "MacronCoin",
          "Condensate",
          "Independent Money System",
          "ArgusCoin",
          "LomoCoin",
          null,
          "ProCurrency",
          "GoldReserve",
          "BenjiRolls",
          null,
          "GrowthCoin",
          "ILCoin",
          "Phreak",
          "Degas Coin",
          null,
          "HTML5 Coin",
          "Ultimate Secure Cash",
          "EquiTrader",
          "QTUM",
          "Quantum Resistant Ledger",
          "Espers",
          "Dynamic",
          "Nano",
          "ChanCoin",
          "Dinastycoin",
          "Denarius",
          "DigitalPrice",
          "Virta Unique Coin",
          "Bitcoin Planet",
          "Unify",
          "BritCoin",
          "SocialCoin",
          null,
          "ArcticCoin",
          "DAS",
          "Linda",
          "LeviarCoin",
          "DeepOnion",
          "Bitcore",
          "gCn Coin",
          "SmartCash",
          "Signatum",
          "Onix",
          "Cream",
          "Bitcoin Cash",
          "Monoeci",
          null,
          "Draftcoin",
          "Vechain",
          "Sojourn Coin",
          "Stakecoin",
          "NewYorkCoin",
          null,
          "FrazCoin",
          "Kronecoin",
          "AdCoin",
          "Linx",
          "CoinonatX",
          "Ethereum Dark",
          "Sumokoin",
          "Obsidian",
          "Cardano",
          "Regalcoin",
          "BitcoinZ",
          "TrezarCoin",
          "Elements",
          "TerraNovaCoin",
          "VIVO Coin",
          "Rupee",
          "Bitcoin Gold",
          "WomenCoin",
          "Theresa May Coin",
          "NamoCoin",
          "LUXCoin",
          "Pirl",
          "Xios",
          "Bitcloud 2.0",
          "eBoost",
          "KekCoin",
          "BlackholeCoin",
          null,
          null,
          null,
          "Infinity Economics",
          "Pura",
          "Innova",
          null,
          "Ellaism",
          null,
          "GoByte",
          null,
          "Magnet",
          "Lamden Tau",
          "Electra",
          "Bitcoin Diamond",
          "SHIELD",
          "Cash & Back Coin",
          "UltraNote",
          "BitCoal",
          "DaxxCoin",
          "Bulwark",
          "Kalkulus",
          "AC3",
          null,
          "Lethean",
          "GermanCoin",
          "LiteCoin Ultra",
          "PopularCoin",
          "PhantomX",
          null,
          "Photon",
          "Sucre",
          null,
          "SparksPay",
          "Digiwage",
          "GunCoin",
          "IrishCoin",
          "Trollcoin",
          "Litecoin Plus",
          "Monkey Project",
          "Pioneer Coin",
          "UnitedBitcoin",
          "Interzone",
          null,
          "TokenPay",
          "1717 Masonic Commemorative Token",
          "My Big Coin",
          "MUNcoin",
          "Unified Society USDEX",
          "Niobio Cash",
          null,
          null,
          "ShareChain",
          "Travelflex",
          "KREDS",
          "Tokyo Coin",
          "BiblePay",
          "LitecoinCash",
          "BitFlip",
          "LottoCoin",
          null,
          null,
          null,
          "Crypto Improvement Fund",
          "Stipend",
          "Poa Network",
          "Pushi",
          "Ellerium",
          "Velox",
          "Ontology",
          "Callisto Network",
          null,
          "BitTube",
          null,
          "Poseidon",
          "Aidos Kuneen",
          "Bitspace",
          null,
          "Briacoin",
          "Ignition",
          "Bitrolium",
          null,
          "MedicCoin",
          "Alpenschillling",
          null,
          "Bitcoin Green",
          "Deviant Coin",
          "Abjcoin",
          null,
          "Semux",
          null,
          "FuturoCoin",
          "Carebit",
          "Zealium",
          "Monero Classic",
          "Proton",
          "iDealCash",
          "Jumpcoin",
          "Infinex",
          "Bitcoin Incognito",
          "KEYCO",
          "HollyWoodCoin",
          "GINcoin",
          "PlatinCoin",
          "Loki",
          "Newton Coin",
          "Swisscoin",
          "Xt3ch",
          "MassGrid",
          "TheVig",
          "PluraCoin",
          "EmaratCoin",
          "Dekado",
          "Lynx",
          "Poseidon Quark",
          "BitcoinWSpectrum",
          "Muse",
          "Motion",
          "PlusOneCoin",
          "Axe",
          "Trivechain",
          "Dystem",
          "Giant",
          "Peony Coin",
          null,
          "Absolute Coin",
          "Vitae",
          "HexCoin",
          "TPCash",
          "Webchain",
          "Ryo",
          null,
          "Urals Coin",
          "Qwertycoin",
          "ARENON",
          "EUNO",
          "MMOCoin",
          "Ketan",
          null,
          null,
          "Project Pai",
          null,
          "XDNA",
          "PAXEX",
          "Azart",
          null,
          "ThunderStake",
          "Kcash",
          "Xchange",
          "Acute Angle Cloud",
          null,
          "CrypticCoin",
          "Bettex coin",
          null,
          null,
          "Actinium",
          null,
          "Bitcoin SV",
          "BitMoney",
          null,
          "Junson Ming Chan Coin",
          "FREDEnergy",
          null,
          null,
          "HerbCoin",
          null,
          "Universal Molecule",
          "Lithium",
          null,
          "PirateCash",
          "Exosis",
          "Block-Logic",
          "Oduwa",
          "Beam",
          "Galilel",
          "Bithereum",
          "Crypto Sports",
          "Credit",
          "SLICE",
          "Dash Platinum",
          "Nasdacoin",
          null,
          "Beetle Coin",
          "Titan Coin",
          "Award",
          null,
          "BLAST",
          "Bitcoin Rhodium",
          "GlobalToken",
          "Insane Coin",
          "ALAX",
          null,
          "LiteDoge",
          null,
          "SolarCoin",
          "TruckCoin",
          "UFO Coin",
          null,
          "OrangeCoin",
          "BlakeCoin",
          "BitstarCoin",
          "NeosCoin",
          "HyperCoin",
          "PinkCoin",
          null,
          "Crypto Escudo",
          "AudioCoin",
          "IncaKoin",
          "Piggy Coin",
          "Crown Coin",
          "Genstake",
          null,
          "SmileyCoin",
          null,
          "XiaoMiCoin",
          "Groestlcoin",
          "CapriCoin",
          " ClubCoin",
          "Radium",
          "Bata",
          "Pakcoin",
          "Creditbit ",
          "OKCash",
          "Lisk",
          "HiCoin",
          "WhiteCoin",
          null,
          "FriendshipCoin",
          null,
          null,
          "JoinCoin",
          "Triangles Coin",
          "Vollar",
          "EOS",
          "Reality Clash",
          "Oxycoin",
          null,
          "TigerCash",
          "Waves",
          "Particl",
          "Nxt",
          "ZEPHYR",
          "Gapcoin",
          "Beldex",
          "Horizen",
          "BitcoinPlus"
         ],
         "legendgroup": "0",
         "marker": {
          "color": [
           0,
           0,
           0,
           0,
           0,
           0,
           0,
           0,
           0,
           0,
           0,
           0,
           0,
           0,
           0,
           0,
           0,
           0,
           0,
           0,
           0,
           0,
           0,
           0,
           0,
           0,
           0,
           0,
           0,
           0,
           0,
           0,
           0,
           0,
           0,
           0,
           0,
           0,
           0,
           0,
           0,
           0,
           0,
           0,
           0,
           0,
           0,
           0,
           0,
           0,
           0,
           0,
           0,
           0,
           0,
           0,
           0,
           0,
           0,
           0,
           0,
           0,
           0,
           0,
           0,
           0,
           0,
           0,
           0,
           0,
           0,
           0,
           0,
           0,
           0,
           0,
           0,
           0,
           0,
           0,
           0,
           0,
           0,
           0,
           0,
           0,
           0,
           0,
           0,
           0,
           0,
           0,
           0,
           0,
           0,
           0,
           0,
           0,
           0,
           0,
           0,
           0,
           0,
           0,
           0,
           0,
           0,
           0,
           0,
           0,
           0,
           0,
           0,
           0,
           0,
           0,
           0,
           0,
           0,
           0,
           0,
           0,
           0,
           0,
           0,
           0,
           0,
           0,
           0,
           0,
           0,
           0,
           0,
           0,
           0,
           0,
           0,
           0,
           0,
           0,
           0,
           0,
           0,
           0,
           0,
           0,
           0,
           0,
           0,
           0,
           0,
           0,
           0,
           0,
           0,
           0,
           0,
           0,
           0,
           0,
           0,
           0,
           0,
           0,
           0,
           0,
           0,
           0,
           0,
           0,
           0,
           0,
           0,
           0,
           0,
           0,
           0,
           0,
           0,
           0,
           0,
           0,
           0,
           0,
           0,
           0,
           0,
           0,
           0,
           0,
           0,
           0,
           0,
           0,
           0,
           0,
           0,
           0,
           0,
           0,
           0,
           0,
           0,
           0,
           0,
           0,
           0,
           0,
           0,
           0,
           0,
           0,
           0,
           0,
           0,
           0,
           0,
           0,
           0,
           0,
           0,
           0,
           0,
           0,
           0,
           0,
           0,
           0,
           0,
           0,
           0,
           0,
           0,
           0,
           0,
           0,
           0,
           0,
           0,
           0,
           0,
           0,
           0,
           0,
           0,
           0,
           0,
           0,
           0,
           0,
           0,
           0,
           0,
           0,
           0,
           0,
           0,
           0,
           0,
           0,
           0,
           0,
           0,
           0,
           0,
           0,
           0,
           0,
           0,
           0,
           0,
           0,
           0,
           0,
           0,
           0,
           0,
           0,
           0,
           0,
           0,
           0,
           0,
           0,
           0,
           0,
           0,
           0,
           0,
           0,
           0,
           0,
           0,
           0,
           0,
           0,
           0,
           0,
           0,
           0,
           0,
           0,
           0,
           0,
           0,
           0,
           0,
           0,
           0,
           0,
           0,
           0,
           0,
           0,
           0,
           0,
           0,
           0,
           0,
           0,
           0,
           0,
           0,
           0,
           0,
           0,
           0,
           0,
           0,
           0,
           0,
           0,
           0,
           0,
           0,
           0,
           0,
           0,
           0,
           0,
           0,
           0,
           0,
           0,
           0,
           0,
           0,
           0,
           0,
           0,
           0,
           0,
           0,
           0,
           0,
           0,
           0,
           0,
           0,
           0,
           0,
           0,
           0,
           0,
           0,
           0,
           0,
           0,
           0,
           0,
           0,
           0,
           0,
           0,
           0,
           0,
           0,
           0,
           0,
           0,
           0,
           0,
           0,
           0,
           0,
           0,
           0,
           0,
           0,
           0,
           0,
           0,
           0,
           0,
           0,
           0,
           0,
           0,
           0,
           0,
           0,
           0,
           0,
           0,
           0,
           0,
           0,
           0,
           0,
           0,
           0,
           0,
           0,
           0,
           0,
           0,
           0,
           0,
           0,
           0,
           0,
           0,
           0,
           0,
           0,
           0,
           0,
           0,
           0,
           0,
           0,
           0,
           0,
           0,
           0,
           0,
           0,
           0,
           0,
           0,
           0,
           0,
           0,
           0,
           0,
           0,
           0,
           0,
           0,
           0,
           0,
           0,
           0,
           0,
           0,
           0,
           0,
           0,
           0,
           0,
           0,
           0,
           0,
           0,
           0,
           0,
           0,
           0,
           0,
           0,
           0,
           0,
           0,
           0,
           0,
           0,
           0,
           0,
           0,
           0,
           0,
           0,
           0,
           0,
           0,
           0,
           0,
           0,
           0,
           0,
           0,
           0,
           0,
           0,
           0,
           0,
           0,
           0,
           0,
           0,
           0,
           0,
           0,
           0,
           0,
           0,
           0,
           0,
           0,
           0,
           0,
           0,
           0,
           0,
           0,
           0,
           0,
           0,
           0,
           0,
           0,
           0,
           0,
           0,
           0,
           0,
           0,
           0,
           0,
           0,
           0,
           0,
           0,
           0,
           0,
           0,
           0,
           0,
           0,
           0,
           0,
           0,
           0,
           0,
           0,
           0,
           0,
           0,
           0,
           0,
           0,
           0,
           0,
           0,
           0,
           0,
           0,
           0,
           0,
           0,
           0,
           0,
           0,
           0,
           0,
           0,
           0,
           0,
           0,
           0,
           0,
           0,
           0,
           0,
           0,
           0,
           0,
           0,
           0,
           0,
           0,
           0,
           0,
           0,
           0,
           0,
           0,
           0,
           0,
           0,
           0,
           0,
           0,
           0,
           0,
           0,
           0,
           0,
           0,
           0,
           0,
           0,
           0,
           0,
           0,
           0,
           0,
           0,
           0,
           0,
           0,
           0,
           0,
           0,
           0,
           0,
           0,
           0,
           0,
           0,
           0,
           0,
           0,
           0,
           0,
           0,
           0,
           0,
           0,
           0,
           0,
           0,
           0,
           0,
           0,
           0,
           0,
           0,
           0,
           0,
           0,
           0,
           0,
           0,
           0,
           0,
           0,
           0,
           0,
           0,
           0,
           0,
           0,
           0,
           0,
           0,
           0,
           0,
           0,
           0,
           0,
           0,
           0,
           0,
           0,
           0,
           0,
           0,
           0,
           0,
           0,
           0,
           0,
           0,
           0,
           0,
           0,
           0,
           0,
           0,
           0,
           0
          ],
          "coloraxis": "coloraxis",
          "symbol": "circle"
         },
         "mode": "markers",
         "name": "0",
         "scene": "scene",
         "showlegend": true,
         "type": "scatter3d",
         "x": [
          -134656381672474.47,
          -134655849672576.08,
          -134656381672528.9,
          -134342222408481.64,
          -134656360672529.73,
          -134656381672533.7,
          -134656297672531.7,
          -134656359672529.25,
          -134656381672529.69,
          -134656171672533.97,
          -134656360672529.23,
          -134652781102149.69,
          -134635381673039.97,
          -134656359672528.95,
          -134656380372528.86,
          -134656369172529.4,
          -134656360672529.12,
          -134656031672530.02,
          -134656361672529.42,
          -134656380072528.95,
          -134656374672528.77,
          -134656375672528.78,
          -134656365269393.83,
          -134656317672529.42,
          -134656364903945.62,
          -134656349672528.94,
          -134656381672557.3,
          -134654381672604.55,
          -134272381672528.86,
          -134656211876948.56,
          -134656131672534.64,
          -134656281672529.2,
          -134656381672534.31,
          -134656134672540.56,
          -134656297672531.14,
          -134656333506530.34,
          -134656360672528.9,
          -134656381172528.83,
          -134656354092528.88,
          -134656334238928.81,
          -134656360672529.19,
          -134656380672528.86,
          -134656368532529.06,
          -134656267672528.88,
          -134656281672528.81,
          -134656363672529.16,
          -134616381674320.98,
          -134656381672528.9,
          -134656377292529.03,
          -134639826673242.61,
          -134656377952528.86,
          -134656379628566.89,
          -134635381673370.1,
          -134642881673090.69,
          -134656360672529.81,
          -134656306672528.88,
          -134656081880080.69,
          -134656349672529.73,
          -134656381672529.11,
          -134556381672528.89,
          -134656281672528.86,
          -134656381048528.88,
          -134656379070118.95,
          -134656381672549.52,
          -134656370436715.92,
          -134656045672538.25,
          -134654961062954.48,
          -134656311672531.81,
          -134656309426830.75,
          -134656374672528.86,
          -134656381672528.89,
          -134656261672532.81,
          -134656339672528.92,
          -134656381672604.06,
          -134565781676587.94,
          -134656359672529.66,
          -134656360672529.88,
          -134656378379518.84,
          -134656360072528.78,
          -134656116251735.67,
          -134656361672529.75,
          -134656380322528.92,
          -134656299669328.89,
          -134656380672528.86,
          -134656281672531.61,
          -134656339672530.6,
          -134656181672530.73,
          -134656381673482.86,
          -134656371672529.12,
          -134653962472601.2,
          -134656365492529.53,
          -134656381672531.73,
          -134656331672528.94,
          -134641381672634.89,
          -134656360672529.6,
          -134656044672543.86,
          -134656381672529.45,
          -134656377902529.02,
          -134655961672538.8,
          -134656283672532.12,
          -134656381673842.27,
          -134656369672528.88,
          -134656360672528.94,
          -134656131672529.95,
          -134656380672528.88,
          -134656380672528.81,
          -134656330472530.02,
          -134656331672528.92,
          -134656360672528.88,
          -134656381672531.12,
          -134656381671528.86,
          -134655493672554.17,
          -134656281672532.47,
          -134656334660562.88,
          -134654081672601.55,
          -134656371672528.92,
          -134656339672529.97,
          -134656379047528.95,
          -134656301672529.03,
          -134656381422528.94,
          -134656381672528.97,
          -134654781672578.05,
          -134656281672531.06,
          -134656381672528.8,
          -134656358672529.9,
          -134656381672528.94,
          -134656381672530.27,
          -134656297672531.2,
          -134656116251734.25,
          -134656379672528.83,
          -134656376172529.17,
          -134656381672533.33,
          -134656336672530.69,
          -134656381672530.25,
          -134656331672528.83,
          -134655381672535.44,
          -134471914240040.98,
          -134646381672838.47,
          -134654222859810.08,
          -134655881672531.16,
          -134656276552531.92,
          -134656313672530.64,
          -134656380672528.94,
          -134656364672528.81,
          -134656381672531.25,
          -134654701672547.47,
          -134656381672530.03,
          -134656215286535.03,
          -134656369672528.84,
          -134656379044528.9,
          -134655881672536.62,
          -134656221672535.69,
          -134656381670514.86,
          -134656381672528.89,
          -134656371672529.08,
          -134656369672528.77,
          -134655381672564.36,
          -134656371562528.88,
          -134656171672528.92,
          -134655381672561.14,
          -134656361672528.97,
          -134656381672531.83,
          -134656381672529.22,
          -134656381672528.89,
          -134656378301192.33,
          -134656381672528.83,
          -134656361672529.34,
          -134646381672735.44,
          -134656381672528.95,
          -134654541672560.66,
          -134656297672528.88,
          -134656348672528.92,
          -134656381053050.9,
          -134656360672529.48,
          -134564381672528.88,
          -134656381672528.83,
          -134656381672528.94,
          -134656348672528.92,
          -134656303672531.72,
          -134656348672530.36,
          -134656381672528.83,
          -134656315883429.53,
          -134656327912529.61,
          -134656376612529.27,
          -134656360672529.61,
          -134656381672528.88,
          -134656381672528.89,
          -134656381672528.88,
          -134656171432530.34,
          -134656131672532.25,
          -134656281672533.3,
          -134656364766132.36,
          -134656379443607.66,
          -134656331672529.8,
          -134656381674011.84,
          -134655381672530.83,
          -134656377820372.77,
          -134656355374529.48,
          -134656365672529.62,
          -134656360672529.88,
          -134656360672529.33,
          -134639881672528.88,
          -134656171672538.3,
          -134656299710429.42,
          -134656359672529.06,
          -134629831673021.53,
          -134656297672532.02,
          -134656363225785.02,
          -134656371172529.12,
          -134656361482065.34,
          -134634755393502.98,
          -134656381672980.03,
          -134656369672528.84,
          -134656339672529.2,
          -134656377472528.84,
          -134656366672528.94,
          -134654131672528.92,
          -134656160619898.62,
          -134651381672528.94,
          -134656297672530.94,
          -134635381672528.89,
          -134656351672529.17,
          -134656213321228.89,
          -134656171672528.9,
          -134656363272528.92,
          -134656357672529.69,
          -134655997672529.31,
          -134656339672528.95,
          -134557381674185.28,
          -134656341672529.1,
          -134654234188978.03,
          -134656361672529.77,
          -134656361672529.17,
          -134656356672529.53,
          -134656381572528.86,
          -134656360672528.84,
          -134656306672534.88,
          -134656366672528.86,
          -134656158947528.94,
          -134656379251301.92,
          -134655856672529.64,
          -134656291672532.61,
          -134656345672528.88,
          -134656242672529.95,
          -134656365672528.89,
          -134656307005861.81,
          -134656031672528.81,
          -134656381056080.9,
          -134656348172530.58,
          -134654381672565.27,
          -134656337339196.03,
          -134656281672533.3,
          -134656181672528.98,
          -134656356672528.97,
          -134655724672558.3,
          -134656181672534.06,
          -134656331672529.55,
          -134656281672528.86,
          -134656291672530.75,
          -134656371672529.36,
          -134656360672528.9,
          -134656371936529.22,
          -134656378672528.86,
          -134656360672528.94,
          -134655181672573.72,
          -134656381672528.89,
          -134656181672534.11,
          -134646381672528.88,
          -134656381672536.4,
          -134656371034231.34,
          -134653281672558.62,
          -134656351672529.36,
          -134636381673406.03,
          -134656307672532.17,
          -134656381672530.31,
          -134656294172528.88,
          -134654881672540.72,
          -134656371672528.92,
          -134656360272529.23,
          -134654381672528.94,
          -134656341672637.52,
          -134656379172404.86,
          -134656255672528.94,
          -134656281672533.36,
          -134656080672529.67,
          -134648875672577.38,
          -134656355466991.06,
          -134656281672528.94,
          -134656360672529.16,
          -134656256672533.73,
          -134656351672529.67,
          -134655381672528.83,
          -134646381672537.66,
          -134656360672528.89,
          -134655881672565.84,
          -134655531676659.42,
          -134656377819202.27,
          -134656331672531.08,
          -134649381672528.89,
          -134656343132529.6,
          -134656181672528.83,
          -134656339672528.92,
          -134656153672531.67,
          -134656361672529.77,
          -134656321672529.12,
          -134656361672529.45,
          -134656348672529.72,
          -134656305172532.25,
          -134656353672529.3,
          -134655731012696.28,
          -134656376672528.89,
          -134656360672529.05,
          -134656237672529.2,
          -134623866757145.78,
          -134656368672528.97,
          -134656378356739.97,
          -134656366672529.34,
          -134656302837330.22,
          -134656378958242.92,
          -134656356672529.4,
          -134656131672528.88,
          -134656371672530,
          -134655931672528.78,
          -134656281672528.86,
          -134655881672529.89,
          -134656360672529.02,
          -134656372318529.12,
          -134656281672528.86,
          -134656281032528.92,
          -134656361672529.34,
          -134556381672552.97,
          -134656359739195.81,
          -134656361672528.89,
          -134656196672529.4,
          -134656326672528.95,
          -134656271672533.77,
          -134656266672528.9,
          -134656378312529,
          -134656367147677.94,
          -134655381672530.28,
          -134656364672529.19,
          -134655381672573.61,
          -134656281672533.36,
          -134656360672529.75,
          -134655926774134.89,
          -134656171672528.92,
          -134656347246107.44,
          -134656379439628.02,
          -134656281672529.44,
          -134656344772529.44,
          -134656271672533.81,
          -134652381672531.73,
          -134656269672528.83,
          -134656271382503.84,
          -134656281672529.81,
          -134656333420529.39,
          -134655981672546.86,
          -134655881672534.28,
          -134656360460408.05,
          -134656353072528.88,
          -134655381672528.84,
          -134656360672528.88,
          -134581381672533.34,
          -134656341672529.64,
          -134656346152129.78,
          -134656380672528.88,
          -134654381672542.03,
          -134653881672587.95,
          -134656351672529.36,
          -134656276672529.78,
          -134654288172528.88,
          -134566381674350.56,
          -134656181588329.31,
          -134656309672529.48,
          -134656281672533.33,
          -134656276672532.02,
          -134606381673550.48,
          -134656381672529.8,
          -134656041390167.89,
          -134656351672529.73,
          -134654381672610.08,
          -134656371672529.06,
          -134656281672530.47,
          -134656261672531.69,
          -134656281672529.17,
          -134656362395729.69,
          -134656351672529.73,
          -134656306672529.1,
          -134656373766894.86,
          -134656321672530.1,
          -134656362772529.03,
          -134606381672934.06,
          -134656327672529.64,
          -134656362774342.11,
          -134656360672529.7,
          -134456381679834.44,
          -134651381672629.31,
          -134656244172533.7,
          -134655281672534.4,
          -134656281672530.97,
          -134656360672529.73,
          -134656372165258.42,
          -134655371672528.88,
          -134656364266638.45,
          -134569669040547.5,
          -134645881672528.89,
          -134656320072564.03,
          -134656381678936.19,
          -134655381672528.89,
          -134656361672529.31,
          -134656297672529.66,
          -134656281672530.33,
          -134656281672530.38,
          -134656333420529.7,
          -134656377472529.02,
          -134656292783641.4,
          -134656290283583.97,
          -134611381673690.48,
          -134656354672529.17,
          -134635381672762.39,
          -134655981672537.06,
          -134654581672650.02,
          -134656365939195.88,
          -134656354672529.1,
          -134656357672529.92,
          -134656360672529.67,
          -134631381674700.02,
          -134656281672533.03,
          -134655181672553.98,
          -134656321672529.25,
          -134656225365797.72,
          -134656360672528.9,
          -134656181672530.28,
          -134656281672533.36,
          -134656360672529.4,
          -134656366884253.55,
          -134656376672528.89,
          -134656377985668.86,
          -134656306672528.88,
          -134647381672932.08,
          -134656031672536.77,
          -134656336672529.19,
          -134656081672528.89,
          -134656101672529.45,
          -134656276572528.88,
          -134656349872529.16,
          -134656331672528.89,
          -134656237672530.56,
          -134655881672541.78,
          -134626381673801.28,
          -134656171672537,
          -134655721672550.5,
          -134656171672533.78,
          -134571381673392.92,
          -134656369172529.22,
          -134646381672552.23,
          -134656353956408.45,
          -134656361672529.62,
          -134655831672532.5,
          -134656360672528.94,
          -134655382191032.67,
          -134606381672748.88,
          -134656231672529.19,
          -134651381672707.48,
          -134656331672530.86,
          -134566381672528.89,
          -134566381673877.06,
          -134656361872529.1,
          -134656377072528.83,
          -134656360672529.23,
          -134656261672530.1,
          -134655881672542.33,
          -134656317672530.9,
          -134655481672555.28,
          -134656377672528.94,
          -134656360672529.05,
          -134656358672529.28,
          -134656361506529.83,
          -134656358672529.44,
          -134654381672528.83,
          -134656356672529.77,
          -134656380054495.9,
          -134656351672529.25,
          -134656365072529.12,
          -134656149672539.34,
          -134656045672535.03,
          -134656360672528.89,
          -134656364672528.9,
          -134646381672976.92,
          -134656281672533.73,
          -134655281672557.75,
          -134655581672539.08,
          -134651181672608.28,
          -134655541672557.48,
          -134656341672529.44,
          -134637974693338.14,
          -134635381672528.89,
          -134656350172528.9,
          -134656360672528.89,
          -134655881672538.39,
          -134656362331935.39,
          -134656129211738.03,
          -134656356672528.95,
          -134656321672528.89,
          -134656257672529.95,
          -134655381672558,
          -134649881672540,
          -134656359672528.92,
          -134655381672532.61,
          -134656281672528.89,
          -134656360672529.05,
          -134656356672530.05,
          -134656331672529.48,
          -134656297576528.9,
          -134656378672528.84,
          -134656376672528.88,
          -134656311672532.08,
          -134656359372528.9,
          -134655881672540.8,
          -134656081672530.14,
          -134656171672528.89,
          -134656360672529.3,
          -134656293672529.84,
          -134656351672529.25,
          -134656281672528.81,
          -134656281672528.89,
          -134655881672528.83,
          -134656281672530.33,
          -134656181672535.16,
          -134656301672529.34,
          -134656363272529.75,
          -134656336672529.05,
          -134651259721371.73,
          -134656360672529.84,
          -134656355392529.14,
          -134656360672529.33,
          -134656363672528.95,
          -134656355672530.55,
          -134656371172529.25,
          -134655781672011.02,
          -134656231672529.77,
          -134472381674379.17,
          -134646181672985.83,
          -134656337672529.16,
          -134656213672535,
          -134656281672530.36,
          -134655381672554.12,
          -134656297672529.8,
          -134656291672530.2,
          -134564381676017.84,
          -134655731672528.98,
          -134656281410326.44,
          -134656363590723.69,
          -134656359596829.28,
          -134656360672529.3,
          -134656360672529.12,
          -134656299125966.53,
          -134656360672529.19,
          -134656376521529.17,
          -134639501672528.86,
          -134656345672528.88,
          -134656329172529.47,
          -134656281672531.83,
          -134656359567265.94,
          -134655381672529.05,
          -134654631672529.61,
          -134656293483641.12,
          -134656281672528.81,
          -134656171672529.56,
          -134471911676989.3,
          -134656326672529.73,
          -134656331672530.22,
          -134656121672533.66,
          -134656171672529.27,
          -134656206672528.92,
          -134655541672528.83,
          -134654281672623.02,
          -134656311672528.81,
          -134656015672529.1,
          -134656281672529.03,
          -134656356672529.12,
          -134656131672528.9,
          -134638381672576.33,
          -134655381672573.67,
          -134656281672529.36,
          -134655381672573.67,
          -134656129672528.88,
          -134648781672718.64,
          -134656331672529.17,
          -134656352372528.94,
          -134556381672528.92,
          -134656297672529.55,
          -134656368006291.89,
          -134656360672529.73,
          -134586381672538.2,
          -134656281672528.89,
          -134656381673299.94,
          -134648301672612.67,
          -134656335672528.9,
          -134656375572528.92,
          -134656327672530.47,
          -134656339672528.92,
          -134656276552527.55,
          -134656356443729.62,
          -134656360672764.94,
          -134656276672529.45,
          -134656360672528.94,
          -134656261672530.45,
          -134656360672529.47,
          -134656118872530.5,
          -134656362636530.7,
          -134656350786530.05,
          -134656368302528.95,
          -134581581673909.94,
          -134656281672529.5,
          -134656361972528.9,
          -134656297672529.73,
          -134656281672528.92,
          -134655881672537.8,
          -134651381672569.05,
          -134655961672529.55,
          -134656276672528.94,
          -134656317672531.28,
          -134656379572528.84,
          -134656213672532.73,
          -134656351672529.9,
          -134655381672573.67,
          -134656356672528.84,
          -134621381673215.19,
          -134656363222528.92,
          -134558281672531.36,
          -134656381672539.72,
          -134652381672700.25,
          -134656381672528.89,
          -134656181672528.98,
          -134649381672529.97,
          -134656327416410.73,
          -134656360672529.05,
          -134656381672529.25,
          -134655881672548.39,
          -134656363272529.03,
          -134655381672563.83,
          -134645881672572.75,
          -134656191673332.67,
          -134655381672551,
          -134656339672529.97,
          -134656366672531.5,
          -134656363225785.02,
          -134606381673854.34,
          -134656356672528.89,
          -134655981672546.94,
          -134656276672532.2,
          -134656173672537.89,
          -134656221672533.45,
          -134656372672529.03,
          -134656376672529.11,
          -134656199672532,
          -134656365168196.64,
          -134656276672532.23,
          -134656221754134.25,
          -134646372837341.86,
          -134656081672540.1,
          -134655491672528.88,
          -134656321504383.92,
          -134656081672528.83,
          -134651381672263.72,
          -134656378872529.06,
          -134656381552528.77,
          -134654281672533.4,
          -134656381672574.6,
          -134656357184585.98,
          -134656381672579.17,
          -134655381672528.9,
          -134655381672573.66,
          -134656281672533.36,
          -134656373038389.28,
          -134655381672573.7,
          -134654381672618.5,
          -134656131672529.47,
          -134654981449962.94,
          -134656360672529.2,
          -134656380672528.81
         ],
         "y": [
          -4145017869.927663,
          -3089832986.0516715,
          -4145017911.92762,
          25134420786.2483,
          -4127090735.98673,
          -4037333689.241122,
          -4081978664.864057,
          -4135986616.5662923,
          -4127816768.782708,
          -4031658199.518727,
          -4137634854.736728,
          -1403447750.6067276,
          7261202169.961819,
          -4143729048.941927,
          -4145017911.8693743,
          -4133022576.482834,
          -4139249600.9867287,
          -4119475360.657945,
          -4133868177.0339146,
          -4145017911.855934,
          -4145017911.613992,
          -4145017911.6587973,
          -4145017911.1926904,
          -4132812113.615192,
          -4126882811.1833553,
          -4145017910.4938836,
          -3509594011.9276195,
          -2456763572.319103,
          -4145000619.091979,
          -3974813514.565205,
          -4016076949.54351,
          -4137660112.654692,
          -4021955110.798846,
          -3885460735.9462013,
          -4095469323.0227714,
          -4111574921.425542,
          -4145017910.9867296,
          -4144975332.4283156,
          -4145017910.6919165,
          -4145017909.8023915,
          -4137797954.3404675,
          -4143978795.2313695,
          -4140314031.8206463,
          -4145017906.8199344,
          -4145017907.447193,
          -4140020924.9153905,
          35854981180.09952,
          -4145017911.92762,
          -4141713423.984021,
          11784513498.927479,
          -4145017911.760946,
          -4145017911.836041,
          14628840528.961811,
          8393997879.751868,
          -4124107432.180479,
          -4145017908.5672994,
          -3926146001.9956417,
          -4125521124.183633,
          -4139338206.9276233,
          -4145013431.501671,
          -4145017907.447193,
          -4145017911.8996606,
          -4145017911.811021,
          -3683188006.5986896,
          -4143875179.275078,
          -3936348803.865661,
          -3260892046.2782593,
          -4079345188.320447,
          -4103359260.690734,
          -4145017911.6139884,
          -4145017911.92762,
          -4055750972.8664036,
          -4145017910.045842,
          -2466497821.156322,
          86450739165.96959,
          -4127366996.96758,
          -4123928561.9877295,
          -4145017911.780078,
          -4145017910.9598503,
          -3993570250.235638,
          -4125691591.8877826,
          -4143913567.6377516,
          -4145017908.253526,
          -4145017911.8828144,
          -4083572102.447193,
          -4106865910.052742,
          -4104586046.066769,
          17148907533.569262,
          -4139213706.591626,
          -2531181703.537165,
          -4128837911.202687,
          -4078930815.719912,
          -4145017909.687407,
          -1778950934.0989096,
          -4130281510.98673,
          -3810308673.3454466,
          -4129861547.596968,
          -4141797295.479482,
          -3922340667.095624,
          -4071058632.9118013,
          25170549257.16115,
          -4145017911.3899674,
          -4143913753.56503,
          -4120802719.001554,
          -4145017911.8828154,
          -4145017911.8828144,
          -4119424172.4981365,
          -4145017909.687408,
          -4145017910.9867287,
          -4094310250.1782684,
          -4145016734.927573,
          -3581681330.8414717,
          -4064757443.7140546,
          -4101481109.821284,
          -2522691318.414465,
          -4143586060.4795504,
          -4122082514.045841,
          -4145017911.8100085,
          -4142739758.34328,
          -4144817000.1248994,
          -4143810601.9276204,
          -3046065247.640805,
          -4094782696.3052535,
          -4145017911.927623,
          -4121867018.729152,
          -4145017911.92762,
          -4112996803.5139494,
          -4093844184.347428,
          -4025410959.035638,
          -4145017911.8380103,
          -4138067080.5841346,
          -4045017911.9276204,
          -4105822170.54934,
          -4111924186.5152717,
          -4145017909.687406,
          -3997027629.1450286,
          179921819166.99924,
          2761570146.497893,
          -2331983895.203613,
          -4093844745.5254903,
          -4076823232.3466287,
          -4105896214.880929,
          -4145017911.8828154,
          -4145017911.165948,
          -4091824080.92762,
          -3729985416.656465,
          -4117833421.5357866,
          -4007500250.0588484,
          -4142995446.503,
          -4144835992.566276,
          -3970371775.590835,
          -3992747239.89829,
          -4145017911.9275293,
          -4143550070.9276185,
          -4137921077.47958,
          -4145017911.3899713,
          -3352480617.123362,
          -4145017911.474647,
          -4145017902.5187254,
          -3425600877.123362,
          -4142328099.0315347,
          -4079904609.927621,
          -4138652626.927621,
          -4145017911.92762,
          -4134877867.3335395,
          -4145017911.927619,
          -4133413189.0315332,
          465323177.0049708,
          -4145017911.92762,
          -3436511309.487784,
          -4145017908.1640615,
          -4145017910.449079,
          -4144398433.8998637,
          -4132555290.98673,
          -4144925576.935746,
          -4145017911.927619,
          -4143504207.9276195,
          -4145017910.449079,
          -4081360688.432888,
          -4112796335.6280847,
          -4145017911.927619,
          -4131275170.9799886,
          -4130270709.5187435,
          -4136449873.3415604,
          -4129154073.4867296,
          -4145017911.92762,
          -4144688711.9112296,
          -4145017911.927619,
          -4112452602.5079727,
          -4069403400.726555,
          -4045017907.4471936,
          -4134522633.170142,
          -4145017911.827754,
          -4121975305.6874094,
          28953278618.07235,
          -4101958072.318581,
          -4145017911.755029,
          -4131487354.3312826,
          -4129150216.2107525,
          -4124020434.121707,
          -4134652864.058564,
          -4145017172.657338,
          -3935017902.518726,
          -4133568959.25537,
          -4141348219.0969796,
          6851301376.62546,
          -4075181808.164062,
          -4145017911.1011224,
          -4139888897.457175,
          -4145017911.0230045,
          17594954986.02182,
          5924431119.997571,
          -4145017911.3899684,
          -4136019166.804649,
          -4145017911.739441,
          -4145017911.255556,
          -4145017811.118036,
          -4104540860.023521,
          -4145017687.906324,
          -4099907584.1640625,
          -4145016971.03817,
          -4139315862.5834928,
          -4144381441.8249297,
          -4145017902.5187244,
          -4145017911.103222,
          -4127754555.852318,
          -4134610624.934596,
          -4145017910.045841,
          32826222570.501335,
          -4140640828.525909,
          -1997534168.711206,
          -4125017911.031537,
          -4138447103.3747573,
          -4131363828.3087134,
          -4145017911.923138,
          -4145017910.9867287,
          -4010462967.4161105,
          -4145017911.2555585,
          -4143822376.9485908,
          -4145017911.8191385,
          -4128355068.405383,
          -4061567504.8952355,
          -4145017910.3146667,
          -4120630181.198744,
          -4145017911.2107506,
          -4145017908.582235,
          -4145017896.246129,
          -4144401463.899999,
          -4106428101.7608676,
          -3331925483.7434287,
          -4140491585.941296,
          -4045017907.4471927,
          -4140017902.96677,
          -4143639993.8075128,
          -3488017882.4912224,
          -4029119771.9667664,
          -4129454036.687406,
          -4145017907.447193,
          -4101852407.8952355,
          -4137195478.7551746,
          -4144422481.9867296,
          -4138774071.4914055,
          -4144360275.4477077,
          -4142435940.9867287,
          -3145017858.16251,
          -4143078022.9276185,
          -4028172674.9667683,
          -4145017463.885024,
          -3975419295.92762,
          -4135911197.450978,
          -3479817716.0344152,
          -4133898710.5834904,
          15432770243.157555,
          -4070984101.817138,
          -4111494954.9276185,
          -4145017908.007247,
          -3880339386.4326115,
          -4145017911.4795775,
          -4137449629.719249,
          -4145017822.319101,
          -3996301094.135456,
          -4142517787.815606,
          -4145017906.2822857,
          -4045017907.447193,
          -4127199216.2761407,
          -3062854940.090019,
          -4118812371.753501,
          -4145017907.447193,
          -4139404360.986728,
          -4036815822.327086,
          -4126675097.5834913,
          -4145017867.123359,
          -3948719492.8850255,
          -4145017910.9867277,
          -3321017889.5254917,
          88047804849.15591,
          -4141164584.977901,
          -4095017909.6874084,
          -4145017598.297803,
          -4127928310.2008624,
          -4145017902.9667673,
          -4142568332.630508,
          -4083653088.7122498,
          -4125017911.031537,
          -4138948427.1621504,
          -4132601357.031534,
          -4124773886.808351,
          -4069427539.5000944,
          -4133937188.2961426,
          -4134103464.775286,
          -4144203240.7035975,
          -4144039765.9867253,
          -4136640032.4758058,
          29668127366.712822,
          -4141544928.3451633,
          -4141702122.779057,
          -4134500138.5163918,
          -4114790158.395467,
          -4144123885.806008,
          -4135660822.807509,
          -4145017900.726554,
          -4143141765.035982,
          -4145017891.7657065,
          -4145017907.447196,
          -4121052517.525489,
          -4142491832.511475,
          -4139358814.551232,
          -4145017907.447192,
          -4145017907.418518,
          -4133196183.0315332,
          -3608031357.5016727,
          -4144709731.9449124,
          -4145017911.0315332,
          -4134048585.115879,
          -4142095295.499135,
          -4035017906.9991508,
          -4145017906.7751307,
          -4141902653.7770762,
          -4130493059.794147,
          -4114632327.1233616,
          -4138096257.2661366,
          -3145017867.12336,
          -4045174499.131346,
          -4126472153.4867306,
          -4145017891.5462346,
          -4145017902.5187244,
          -4108967545.3851695,
          -4142785010.8275776,
          -4131855158.36139,
          -4132833714.3484936,
          -4034387519.14868,
          -4080921680.7105823,
          -4145017906.9095435,
          -4033882070.0971584,
          -4123496585.437278,
          -4134894709.7657256,
          -3743596493.0059185,
          -4023352437.881614,
          -4139648976.977225,
          -4143869586.6462173,
          -4144517867.1233597,
          -4145017910.9867287,
          -4044468806.6081586,
          -4127846528.1354485,
          -4124741811.189629,
          -4145017911.8828144,
          -3849882355.957223,
          -2827270299.9169726,
          -4133627684.6092176,
          -4123659143.2231717,
          -4145017818.1299014,
          36514006120.45569,
          -4134674789.9629955,
          -4131344502.2691855,
          -4045017907.447194,
          -4075981890.389157,
          18656867199.285336,
          -4125233687.2763476,
          -4011769599.6815214,
          -4126610651.494905,
          -2335550679.319098,
          -4140846529.4795756,
          -4109878932.447194,
          -4082075831.5511074,
          -4138213545.4471936,
          -4126884716.0639358,
          -4123749818.583495,
          -4139850133.5673,
          -4145017911.573413,
          -4118975544.8658085,
          -4142395025.0808196,
          4899915271.527777,
          -4130856106.508185,
          -4123100893.0316205,
          -4127216045.8261833,
          158910088548.92416,
          -1904008538.6837556,
          -4037045139.767035,
          -4022542224.253193,
          -4097686104.96977,
          -4127022321.3398223,
          -4132448648.9657226,
          -4145017866.6753173,
          -4126354613.7987814,
          51309720773.1677,
          -4144532227.4828935,
          -4141017909.1676817,
          138861651829.75925,
          -4145017867.123359,
          -4135313869.031533,
          -4127564158.7598004,
          -4112371176.3841586,
          -4111301381.447194,
          -4125478321.7657237,
          -4140817911.7394414,
          -4136071254.9450145,
          -4120017907.833006,
          21782054642.264034,
          -4137755508.6752563,
          1066536286.9769646,
          -3962379494.0059166,
          -1442162162.427076,
          -4143877176.3058944,
          -4140851943.14291,
          -4121017910.852318,
          -4127815549.8977346,
          44314455662.178825,
          -4052967107.447192,
          -3584454638.1625075,
          -4136712133.9215884,
          -4111030924.924413,
          -4142868222.9867287,
          -4114306352.4373655,
          -4045027905.9537277,
          -4132687104.68156,
          -4128655366.2730417,
          -4145017911.7035995,
          -4145017911.7624316,
          -4145017908.567303,
          4854982481.310706,
          -3969802037.24613,
          -4138642650.8714294,
          -4145017898.486341,
          -4132261532.382427,
          -4145017907.2186923,
          -4139185603.627846,
          -4145017909.687409,
          -4106819310.641596,
          -3856927322.0316014,
          24254133640.200138,
          -3961483877.62892,
          -3663287315.7906337,
          -4034040925.225344,
          15136807309.926825,
          -4140517911.367562,
          -3624125683.885027,
          -4131770731.805092,
          -4128062146.129473,
          -4064701680.285278,
          -4145017910.9867296,
          -3703767633.769592,
          766484597.6953508,
          -4136598502.885979,
          -180816439.0350762,
          -4099843695.579543,
          -4145013879.5442657,
          25944657650.978508,
          -4140788870.5365615,
          -4145017911.7215195,
          -4137170493.653172,
          -4117718226.551111,
          -3845219936.5254917,
          -4099534859.7203293,
          -3553995123.603786,
          -4142513425.520684,
          -4140610658.9867306,
          -4136539806.557423,
          -4124851911.024097,
          -4133101322.802413,
          -4145017822.3191,
          -4124572049.273088,
          -4143399878.855125,
          -4135618568.055093,
          -4140199572.1943693,
          -3910171635.750874,
          -4011085429.099277,
          -4145017910.9867277,
          -4145017911.165949,
          5854982536.114966,
          -4037692641.4194117,
          -3501221951.102841,
          -3914718951.084216,
          -2372926129.0572925,
          -3506635542.0835285,
          -4132571810.1326685,
          10345997333.783466,
          -4145016971.03817,
          -4145017910.516287,
          -4145017910.9867277,
          -3933720251.0250077,
          -4133766568.873177,
          -3940538861.616301,
          -4142850083.7075124,
          -4144598633.859364,
          -4119447893.2370896,
          -3494169242.123362,
          -3897405167.699935,
          -4145017910.941926,
          -4064968784.217635,
          -4145017907.447194,
          -4140947698.837427,
          -4120017910.807514,
          -4131230055.0596285,
          -4145017908.159759,
          -4144172273.979732,
          -4143835758.203598,
          -4073662431.7913213,
          -4145017910.928483,
          -3877720213.2129903,
          -4117677396.834865,
          -4145017902.518723,
          -4135214219.624911,
          -4123141321.131815,
          -4135137408.2117023,
          -4145017907.447192,
          -4143786760.447192,
          -4145017889.525488,
          -4113216446.2604103,
          -4005278306.460068,
          -4133942654.250283,
          -4129001047.1032166,
          -4140614109.9114294,
          -2740860152.982129,
          -4123948564.7344713,
          -4139920221.039391,
          -4134112947.8943834,
          -4144222464.121144,
          -4106311101.296174,
          -4138031511.752871,
          -4144933585.0450363,
          -4125864273.2069817,
          37149510349.056076,
          6054982545.075817,
          -4137387909.9408317,
          -4009155488.3606076,
          -4111779723.72461,
          -3584931914.71872,
          -4123418568.4912615,
          -4114733711.5261073,
          73727045997.96396,
          -4142301617.8518257,
          -4087206906.4345565,
          -4126822975.1174774,
          -4136892045.9175587,
          -4136372504.8189683,
          -4140024880.2893634,
          -4108094787.608588,
          -4137935518.7392874,
          -4139098421.928701,
          -4143975143.1794424,
          -4145017910.3146667,
          -4131685291.634025,
          -4078964029.8215857,
          -4143601247.8712077,
          -4139614064.627452,
          -4129437634.2114177,
          -4140127010.976383,
          -4145017907.447192,
          -4130271749.4224367,
          95408100881.91621,
          -4125748399.5233846,
          -4114246783.71132,
          -4037254032.3608375,
          -4135690770.9216413,
          -4145017904.0868754,
          -4145017874.2920413,
          -2045017817.838677,
          -4145017908.7913213,
          -4140345381.684938,
          -4140513268.447193,
          -4140002029.4343596,
          -4145017900.7265577,
          -3085063025.0165586,
          -3145017867.123361,
          -4135264153.832041,
          -3145017867.123361,
          -4145017900.6369457,
          90093932.58474886,
          -4138230504.5072694,
          -4145017910.614858,
          -4145013431.5016727,
          -4131383058.164063,
          -4145017911.3153157,
          -4127025396.3398066,
          -3936498911.2621136,
          -4145017907.447194,
          13064905816.398962,
          -2277962676.6252313,
          -4145017909.8666267,
          -4145017911.6543145,
          -4109705723.764468,
          -4145017910.045842,
          -4143439625.9043865,
          -4129171189.5489883,
          -4145017910.9867406,
          -4131541987.22317,
          -4144611819.061731,
          -4109733189.377163,
          -4130240361.5926523,
          -4109330380.1530604,
          -4126752899.826129,
          -4119867123.043794,
          -4143083209.653342,
          26680695439.460556,
          -4132092117.024498,
          -4144302251.602596,
          -4124471379.9580655,
          -4145017907.447194,
          -3946079745.1620913,
          -3248656519.906323,
          -4129597658.570896,
          -4145017907.223172,
          -4092724072.4323516,
          -4143847619.333534,
          -4060404804.400508,
          -4121241950.2627397,
          -3145017867.123359,
          -4145017910.8075128,
          11173870737.236048,
          -4145017911.1009817,
          -4089448440.243413,
          -3902443806.7037797,
          -320332720.7105872,
          -4145017911.92762,
          -4141480752.9667673,
          -4121660808.1483855,
          -4124441377.496714,
          -4140625652.7402515,
          -4135386711.9345202,
          -3708664265.0351777,
          -4145017911.1032166,
          -3364807167.1233616,
          -3164284912.503155,
          13794707141.919172,
          -3650777201.0947895,
          -4122030980.9604163,
          -4085017911.255555,
          -4145017911.1011224,
          25438973651.206623,
          -4145017910.8075128,
          -3740701418.46045,
          -4071719703.3358073,
          -3943653575.1808305,
          -4041396028.5918856,
          -4141196665.782882,
          -4139965355.7837815,
          -4075333448.3345447,
          -4128116894.527179,
          -4070341842.2743106,
          -4025005764.762593,
          5855227214.211039,
          -3893012334.293771,
          -4145017872.0518284,
          -4143897524.226811,
          -4145017898.486341,
          -10062995235.874046,
          -4141684989.302169,
          -4144877134.1688814,
          -4045017817.8386755,
          -3124473388.855419,
          -4120529966.734636,
          -3022635628.5576196,
          -4145017867.1233606,
          -3145017867.1233606,
          -4045017907.4471936,
          -4135734773.9849086,
          -3145017867.123362,
          -2145017827.0135007,
          -4130086854.571893,
          -3164795254.1916795,
          -4137721373.4867277,
          -4144889584.886475
         ],
         "z": [
          0.8065904692616881,
          0.8068076709736246,
          0.6667898889257379,
          0.7769556021157112,
          -0.7234917443606643,
          -0.6988453614860302,
          -0.5836818784120663,
          0.804866337966412,
          -0.6810437737997698,
          -0.6988441950433446,
          -0.7042141972644365,
          0.12179948900601906,
          -0.6829210988852169,
          0.6667901540413914,
          0.8048644790849214,
          0.06526700559315941,
          -0.58369366689609,
          0.7410883976382082,
          -0.5854185492955083,
          -0.7234954344415558,
          0.16940592280879174,
          0.7709312752413932,
          0.20506511668574243,
          -0.5836923421367257,
          0.8065942021576281,
          -0.7234954347074023,
          0.8067212691918035,
          -0.6849213441300491,
          -0.583698212140992,
          -0.7234603998935377,
          -0.5836683142119546,
          -0.5836933403966769,
          0.8066158013295534,
          -0.6523438277941565,
          -0.6682390381532765,
          -0.583687970391319,
          -0.5854208444406561,
          0.8065904780135172,
          -0.5836948543414444,
          0.8065904688382388,
          -0.5836933680793595,
          0.806590683143074,
          -0.5836938859369001,
          0.7050164740814296,
          0.20506511595469246,
          -0.5854198158010976,
          0.15638142518781423,
          0.6667898889257381,
          0.7220367666995744,
          -0.6819899510788251,
          0.8048644790637586,
          -0.5836948541181332,
          -0.7196310806951753,
          -0.5811138567495603,
          -0.5836905499299944,
          -0.5836948547561297,
          -0.5836498026554079,
          -0.5836908410301818,
          0.12882778114341265,
          -0.5836957285947505,
          0.20333912579793928,
          0.7417820923212727,
          -0.7234954344503219,
          0.14743654838276163,
          -0.5836946189708269,
          -0.6805699636032362,
          -0.583512872108725,
          -0.583681336196945,
          -0.583686279435132,
          0.8048644790350751,
          0.7410831428512397,
          0.8066088435109986,
          -0.6852688486422367,
          0.20368464456227298,
          -0.5650468059145792,
          0.8048681122870123,
          -0.7234910934374534,
          0.8048644790674927,
          0.7709312751049718,
          -0.5836636814162551,
          -0.583690876015353,
          -0.5836946267864042,
          -0.5836948548173725,
          0.804864479087545,
          0.7245331515387988,
          -0.5836870010026977,
          -0.6710779422120147,
          0.20944840197827336,
          -0.58369365941105,
          0.6671220706711326,
          0.2050684472879578,
          0.7709448791072175,
          -0.7234954348648114,
          -0.5832079382371749,
          -0.7234924011712984,
          -0.583625958244578,
          0.7709343951820605,
          0.7096730717560884,
          0.8066363029613632,
          0.8066056926716624,
          0.8126249832057765,
          -0.5836948542051983,
          -0.5836946269966962,
          -0.5836898716702621,
          0.7410831428424947,
          0.8065904692442982,
          -0.583689586160629,
          -0.6760303223048053,
          -0.5836948542839028,
          0.20334956467933202,
          0.8048644793385628,
          -0.7233794812021465,
          0.10350764313486667,
          -0.7234864729303015,
          0.12354317235231153,
          0.8048647737507016,
          -0.723490713618339,
          -0.7234954344505196,
          -0.7234949661774074,
          -0.7234953930727127,
          -0.5854205957361837,
          0.8068166710704718,
          0.806600809133029,
          0.7709312752938626,
          -0.5836900887656961,
          -0.5854208442570121,
          0.14734775012063153,
          -0.6729503386671777,
          -0.5836702357223824,
          0.8065904692355531,
          0.8048659098541185,
          0.10351170732856414,
          -0.7234873665058901,
          0.7709380875293754,
          0.806590468815796,
          0.8066209238162374,
          -0.6887644796342726,
          -0.7252308121546962,
          0.06380712044313658,
          0.12056847341802218,
          -0.583680817367974,
          0.6667979414042815,
          -0.723495434436309,
          0.20506511668052285,
          0.7220470362965804,
          -0.5836094357208357,
          0.20507071266793092,
          -0.5836665479943489,
          0.7709316915067284,
          -0.5836948166757571,
          0.2051010627900391,
          -0.5836635110793884,
          0.06526453650186433,
          0.8065907714033286,
          0.7709327360665612,
          0.7709312751889232,
          -0.5835317216354294,
          0.8048644790078784,
          -0.6710862954992837,
          -0.6709376712767859,
          0.2033396801865681,
          -0.6852554449139576,
          -0.6682480253654213,
          0.7410831428512397,
          -0.5836927668346422,
          0.8065904692530432,
          0.806592857872344,
          -0.5827459179553892,
          -0.723495434427564,
          -0.6709399327465296,
          -0.5836948548348342,
          -0.5854208445455952,
          -0.583694726588149,
          -0.7234928692215002,
          -0.5836956404768324,
          0.8065904692530432,
          0.8048647906873243,
          -0.5854208445455952,
          0.06498421810228552,
          -0.585414211839439,
          0.8065904692530432,
          -0.6785268962676285,
          -0.7234923992346383,
          0.7242846025681778,
          -0.585417578921412,
          0.12055790546294923,
          0.14585181766827116,
          0.8048644790962898,
          -0.5836881524779323,
          -0.5836792912881222,
          0.2050857006287597,
          -0.6988653676613692,
          0.20333912665294201,
          0.7709360181015454,
          -0.6667109531553057,
          0.666798743899208,
          0.16940592283631953,
          0.7410859278422032,
          -0.5854175780836336,
          -0.7234911123490326,
          0.7218634192453827,
          -0.5836949983918498,
          -0.5836516281211557,
          -0.6710839290289096,
          0.666790644127455,
          0.8071278031580835,
          -0.5836804793012677,
          -0.7266524234153318,
          0.666790944624731,
          0.7378880685461663,
          -0.719020521184287,
          0.7438548555903229,
          0.11314646623134245,
          0.8065923212477218,
          0.8065904692163145,
          -0.7234954345587382,
          -0.5854208639331383,
          0.20507344696326157,
          -0.6760303655922828,
          -0.5854115591784214,
          -0.5836950377441023,
          -0.6760290367535596,
          -0.5836947245587382,
          0.6667898870892999,
          -0.6710862938176254,
          -0.6710827272670844,
          0.804866618040796,
          -0.7234954347948518,
          0.21267465951852255,
          0.6667907895839236,
          0.14858993964426906,
          0.12883072875456494,
          -0.5836935016958179,
          -0.5854180338272564,
          0.804864479095415,
          0.8048644789126458,
          0.8048921761364963,
          0.12882661186347624,
          0.666790133072945,
          -0.7234954344487375,
          0.6667933143218298,
          0.7417992695331501,
          0.7410831425364218,
          0.8048694980143435,
          0.7417820921868108,
          0.8065904686000872,
          0.8065904661923126,
          -0.5836947272118381,
          0.1214541437443179,
          0.806757824170915,
          0.8065914005943929,
          0.8066110530526158,
          0.1694069503547208,
          -0.5854205608359121,
          0.20347436223562698,
          0.026403510557086837,
          0.8048676824315718,
          0.20333912579793928,
          0.8065993539434825,
          -0.7266508131191849,
          0.6667900113092133,
          -0.7234941492385915,
          0.8048646144423531,
          0.8065910005595085,
          -0.6850630120282101,
          0.8065908685728711,
          -0.5836708036399006,
          0.8048643916468403,
          0.20510002815151318,
          -0.7234935599332,
          0.1474785373362965,
          -0.5836925655115281,
          0.7390802526418129,
          0.1288418509653528,
          0.8065973698444792,
          -0.5836948548654415,
          0.8049189491768374,
          -0.6760303219550075,
          -0.6785281544998819,
          -0.723495451917454,
          0.12885722451671033,
          0.1694064374905197,
          -0.6523972557324342,
          0.7243034915281145,
          0.1288302772800688,
          0.7352730978557059,
          -0.6988621338366674,
          -0.7234954353020585,
          -0.7042145615115308,
          0.06680302067639343,
          0.8048682546422123,
          0.8065904605080984,
          -0.5836545342521771,
          -0.7042157170425017,
          -0.5852512309151701,
          0.7899088599316197,
          0.8048652722573502,
          0.1288369038944368,
          0.7350503426292451,
          0.8065939867544722,
          0.8065904675040542,
          0.8065909731232823,
          -0.5854082145041114,
          0.12883072875456494,
          0.8048657279546962,
          0.6667924446580106,
          0.8065946361307444,
          0.1456244493161433,
          0.8065927499387703,
          0.8065927102604301,
          0.8048646467499349,
          -0.7266522220896999,
          0.8065921925516217,
          0.21202515793565685,
          0.8065911840415896,
          0.8065911517684049,
          0.13636488121693802,
          0.7220422093091164,
          -0.5836946700916571,
          -0.7266504973465726,
          0.8048644769100534,
          -0.6785293384789507,
          0.7709312713586376,
          0.12882661112015595,
          0.8065953980742858,
          0.6667904087271154,
          0.8048656439211535,
          0.8048644782217952,
          -0.5854208451371034,
          0.8065929025423222,
          -0.5853111827417711,
          0.8065905324988801,
          -0.5836948542751578,
          -0.6810450582183714,
          0.20506571795877374,
          0.14736385955147982,
          -0.6709073639190406,
          -0.5836942128639362,
          0.16940891263632388,
          -0.5854145982375845,
          -0.7042142922076264,
          0.8067963072487707,
          -0.5836743025345738,
          -0.678525907190041,
          -0.6988675319103539,
          -0.5854208460934505,
          0.20507253737826506,
          -0.6710858323596038,
          0.8048671877307929,
          0.7242853493848942,
          0.8048872510391044,
          -0.5836816951166441,
          0.20506511584975307,
          0.12884948797996568,
          0.804868908315786,
          -0.6485011476208081,
          0.12890923978370464,
          0.8048895191604907,
          0.8065915742451091,
          0.8065907053816903,
          0.8065905634314685,
          -0.5836948542839028,
          0.06528457764491001,
          0.8048680134195093,
          -0.58369068064196,
          -0.5836948541090039,
          0.20512585201310465,
          -0.7232242022620214,
          0.12882895637319441,
          0.8065948649667781,
          0.8048644607887474,
          0.7494518825521498,
          0.0652666638482561,
          -0.5836920401037468,
          0.1214667842505093,
          -0.6810331046781868,
          0.728993250131971,
          -0.6710822062461482,
          -0.6734967038659426,
          -0.6710824909897876,
          -0.7262799678301645,
          0.741782950904669,
          -0.5854136118880322,
          0.7417950476983262,
          0.7244989547989079,
          -0.5836911216097448,
          0.7709356529989329,
          -0.5836937909864895,
          0.8048644790271555,
          -0.585415484045883,
          -0.5854203045097571,
          0.808451901560075,
          -0.7266495085652536,
          0.7709357866753298,
          -0.6710826159848492,
          -0.5501322427187714,
          -0.670446102208911,
          0.12058021137046489,
          -0.5853956426654772,
          0.7245072972404378,
          -0.7234917302777324,
          0.8048670663548748,
          -0.5836948629326533,
          0.20506895845590278,
          0.07381012491890453,
          -0.5836948460424601,
          0.1288274348429248,
          -0.5542573972394521,
          -0.5836948628452036,
          -0.5836928567297407,
          -0.5836912620374067,
          -0.5836881347515706,
          -0.5836879145377695,
          0.8065944909915859,
          0.806591333772625,
          -0.7266505823919843,
          0.12124032261330875,
          0.1259140290799947,
          0.8048659738019659,
          -0.7031431192506955,
          0.7097100008570764,
          -0.5848644859679704,
          0.8065907039320206,
          -0.6806120572028758,
          0.11580403916448517,
          -0.7042121759925396,
          0.8165654750888022,
          0.6668088364084002,
          0.741897471944574,
          0.7247363034612535,
          -0.6760232154970426,
          0.8065909115756674,
          0.7378943888463192,
          -0.5836742723588457,
          0.12056045281646564,
          0.8065938373002762,
          0.7193762614210754,
          0.8048644790640485,
          0.13636271564300384,
          0.06711707846137498,
          -0.5853847797042535,
          -0.6806116025848374,
          -0.5836948567237424,
          -0.698864904524307,
          -0.5836948550193526,
          -0.680611714234338,
          0.08111762361792685,
          0.8048723408932624,
          0.06684004685505093,
          0.7476277024865781,
          0.7709690533382503,
          -0.6851696913796026,
          0.8066133116656704,
          -0.7226840664821302,
          -0.7266514970529949,
          -0.698760391506585,
          0.14025946654909316,
          0.13636620641291655,
          -0.5854043162372976,
          -0.7234954346112079,
          -0.6809564934170708,
          0.8076010483280693,
          0.8065922010478275,
          -0.582878879918532,
          0.8048737776237791,
          0.6667891018806961,
          -0.6622309637679699,
          -0.585419973895958,
          0.8065904692128164,
          -0.6806112993359725,
          0.13636833479963073,
          -0.6805512064585965,
          -0.583685492122473,
          0.8067121214889319,
          0.8065909847583902,
          0.2033400337072494,
          -0.5854190992680002,
          -0.7234912834985419,
          -0.6684443041609477,
          0.8065904517631531,
          0.12145040894627004,
          0.08989277604982324,
          0.14734307621287696,
          -0.6709080701942918,
          0.8066388095625862,
          -0.7266248566303558,
          -0.7042157170425017,
          -0.6657877684843038,
          -0.5816364741429794,
          -0.676008118557498,
          -0.6728283582062484,
          0.16945332215714218,
          0.06267933410989307,
          0.062444289193899966,
          -0.5836922924609369,
          -0.5807120869806772,
          -0.5836950377441023,
          -0.6806129147930753,
          -0.7042157170425017,
          -0.5853773536992873,
          0.721840882285654,
          0.06235432118531154,
          0.8048649251178089,
          0.7254418216905879,
          0.2050703792486765,
          0.12069236165562403,
          -0.6988166145580342,
          -0.5854208444494009,
          -0.7266359541561509,
          -0.680612915392104,
          -0.583694016443998,
          -0.6710811288892399,
          0.7417849300744181,
          -0.7042157175942727,
          0.806590643298596,
          0.8065907125517631,
          -0.7042010291786343,
          -0.7042157170538702,
          0.20512013481217278,
          -0.6785240868890982,
          0.6860696046580061,
          0.12055993071590183,
          0.12883111444919598,
          0.8065925028599042,
          0.8065904683785486,
          0.06511105409269294,
          0.8065904648805706,
          -0.5854142989043727,
          0.7379168319142259,
          0.12882889110001192,
          -0.7266491263956729,
          0.11828757726960606,
          0.8068794657126925,
          -0.6484988941539624,
          -0.678528675477137,
          0.06643125128351116,
          -0.6710861294751996,
          0.20507308427238882,
          -0.6785282741829818,
          -0.7266524111481073,
          -0.6734700754188269,
          -0.7181536899707309,
          0.8086900168094681,
          0.20506668705504377,
          -0.6710582260298812,
          0.7350572449411504,
          -0.7265371401311617,
          0.80659491467214,
          0.1395640235434548,
          0.16342865201894613,
          0.13636326974894786,
          0.06527643583122555,
          0.1220295861770348,
          -0.6704716272844148,
          -0.6710845077042643,
          -0.5854198166415605,
          0.7198196233612785,
          0.13636417400259118,
          0.7378892871853608,
          0.20506518370938376,
          0.7242828321445854,
          0.7173271954932824,
          0.13637631239979825,
          -0.5836945626780935,
          0.8065915728632294,
          -0.6810441227694287,
          -0.6710852839735144,
          0.8065904683785486,
          -0.6648405538333738,
          -0.652982946673594,
          0.20334309275727733,
          0.8048708127950316,
          0.20508729739647433,
          0.12882853011785111,
          -0.6729608734072233,
          0.20506510948343315,
          -0.7230631746365351,
          0.20506511621704077,
          0.719378919061026,
          0.2033400530631954,
          -0.5854198119728036,
          0.7378880665364942,
          0.8068084999367552,
          0.06341124795873554,
          -0.6704712928702972,
          0.06251927198847426,
          0.7096724066319665,
          -0.7033439994209546,
          0.12391778021294483,
          -0.652397254886798,
          -0.6710871713483518,
          -0.6785269062639111,
          -0.6988675280518027,
          -0.7234917309107111,
          0.06593813266662084,
          -0.6988675288067868,
          0.2068817333791384,
          -0.7262681667528479,
          0.07838751222291471,
          -0.6709090619418461,
          0.7378953371488451,
          -0.6710862940247608,
          -0.6756131806283684,
          -0.6756102428178691,
          -0.7234954346112058,
          0.08454702712657833,
          -0.671086209942076,
          -0.5836875919056268,
          0.8065935109797772,
          -0.7042083729973543,
          0.737891828349296,
          -0.7042105399213219,
          0.13636311443398874,
          0.812935187063596,
          -0.6682466757812573,
          0.20333927381632197,
          0.8065946979543309,
          -0.6710862945338224,
          0.7254826823049548,
          0.7352348731440336,
          0.804867649628433,
          -0.7234954353457834,
          -0.7234846704714134,
          -0.619353807176907,
          -0.7234780185658615,
          0.8048693730378799,
          0.06698658671891412,
          0.2033391264538101,
          0.8097435061563337,
          -0.5854208444183561,
          -0.5836842740894856,
          0.8049144121852215,
          -0.6798256505535685,
          0.7220359877147104,
          0.8065911956148528,
          -0.6756087578886535,
          0.806594704390623,
          0.06526544045028233,
          0.8065924518041703,
          0.8049542966951996,
          -0.7266524234149232,
          -0.5835342590155708,
          0.8067922580256841,
          0.6704827211933482,
          0.8049662081815548,
          -0.7234907030104213,
          0.8066028199263092,
          -0.7266524234153318,
          -0.5776055235692806,
          0.6667898887071146,
          0.8066736929837564,
          -0.668234149555309,
          0.80490592746783,
          0.8066117980793232,
          0.12882739850692707,
          -0.5836938140918154,
          -0.5836805113738112,
          0.14561232465465868,
          0.6668052598320952,
          0.06680545143256876,
          0.20712354707530636,
          0.8066423411535799,
          -0.5836948618832598,
          0.7096726389371273,
          0.8065904666295598,
          0.06108474091232846,
          -0.6852681622282012,
          0.770931304271455,
          -0.6710656521424146,
          0.0669908244869721,
          -0.6988624873829602,
          0.06701178745800686,
          -0.6988675366772372,
          0.06547037449760987,
          0.06233265799624348,
          0.1288285228227544,
          0.07103044200926067,
          0.010431120248670812,
          0.8065935405739924,
          -0.7264506598725711,
          -0.7042142150740393,
          0.20506514323613587
         ]
        },
        {
         "customdata": [
          [
           "Scrypt",
           "PoW/PoS"
          ]
         ],
         "hovertemplate": "<b>%{hovertext}</b><br><br>class=%{marker.color}<br>Principal Component 1=%{x}<br>Principal Component 2=%{y}<br>Principal Component 3=%{z}<br>Algorithm=%{customdata[0]}<br>ProofType=%{customdata[1]}<extra></extra>",
         "hovertext": [
          null
         ],
         "legendgroup": "1",
         "marker": {
          "color": [
           1
          ],
          "coloraxis": "coloraxis",
          "symbol": "diamond"
         },
         "mode": "markers",
         "name": "1",
         "scene": "scene",
         "showlegend": true,
         "type": "scatter3d",
         "x": [
          92099063618327340
         ],
         "y": [
          -12554388.249860495
         ],
         "z": [
          1.1668456114028595e-05
         ]
        },
        {
         "customdata": [
          [
           "CryptoNight",
           "PoW"
          ]
         ],
         "hovertemplate": "<b>%{hovertext}</b><br><br>class=%{marker.color}<br>Principal Component 1=%{x}<br>Principal Component 2=%{y}<br>Principal Component 3=%{z}<br>Algorithm=%{customdata[0]}<br>ProofType=%{customdata[1]}<extra></extra>",
         "hovertext": [
          "TurtleCoin"
         ],
         "legendgroup": "2",
         "marker": {
          "color": [
           2
          ],
          "coloraxis": "coloraxis",
          "symbol": "square"
         },
         "mode": "markers",
         "name": "2",
         "scene": "scene",
         "showlegend": true,
         "type": "scatter3d",
         "x": [
          -133656381674909.9
         ],
         "y": [
          48994862106.1018
         ],
         "z": [
          -0.7157225063202846
         ]
        },
        {
         "customdata": [
          [
           "TRC10",
           "DPoS"
          ]
         ],
         "hovertemplate": "<b>%{hovertext}</b><br><br>class=%{marker.color}<br>Principal Component 1=%{x}<br>Principal Component 2=%{y}<br>Principal Component 3=%{z}<br>Algorithm=%{customdata[0]}<br>ProofType=%{customdata[1]}<extra></extra>",
         "hovertext": [
          "BitTorrent"
         ],
         "legendgroup": "3",
         "marker": {
          "color": [
           3
          ],
          "coloraxis": "coloraxis",
          "symbol": "x"
         },
         "mode": "markers",
         "name": "3",
         "scene": "scene",
         "showlegend": true,
         "type": "scatter3d",
         "x": [
          -133666381716884.58
         ],
         "y": [
          985843739883.9374
         ],
         "z": [
          0.2696332376586841
         ]
        }
       ],
       "layout": {
        "autosize": true,
        "coloraxis": {
         "colorbar": {
          "title": {
           "text": "class"
          }
         },
         "colorscale": [
          [
           0,
           "#0d0887"
          ],
          [
           0.1111111111111111,
           "#46039f"
          ],
          [
           0.2222222222222222,
           "#7201a8"
          ],
          [
           0.3333333333333333,
           "#9c179e"
          ],
          [
           0.4444444444444444,
           "#bd3786"
          ],
          [
           0.5555555555555556,
           "#d8576b"
          ],
          [
           0.6666666666666666,
           "#ed7953"
          ],
          [
           0.7777777777777778,
           "#fb9f3a"
          ],
          [
           0.8888888888888888,
           "#fdca26"
          ],
          [
           1,
           "#f0f921"
          ]
         ]
        },
        "legend": {
         "title": {
          "text": "class"
         },
         "tracegroupgap": 0
        },
        "margin": {
         "t": 60
        },
        "scene": {
         "aspectmode": "auto",
         "aspectratio": {
          "x": 1,
          "y": 1,
          "z": 1
         },
         "camera": {
          "center": {
           "x": 0,
           "y": 0,
           "z": 0
          },
          "eye": {
           "x": 0.020891559517097577,
           "y": 0.020891559517097574,
           "z": 0.020891559517097574
          },
          "projection": {
           "type": "perspective"
          },
          "up": {
           "x": 0,
           "y": 0,
           "z": 1
          }
         },
         "domain": {
          "x": [
           0,
           1
          ],
          "y": [
           0,
           1
          ]
         },
         "xaxis": {
          "title": {
           "text": "Principal Component 1"
          },
          "type": "linear"
         },
         "yaxis": {
          "title": {
           "text": "Principal Component 2"
          },
          "type": "linear"
         },
         "zaxis": {
          "title": {
           "text": "Principal Component 3"
          },
          "type": "linear"
         }
        },
        "template": {
         "data": {
          "bar": [
           {
            "error_x": {
             "color": "#2a3f5f"
            },
            "error_y": {
             "color": "#2a3f5f"
            },
            "marker": {
             "line": {
              "color": "#E5ECF6",
              "width": 0.5
             }
            },
            "type": "bar"
           }
          ],
          "barpolar": [
           {
            "marker": {
             "line": {
              "color": "#E5ECF6",
              "width": 0.5
             }
            },
            "type": "barpolar"
           }
          ],
          "carpet": [
           {
            "aaxis": {
             "endlinecolor": "#2a3f5f",
             "gridcolor": "white",
             "linecolor": "white",
             "minorgridcolor": "white",
             "startlinecolor": "#2a3f5f"
            },
            "baxis": {
             "endlinecolor": "#2a3f5f",
             "gridcolor": "white",
             "linecolor": "white",
             "minorgridcolor": "white",
             "startlinecolor": "#2a3f5f"
            },
            "type": "carpet"
           }
          ],
          "choropleth": [
           {
            "colorbar": {
             "outlinewidth": 0,
             "ticks": ""
            },
            "type": "choropleth"
           }
          ],
          "contour": [
           {
            "colorbar": {
             "outlinewidth": 0,
             "ticks": ""
            },
            "colorscale": [
             [
              0,
              "#0d0887"
             ],
             [
              0.1111111111111111,
              "#46039f"
             ],
             [
              0.2222222222222222,
              "#7201a8"
             ],
             [
              0.3333333333333333,
              "#9c179e"
             ],
             [
              0.4444444444444444,
              "#bd3786"
             ],
             [
              0.5555555555555556,
              "#d8576b"
             ],
             [
              0.6666666666666666,
              "#ed7953"
             ],
             [
              0.7777777777777778,
              "#fb9f3a"
             ],
             [
              0.8888888888888888,
              "#fdca26"
             ],
             [
              1,
              "#f0f921"
             ]
            ],
            "type": "contour"
           }
          ],
          "contourcarpet": [
           {
            "colorbar": {
             "outlinewidth": 0,
             "ticks": ""
            },
            "type": "contourcarpet"
           }
          ],
          "heatmap": [
           {
            "colorbar": {
             "outlinewidth": 0,
             "ticks": ""
            },
            "colorscale": [
             [
              0,
              "#0d0887"
             ],
             [
              0.1111111111111111,
              "#46039f"
             ],
             [
              0.2222222222222222,
              "#7201a8"
             ],
             [
              0.3333333333333333,
              "#9c179e"
             ],
             [
              0.4444444444444444,
              "#bd3786"
             ],
             [
              0.5555555555555556,
              "#d8576b"
             ],
             [
              0.6666666666666666,
              "#ed7953"
             ],
             [
              0.7777777777777778,
              "#fb9f3a"
             ],
             [
              0.8888888888888888,
              "#fdca26"
             ],
             [
              1,
              "#f0f921"
             ]
            ],
            "type": "heatmap"
           }
          ],
          "heatmapgl": [
           {
            "colorbar": {
             "outlinewidth": 0,
             "ticks": ""
            },
            "colorscale": [
             [
              0,
              "#0d0887"
             ],
             [
              0.1111111111111111,
              "#46039f"
             ],
             [
              0.2222222222222222,
              "#7201a8"
             ],
             [
              0.3333333333333333,
              "#9c179e"
             ],
             [
              0.4444444444444444,
              "#bd3786"
             ],
             [
              0.5555555555555556,
              "#d8576b"
             ],
             [
              0.6666666666666666,
              "#ed7953"
             ],
             [
              0.7777777777777778,
              "#fb9f3a"
             ],
             [
              0.8888888888888888,
              "#fdca26"
             ],
             [
              1,
              "#f0f921"
             ]
            ],
            "type": "heatmapgl"
           }
          ],
          "histogram": [
           {
            "marker": {
             "colorbar": {
              "outlinewidth": 0,
              "ticks": ""
             }
            },
            "type": "histogram"
           }
          ],
          "histogram2d": [
           {
            "colorbar": {
             "outlinewidth": 0,
             "ticks": ""
            },
            "colorscale": [
             [
              0,
              "#0d0887"
             ],
             [
              0.1111111111111111,
              "#46039f"
             ],
             [
              0.2222222222222222,
              "#7201a8"
             ],
             [
              0.3333333333333333,
              "#9c179e"
             ],
             [
              0.4444444444444444,
              "#bd3786"
             ],
             [
              0.5555555555555556,
              "#d8576b"
             ],
             [
              0.6666666666666666,
              "#ed7953"
             ],
             [
              0.7777777777777778,
              "#fb9f3a"
             ],
             [
              0.8888888888888888,
              "#fdca26"
             ],
             [
              1,
              "#f0f921"
             ]
            ],
            "type": "histogram2d"
           }
          ],
          "histogram2dcontour": [
           {
            "colorbar": {
             "outlinewidth": 0,
             "ticks": ""
            },
            "colorscale": [
             [
              0,
              "#0d0887"
             ],
             [
              0.1111111111111111,
              "#46039f"
             ],
             [
              0.2222222222222222,
              "#7201a8"
             ],
             [
              0.3333333333333333,
              "#9c179e"
             ],
             [
              0.4444444444444444,
              "#bd3786"
             ],
             [
              0.5555555555555556,
              "#d8576b"
             ],
             [
              0.6666666666666666,
              "#ed7953"
             ],
             [
              0.7777777777777778,
              "#fb9f3a"
             ],
             [
              0.8888888888888888,
              "#fdca26"
             ],
             [
              1,
              "#f0f921"
             ]
            ],
            "type": "histogram2dcontour"
           }
          ],
          "mesh3d": [
           {
            "colorbar": {
             "outlinewidth": 0,
             "ticks": ""
            },
            "type": "mesh3d"
           }
          ],
          "parcoords": [
           {
            "line": {
             "colorbar": {
              "outlinewidth": 0,
              "ticks": ""
             }
            },
            "type": "parcoords"
           }
          ],
          "pie": [
           {
            "automargin": true,
            "type": "pie"
           }
          ],
          "scatter": [
           {
            "marker": {
             "colorbar": {
              "outlinewidth": 0,
              "ticks": ""
             }
            },
            "type": "scatter"
           }
          ],
          "scatter3d": [
           {
            "line": {
             "colorbar": {
              "outlinewidth": 0,
              "ticks": ""
             }
            },
            "marker": {
             "colorbar": {
              "outlinewidth": 0,
              "ticks": ""
             }
            },
            "type": "scatter3d"
           }
          ],
          "scattercarpet": [
           {
            "marker": {
             "colorbar": {
              "outlinewidth": 0,
              "ticks": ""
             }
            },
            "type": "scattercarpet"
           }
          ],
          "scattergeo": [
           {
            "marker": {
             "colorbar": {
              "outlinewidth": 0,
              "ticks": ""
             }
            },
            "type": "scattergeo"
           }
          ],
          "scattergl": [
           {
            "marker": {
             "colorbar": {
              "outlinewidth": 0,
              "ticks": ""
             }
            },
            "type": "scattergl"
           }
          ],
          "scattermapbox": [
           {
            "marker": {
             "colorbar": {
              "outlinewidth": 0,
              "ticks": ""
             }
            },
            "type": "scattermapbox"
           }
          ],
          "scatterpolar": [
           {
            "marker": {
             "colorbar": {
              "outlinewidth": 0,
              "ticks": ""
             }
            },
            "type": "scatterpolar"
           }
          ],
          "scatterpolargl": [
           {
            "marker": {
             "colorbar": {
              "outlinewidth": 0,
              "ticks": ""
             }
            },
            "type": "scatterpolargl"
           }
          ],
          "scatterternary": [
           {
            "marker": {
             "colorbar": {
              "outlinewidth": 0,
              "ticks": ""
             }
            },
            "type": "scatterternary"
           }
          ],
          "surface": [
           {
            "colorbar": {
             "outlinewidth": 0,
             "ticks": ""
            },
            "colorscale": [
             [
              0,
              "#0d0887"
             ],
             [
              0.1111111111111111,
              "#46039f"
             ],
             [
              0.2222222222222222,
              "#7201a8"
             ],
             [
              0.3333333333333333,
              "#9c179e"
             ],
             [
              0.4444444444444444,
              "#bd3786"
             ],
             [
              0.5555555555555556,
              "#d8576b"
             ],
             [
              0.6666666666666666,
              "#ed7953"
             ],
             [
              0.7777777777777778,
              "#fb9f3a"
             ],
             [
              0.8888888888888888,
              "#fdca26"
             ],
             [
              1,
              "#f0f921"
             ]
            ],
            "type": "surface"
           }
          ],
          "table": [
           {
            "cells": {
             "fill": {
              "color": "#EBF0F8"
             },
             "line": {
              "color": "white"
             }
            },
            "header": {
             "fill": {
              "color": "#C8D4E3"
             },
             "line": {
              "color": "white"
             }
            },
            "type": "table"
           }
          ]
         },
         "layout": {
          "annotationdefaults": {
           "arrowcolor": "#2a3f5f",
           "arrowhead": 0,
           "arrowwidth": 1
          },
          "coloraxis": {
           "colorbar": {
            "outlinewidth": 0,
            "ticks": ""
           }
          },
          "colorscale": {
           "diverging": [
            [
             0,
             "#8e0152"
            ],
            [
             0.1,
             "#c51b7d"
            ],
            [
             0.2,
             "#de77ae"
            ],
            [
             0.3,
             "#f1b6da"
            ],
            [
             0.4,
             "#fde0ef"
            ],
            [
             0.5,
             "#f7f7f7"
            ],
            [
             0.6,
             "#e6f5d0"
            ],
            [
             0.7,
             "#b8e186"
            ],
            [
             0.8,
             "#7fbc41"
            ],
            [
             0.9,
             "#4d9221"
            ],
            [
             1,
             "#276419"
            ]
           ],
           "sequential": [
            [
             0,
             "#0d0887"
            ],
            [
             0.1111111111111111,
             "#46039f"
            ],
            [
             0.2222222222222222,
             "#7201a8"
            ],
            [
             0.3333333333333333,
             "#9c179e"
            ],
            [
             0.4444444444444444,
             "#bd3786"
            ],
            [
             0.5555555555555556,
             "#d8576b"
            ],
            [
             0.6666666666666666,
             "#ed7953"
            ],
            [
             0.7777777777777778,
             "#fb9f3a"
            ],
            [
             0.8888888888888888,
             "#fdca26"
            ],
            [
             1,
             "#f0f921"
            ]
           ],
           "sequentialminus": [
            [
             0,
             "#0d0887"
            ],
            [
             0.1111111111111111,
             "#46039f"
            ],
            [
             0.2222222222222222,
             "#7201a8"
            ],
            [
             0.3333333333333333,
             "#9c179e"
            ],
            [
             0.4444444444444444,
             "#bd3786"
            ],
            [
             0.5555555555555556,
             "#d8576b"
            ],
            [
             0.6666666666666666,
             "#ed7953"
            ],
            [
             0.7777777777777778,
             "#fb9f3a"
            ],
            [
             0.8888888888888888,
             "#fdca26"
            ],
            [
             1,
             "#f0f921"
            ]
           ]
          },
          "colorway": [
           "#636efa",
           "#EF553B",
           "#00cc96",
           "#ab63fa",
           "#FFA15A",
           "#19d3f3",
           "#FF6692",
           "#B6E880",
           "#FF97FF",
           "#FECB52"
          ],
          "font": {
           "color": "#2a3f5f"
          },
          "geo": {
           "bgcolor": "white",
           "lakecolor": "white",
           "landcolor": "#E5ECF6",
           "showlakes": true,
           "showland": true,
           "subunitcolor": "white"
          },
          "hoverlabel": {
           "align": "left"
          },
          "hovermode": "closest",
          "mapbox": {
           "style": "light"
          },
          "paper_bgcolor": "white",
          "plot_bgcolor": "#E5ECF6",
          "polar": {
           "angularaxis": {
            "gridcolor": "white",
            "linecolor": "white",
            "ticks": ""
           },
           "bgcolor": "#E5ECF6",
           "radialaxis": {
            "gridcolor": "white",
            "linecolor": "white",
            "ticks": ""
           }
          },
          "scene": {
           "xaxis": {
            "backgroundcolor": "#E5ECF6",
            "gridcolor": "white",
            "gridwidth": 2,
            "linecolor": "white",
            "showbackground": true,
            "ticks": "",
            "zerolinecolor": "white"
           },
           "yaxis": {
            "backgroundcolor": "#E5ECF6",
            "gridcolor": "white",
            "gridwidth": 2,
            "linecolor": "white",
            "showbackground": true,
            "ticks": "",
            "zerolinecolor": "white"
           },
           "zaxis": {
            "backgroundcolor": "#E5ECF6",
            "gridcolor": "white",
            "gridwidth": 2,
            "linecolor": "white",
            "showbackground": true,
            "ticks": "",
            "zerolinecolor": "white"
           }
          },
          "shapedefaults": {
           "line": {
            "color": "#2a3f5f"
           }
          },
          "ternary": {
           "aaxis": {
            "gridcolor": "white",
            "linecolor": "white",
            "ticks": ""
           },
           "baxis": {
            "gridcolor": "white",
            "linecolor": "white",
            "ticks": ""
           },
           "bgcolor": "#E5ECF6",
           "caxis": {
            "gridcolor": "white",
            "linecolor": "white",
            "ticks": ""
           }
          },
          "title": {
           "x": 0.05
          },
          "xaxis": {
           "automargin": true,
           "gridcolor": "white",
           "linecolor": "white",
           "ticks": "",
           "title": {
            "standoff": 15
           },
           "zerolinecolor": "white",
           "zerolinewidth": 2
          },
          "yaxis": {
           "automargin": true,
           "gridcolor": "white",
           "linecolor": "white",
           "ticks": "",
           "title": {
            "standoff": 15
           },
           "zerolinecolor": "white",
           "zerolinewidth": 2
          }
         }
        }
       }
      },
      "image/png": "[encoded data removed]",
      "text/html": [
       "<div>\n",
       "        \n",
       "        \n",
       "            <div id=\"984b6e23-8b3f-4e35-858b-a06b3dabdb70\" class=\"plotly-graph-div\" style=\"height:525px; width:1000px;\"></div>\n",
       "            <script type=\"text/javascript\">\n",
       "                require([\"plotly\"], function(Plotly) {\n",
       "                    window.PLOTLYENV=window.PLOTLYENV || {};\n",
       "                    \n",
       "                if (document.getElementById(\"984b6e23-8b3f-4e35-858b-a06b3dabdb70\")) {\n",
       "                    Plotly.newPlot(\n",
       "                        '984b6e23-8b3f-4e35-858b-a06b3dabdb70',\n",
       "                        [{\"customdata\": [[\"Scrypt\", \"PoW/PoS\"], [\"Scrypt\", \"PoW/PoS\"], [\"SHA-256\", \"PoW/PoS\"], [\"X13\", \"PoW/PoS\"], [\"SHA-256\", \"PoW\"], [\"Ethash\", \"PoW\"], [\"Scrypt\", \"PoW\"], [\"X11\", \"PoW/PoS\"], [\"CryptoNight-V7\", \"PoW\"], [\"Ethash\", \"PoW\"], [\"Equihash\", \"PoW\"], [\"SHA-512\", \"PoS\"], [\"Multiple\", \"PoW\"], [\"SHA-256\", \"PoW/PoS\"], [\"X11\", \"PoW/PoS\"], [\"SHA-256\", \"PoS\"], [\"Scrypt\", \"PoW\"], [\"X15\", \"PoW/PoS\"], [\"X11\", \"PoW\"], [\"SHA-256\", \"PoW\"], [\"X13\", \"PoS\"], [\"X13\", \"PoW/PoS\"], [\"Scrypt\", \"PoS\"], [\"Scrypt\", \"PoW\"], [\"Scrypt\", \"PoW/PoS\"], [\"SHA-256\", \"PoW\"], [\"Scrypt\", \"PoW/PoS\"], [\"Multiple\", \"PoW\"], [\"Scrypt\", \"PoW\"], [\"SHA-256\", \"PoW\"], [\"Scrypt\", \"PoW\"], [\"Scrypt\", \"PoW\"], [\"Scrypt\", \"PoW/PoS\"], [\"Quark\", \"PoW\"], [\"Groestl\", \"PoW\"], [\"Scrypt\", \"PoW\"], [\"X11\", \"PoW\"], [\"Scrypt\", \"PoW/PoS\"], [\"Scrypt\", \"PoW\"], [\"Scrypt\", \"PoW/PoS\"], [\"Scrypt\", \"PoW\"], [\"Scrypt\", \"PoW/PoS\"], [\"Scrypt\", \"PoW\"], [\"Multiple\", \"PoW/PoS\"], [\"Scrypt\", \"PoS\"], [\"X11\", \"PoW\"], [\"Scrypt\", \"PoC\"], [\"SHA-256\", \"PoW/PoS\"], [\"Groestl\", \"PoW/PoS\"], [\"Multiple\", \"PoW\"], [\"X11\", \"PoW/PoS\"], [\"Scrypt\", \"PoW\"], [\"SHA-256\", \"PoW\"], [\"Scrypt\", \"PoW\"], [\"Scrypt\", \"PoW\"], [\"Scrypt\", \"PoW\"], [\"Scrypt\", \"PoW\"], [\"Scrypt\", \"PoW\"], [\"PoS\", \"PoS\"], [\"Scrypt\", \"PoW\"], [\"X11\", \"PoS\"], [\"NIST5\", \"PoW/PoS\"], [\"SHA-256\", \"PoW\"], [\"Scrypt\", \"PoS/PoW/PoT\"], [\"Scrypt\", \"PoW\"], [\"NeoScrypt\", \"PoW\"], [\"Scrypt\", \"PoW\"], [\"Scrypt\", \"PoW\"], [\"Scrypt\", \"PoW\"], [\"X11\", \"PoW/PoS\"], [\"X15\", \"PoW/PoS\"], [\"Scrypt\", \"PoW/PoS\"], [\"Multiple\", \"PoW\"], [\"X11\", \"PoS\"], [\"Scrypt\", \"PoW\"], [\"X11\", \"PoW/PoS\"], [\"SHA-256\", \"PoW\"], [\"X11\", \"PoW/PoS\"], [\"X13\", \"PoW/PoS\"], [\"Scrypt\", \"PoW\"], [\"Scrypt\", \"PoW\"], [\"Scrypt\", \"PoW\"], [\"Scrypt\", \"PoW\"], [\"X11\", \"PoW/PoS\"], [\"SHA3\", \"PoW/PoS\"], [\"Scrypt\", \"PoW\"], [\"HybridScryptHash256\", \"PoW\"], [\"Scrypt\", \"PoS\"], [\"Scrypt\", \"PoW\"], [\"SHA-256\", \"PoW/PoS\"], [\"Scrypt\", \"PoS\"], [\"X13\", \"PoW/PoS\"], [\"SHA-256\", \"PoW\"], [\"Scrypt\", \"PoW\"], [\"SHA-256\", \"PoW\"], [\"Scrypt\", \"PoW\"], [\"X13\", \"PoW/PoS\"], [\"NeoScrypt\", \"PoW/PoS\"], [\"Scrypt\", \"PoW/PoS\"], [\"Scrypt\", \"PoW/PoS\"], [\"Scrypt\", \"PoW/PoS\"], [\"Scrypt\", \"PoW\"], [\"Scrypt\", \"PoW\"], [\"Scrypt\", \"PoW\"], [\"X15\", \"PoW/PoS\"], [\"Scrypt\", \"PoW/PoS\"], [\"Scrypt\", \"PoW\"], [\"Scrypt-n\", \"PoW\"], [\"Scrypt\", \"PoW\"], [\"X11\", \"PoS\"], [\"X11\", \"PoW/PoS\"], [\"SHA-256\", \"PoW\"], [\"Multiple\", \"PoS\"], [\"SHA-256\", \"PoW\"], [\"PHI1612\", \"PoS\"], [\"X11\", \"PoW/PoS\"], [\"SHA-256\", \"PoW\"], [\"SHA-256\", \"PoW\"], [\"SHA-256\", \"PoW\"], [\"SHA-256\", \"PoW\"], [\"X11\", \"PoW\"], [\"Scrypt\", \"PoW/PoS\"], [\"Scrypt\", \"PoW/PoS\"], [\"X13\", \"PoW/PoS\"], [\"Scrypt\", \"PoW\"], [\"X11\", \"PoW\"], [\"Scrypt\", \"PoST\"], [\"Lyra2REv2\", \"PoW\"], [\"Scrypt\", \"PoW\"], [\"Scrypt\", \"PoW/PoS\"], [\"X11\", \"PoW/PoS\"], [\"Multiple\", \"PoS\"], [\"SHA-256\", \"PoW\"], [\"X13\", \"PoW/PoS\"], [\"Scrypt\", \"PoW/PoS\"], [\"Scrypt\", \"PoW/PoS\"], [\"CryptoNight\", \"PoW\"], [\"CryptoNight\", \"PoW\"], [\"Shabal256\", \"PoC\"], [\"Counterparty\", \"PoS\"], [\"Scrypt\", \"PoW\"], [\"SHA-256\", \"PoW/PoS\"], [\"SHA-256\", \"PoW\"], [\"Scrypt\", \"PoS\"], [\"Groestl\", \"PoW/PoS\"], [\"Scrypt\", \"PoW\"], [\"Scrypt\", \"PoS\"], [\"Scrypt\", \"PoW\"], [\"X13\", \"PoW/PoS\"], [\"Scrypt\", \"PoW\"], [\"Scrypt\", \"PoS\"], [\"Scrypt\", \"PoW\"], [\"SHA-256\", \"PoS\"], [\"Scrypt\", \"PoW/PoS\"], [\"X13\", \"PoW/PoS\"], [\"X13\", \"PoW/PoS\"], [\"Scrypt\", \"PoW\"], [\"X11\", \"PoW/PoS\"], [\"Momentum\", \"PoW\"], [\"Stanford Folding\", \"PoW\"], [\"X11\", \"PoS\"], [\"Multiple\", \"PoW\"], [\"QuBit\", \"PoW\"], [\"X15\", \"PoW/PoS\"], [\"Scrypt\", \"PoW\"], [\"Scrypt\", \"PoW/PoS\"], [\"Scrypt\", \"PoW/PoS\"], [\"Scrypt\", \"PoW\"], [\"SHA-256\", \"PoW\"], [\"M7 POW\", \"PoW\"], [\"Scrypt\", \"PoW\"], [\"X11\", \"PoW\"], [\"Scrypt\", \"PoW\"], [\"SHA-256\", \"PoW\"], [\"Scrypt\", \"PoW\"], [\"Scrypt\", \"PoW/PoS\"], [\"X11\", \"PoW/PoS\"], [\"X11\", \"PoW\"], [\"SHA3\", \"PoW/nPoS\"], [\"X11\", \"PoW\"], [\"Scrypt\", \"PoW/PoS\"], [\"Lyra2RE\", \"PoW\"], [\"SHA-256\", \"PoW\"], [\"QUAIT\", \"PoW/PoS\"], [\"X11\", \"PoW\"], [\"vDPOS\", \"PoS\"], [\"X11\", \"PoS/PoW\"], [\"X11\", \"PoW/PoS\"], [\"Scrypt\", \"PoW\"], [\"Scrypt\", \"PoW\"], [\"Scrypt\", \"PoS\"], [\"Ethash\", \"PoW\"], [\"X11\", \"PoS\"], [\"X13\", \"PoW/PoS\"], [\"Blake2b\", \"PoW\"], [\"SHA-256\", \"PoW/PoS\"], [\"X13\", \"PoS\"], [\"X15\", \"PoW/PoS\"], [\"X11\", \"PoW\"], [\"SHA-256\", \"PoW\"], [\"BLAKE256\", \"PoW/PoS\"], [\"Scrypt\", \"PoW\"], [\"Scrypt\", \"PoW\"], [\"1GB AES Pattern Search\", \"PoW\"], [\"SHA-256\", \"PoW/PoS\"], [\"X11\", \"PoW/PoS\"], [\"Scrypt\", \"PoW\"], [\"CryptoNight\", \"PoW\"], [\"SHA-256\", \"PoW/PoS\"], [\"Quark\", \"PoW/PoS\"], [\"SHA-256\", \"PoW\"], [\"NIST5\", \"PoW/PoS\"], [\"Blake\", \"PoS\"], [\"Scrypt\", \"PoW/PoS\"], [\"Scrypt\", \"PoW/PoS\"], [\"SHA-256\", \"PoW\"], [\"X11\", \"PoW\"], [\"Scrypt\", \"PoS\"], [\"Scrypt-n\", \"PoW\"], [\"X11\", \"PoW\"], [\"Scrypt\", \"PoW\"], [\"Dagger\", \"PoW\"], [\"Scrypt\", \"PoW\"], [\"SHA-256\", \"PoW/PoS\"], [\"CryptoNight-Lite\", \"PoW\"], [\"X11GOST\", \"PoW\"], [\"X11\", \"PoW/PoS\"], [\"SHA-256\", \"PoW\"], [\"Scrypt\", \"PoS\"], [\"SHA-256\", \"PoW/PoS\"], [\"Scrypt\", \"PoC\"], [\"PoS\", \"PoS\"], [\"Scrypt\", \"PoW\"], [\"X11\", \"PoW\"], [\"X11\", \"PoW/PoS\"], [\"X11\", \"PoW/PoS\"], [\"X11\", \"PoW/PoS\"], [\"PoS\", \"PoS\"], [\"SHA-256\", \"PoW/PoS\"], [\"SHA-256\", \"PoW\"], [\"SHA-256\", \"PoW/PoS\"], [\"NIST5\", \"PoW/PoS\"], [\"X15\", \"PoW/PoS\"], [\"X11\", \"PoW/PoS\"], [\"NIST5\", \"PoW/PoS\"], [\"Scrypt\", \"PoW/PoS\"], [\"Scrypt\", \"PoW/PoS\"], [\"Scrypt\", \"PoW\"], [\"POS 3.0\", \"PoS\"], [\"Scrypt\", \"PoW/PoS\"], [\"Scrypt\", \"PoW/PoS\"], [\"Scrypt\", \"PoW/PoS\"], [\"X13\", \"PoS\"], [\"X11\", \"PoW\"], [\"X11\", \"PoS\"], [\"Equihash\", \"dPoW/PoW\"], [\"X11\", \"PoW/PoS\"], [\"X11\", \"PoS\"], [\"Scrypt\", \"PoW/PoS\"], [\"CryptoNight\", \"PoW\"], [\"SHA-256\", \"PoW/PoS\"], [\"SHA-256\", \"PoW\"], [\"X11\", \"PoW/PoS\"], [\"Scrypt\", \"PoW/PoS\"], [\"Multiple\", \"PoW\"], [\"Scrypt\", \"PoW/PoS\"], [\"Scrypt\", \"PoW\"], [\"X11\", \"PoW/PoS\"], [\"Scrypt\", \"PoS\"], [\"SHA-256\", \"PoW\"], [\"Scrypt\", \"PoW/PoW\"], [\"Scrypt\", \"PoW\"], [\"SHA-256D\", \"PoW/PoS\"], [\"PoS\", \"PoS\"], [\"Scrypt\", \"PoW/PoS\"], [\"Scrypt\", \"PoW\"], [\"X11\", \"PoW/PoS\"], [\"Scrypt-n\", \"PoW\"], [\"Lyra2Z\", \"PoW\"], [\"SHA-256\", \"PoW\"], [\"PoS\", \"PoS\"], [\"X13\", \"PoS\"], [\"Quark\", \"PoW\"], [\"X14\", \"PoW/PoS\"], [\"PoS\", \"PoS\"], [\"SHA-256D\", \"PoW/PoS\"], [\"Ethash\", \"PoW\"], [\"SHA-256\", \"PoW\"], [\"Equihash\", \"PoW\"], [\"DPoS\", \"DPoS\"], [\"X11\", \"PoW/PoS\"], [\"Scrypt\", \"PoW/PoS\"], [\"Scrypt\", \"PoW\"], [\"Equihash\", \"PoW\"], [\"X11\", \"PoW\"], [\"X13\", \"PoW/PoS\"], [\"X11\", \"PoW/PoS\"], [\"PoS\", \"PoS\"], [\"SHA-256D\", \"PoW/PoS\"], [\"Scrypt\", \"PoW/PoS\"], [\"Scrypt\", \"PoW/PoS\"], [\"Scrypt\", \"PoW/PoS\"], [\"X11\", \"PoW\"], [\"PoS\", \"PoS\"], [\"X11\", \"PoW/PoS\"], [\"SHA-256\", \"PoW/PoS\"], [\"Scrypt\", \"PoW/PoS\"], [\"X11\", \"TPoS\"], [\"Scrypt\", \"PoW/PoS\"], [\"Scrypt\", \"PoW/PoS\"], [\"X11\", \"PoW/PoS\"], [\"CryptoNight\", \"PoW\"], [\"Scrypt\", \"PoW/PoS\"], [\"Scrypt\", \"PoS\"], [\"Scrypt\", \"PoW/PoS\"], [\"Scrypt\", \"PoW/PoS\"], [\"Quark\", \"PoS\"], [\"QuBit\", \"PoW/PoS\"], [\"Scrypt\", \"PoW\"], [\"CryptoNight\", \"PoW\"], [\"X11\", \"PoW/PoS\"], [\"Lyra2RE\", \"PoW\"], [\"X13\", \"PoW/PoS\"], [\"PoS\", \"PoS\"], [\"Scrypt\", \"PoW/PoS\"], [\"SHA-256\", \"PoW/PoS\"], [\"X11\", \"PoW/PoS\"], [\"X11\", \"PoW/PoS\"], [\"X11\", \"PoW\"], [\"Scrypt\", \"PoW/PoS\"], [\"X11\", \"PoW\"], [\"Scrypt\", \"PoW/PoS\"], [\"Scrypt\", \"PoW\"], [\"CryptoNight-V7\", \"PoW\"], [\"Scrypt\", \"PoS\"], [\"Scrypt\", \"PoW/PoS \"], [\"Keccak\", \"PoW\"], [\"Scrypt\", \"PoW\"], [\"X13\", \"PoS\"], [\"X11\", \"PoW\"], [\"Equihash\", \"PoW\"], [\"Scrypt\", \"PoW/PoS\"], [\"Scrypt\", \"PoW\"], [\"Lyra2RE\", \"PoW\"], [\"Ethash\", \"PoW\"], [\"X11\", \"PoW\"], [\"Scrypt\", \"PoS\"], [\"Dagger-Hashimoto\", \"PoW\"], [\"X11\", \"PoW/PoS\"], [\"Blake2S\", \"PoW/PoS\"], [\"X11\", \"PoW/PoS\"], [\"Scrypt\", \"PoW\"], [\"Scrypt\", \"PoS\"], [\"PoS\", \"PoS\"], [\"X11\", \"PoW/PoS\"], [\"NIST5\", \"PoW\"], [\"PoS\", \"PoS\"], [\"X11\", \"PoW/PoS\"], [\"Scrypt\", \"PoW/PoS\"], [\"Scrypt\", \"PoW/PoS\"], [\"Scrypt\", \"PoW/PoS\"], [\"Scrypt\", \"PoW\"], [\"SHA-256\", \"PoS\"], [\"X11\", \"PoW/PoS\"], [\"Scrypt\", \"PoW\"], [\"Scrypt\", \"PoW\"], [\"Scrypt\", \"PoS\"], [\"SHA-256\", \"PoW\"], [\"PoS\", \"PoS\"], [\"Scrypt\", \"PoW/PoS\"], [\"X11\", \"PoW/PoS\"], [\"X15\", \"PoW/PoS\"], [\"SHA-256\", \"PoS\"], [\"Scrypt\", \"PoW\"], [\"POS 3.0\", \"PoS\"], [\"CryptoNight-V7\", \"PoW\"], [\"536\", \"PoW/PoS\"], [\"Argon2d\", \"PoW\"], [\"Blake2b\", \"PoW\"], [\"Cloverhash\", \"PoW\"], [\"CryptoNight\", \"PoW\"], [\"NIST5\", \"PoW/PoS\"], [\"X11\", \"PoW\"], [\"NIST5\", \"PoW/PoS\"], [\"Skein\", \"PoW/PoS\"], [\"Scrypt\", \"PoW\"], [\"X13\", \"PoW/PoS\"], [\"Scrypt\", \"PoW\"], [\"X11\", \"PoW/PoS\"], [\"X11\", \"PoW\"], [\"X11\", \"PoW\"], [\"Scrypt\", \"PoW/PoS\"], [\"CryptoNight\", \"PoW\"], [\"X13\", \"PoW/PoS\"], [\"Time Travel\", \"PoW\"], [\"Scrypt\", \"PoW\"], [\"Keccak\", \"PoW\"], [\"SkunkHash v2 Raptor\", \"PoS\"], [\"X11\", \"PoW\"], [\"Skein\", \"PoW/PoS\"], [\"SHA-256\", \"PoW\"], [\"X11\", \"PoW/PoS\"], [\"Scrypt\", \"PoW\"], [\"Scrypt\", \"PoS\"], [\"VeChainThor Authority\", \"Proof of Authority\"], [\"Scrypt\", \"PoW\"], [\"PoS\", \"PoS\"], [\"Scrypt\", \"PoW\"], [\"Scrypt\", \"PoW\"], [\"Scrypt\", \"PoW\"], [\"Scrypt\", \"PoW\"], [\"Scrypt\", \"PoW\"], [\"Scrypt\", \"PoW\"], [\"Scrypt\", \"PoW/PoS\"], [\"Scrypt\", \"PoW/PoS\"], [\"CryptoNight\", \"PoW\"], [\"SHA-512\", \"PoS\"], [\"Ouroboros\", \"PoS\"], [\"X11\", \"PoW/PoS\"], [\"Equihash\", \"PoW\"], [\"NeoScrypt\", \"PoW/PoS\"], [\"X11\", \"PoW\"], [\"Scrypt\", \"PoW/PoS\"], [\"NeoScrypt\", \"PoW\"], [\"Lyra2REv2\", \"PoS\"], [\"Equihash\", \"PoW\"], [\"Scrypt\", \"PoW/PoS\"], [\"SHA-256\", \"PoW/PoS\"], [\"NIST5\", \"PoW/PoS\"], [\"PHI1612\", \"PoW/PoS\"], [\"Dagger\", \"PoW\"], [\"Scrypt\", \"PoW/PoS\"], [\"Quark\", \"PoW/PoS\"], [\"Scrypt\", \"PoW\"], [\"POS 2.0\", \"PoS\"], [\"Scrypt\", \"PoW/PoS\"], [\"SkunkHash\", \"PoW/PoS\"], [\"X11\", \"PoW/PoS\"], [\"Quark\", \"PoS\"], [\"SHA-256\", \"PoS\"], [\"X11\", \"PoW\"], [\"NeoScrypt\", \"PoW\"], [\"Scrypt\", \"PoW\"], [\"Ethash\", \"PoW\"], [\"Scrypt\", \"PoW\"], [\"NeoScrypt\", \"PoW\"], [\"Quark\", \"DPoS\"], [\"X11\", \"PoW/PoS\"], [\"DPoS\", \"DPoS\"], [\"NIST5\", \"PoW/PoS\"], [\"X13\", \"PoW/PoS\"], [\"Multiple\", \"PoW\"], [\"Scrypt\", \"PoW/PoS\"], [\"CryptoNight\", \"PoW\"], [\"CryptoNight\", \"PoW\"], [\"Ethash\", \"PoW\"], [\"NIST5\", \"PoS\"], [\"Quark\", \"PoS\"], [\"X11\", \"PoW\"], [\"SHA-256\", \"PoW\"], [\"CryptoNight-V7\", \"PoW\"], [\"Scrypt\", \"PoW/PoS\"], [\"Scrypt\", \"PoW/PoS\"], [\"Scrypt\", \"PoW\"], [\"X11\", \"PoW/PoS\"], [\"SHA-256\", \"PoW/PoS\"], [\"BLAKE256\", \"PoW\"], [\"X11\", \"PoW\"], [\"Scrypt\", \"PoW/PoS\"], [\"NeoScrypt\", \"PoW\"], [\"Quark\", \"PoS\"], [\"NeoScrypt\", \"PoW\"], [\"Scrypt\", \"PoW\"], [\"Scrypt\", \"PoW/PoS\"], [\"Scrypt\", \"PoW/PoS\"], [\"X11\", \"PoS\"], [\"X11\", \"PoW\"], [\"SHA-256\", \"PoW\"], [\"C11\", \"PoW\"], [\"Scrypt\", \"PoW/PoS\"], [\"POS 3.0\", \"PoS\"], [\"Ethash\", \"PoS\"], [\"Scrypt\", \"PoW and PoS\"], [\"SkunkHash\", \"PoW\"], [\"Scrypt\", \"PoW/PoS\"], [\"CryptoNight\", \"PoW\"], [\"Equihash\", \"PoW\"], [\"Skein\", \"PoW\"], [\"Scrypt\", \"PoW\"], [\"Dagger\", \"PoW\"], [\"Lyra2REv2\", \"PoW\"], [\"X13\", \"PoS\"], [\"Proof-of-BibleHash\", \"POBh\"], [\"SHA-256 + Hive\", \"PoW + Hive\"], [\"Scrypt\", \"PoW\"], [\"Scrypt\", \"PoW\"], [\"Scrypt\", \"PoW\"], [\"NeoScrypt\", \"PoW\"], [\"Equihash\", \"PoW\"], [\"X11\", \"PoW\"], [\"C11\", \"PoW/PoS\"], [\"Proof-of-Authority\", \"PoA\"], [\"X11\", \"PoW/PoS\"], [\"XEVAN\", \"PoW/PoS\"], [\"Scrypt\", \"PoS\"], [\"VBFT\", \"PoS\"], [\"Ethash\", \"PoW\"], [\"X11\", \"PoW\"], [\"CryptoNight\", \"PoW\"], [\"NeoScrypt\", \"PoW\"], [\"Scrypt\", \"PoW\"], [\"IMesh\", \"PoW\"], [\"NIST5\", \"PoW/PoS\"], [\"Equihash\", \"PoW\"], [\"Scrypt\", \"PoW/PoS\"], [\"Scrypt\", \"PoW/PoS\"], [\"Equihash\", \"PoW\"], [\"Equihash\", \"PoW\"], [\"Scrypt\", \"PoS\"], [\"Lyra2Z\", \"PoW\"], [\"Equihash\", \"PoW/PoS\"], [\"Green Protocol\", \"PoS\"], [\"PoS\", \"PoS\"], [\"Scrypt\", \"PoW/PoS\"], [\"Scrypt\", \"PoW/PoS\"], [\"Semux BFT consensus\", \"DPoS\"], [\"Scrypt\", \"PoW/PoS\"], [\"X11\", \"PoW\"], [\"Quark\", \"PoW/PoS\"], [\"PoS\", \"PoS\"], [\"CryptoNight\", \"PoW\"], [\"X16R\", \"PoS\"], [\"Scrypt\", \"PoW/PoS\"], [\"NIST5\", \"PoW\"], [\"Lyra2RE\", \"PoW\"], [\"XEVAN\", \"PoS/PoW\"], [\"Tribus\", \"PoW\"], [\"Scrypt\", \"PoS\"], [\"Lyra2Z\", \"PoW\"], [\"CryptoNight\", \"PoW\"], [\"CryptoNight Heavy\", \"PoW\"], [\"CryptoNight\", \"PoW\"], [\"Scrypt\", \"PoW/PoS\"], [\"Scrypt\", \"PoS\"], [\"Jump Consistent Hash\", \"PoW\"], [\"SHA-256D\", \"PoW/PoS\"], [\"CryptoNight\", \"PoW\"], [\"Scrypt\", \"PoW/PoS\"], [\"X15\", \"PoS\"], [\"Scrypt\", \"HPoW\"], [\"Quark\", \"PoS\"], [\"SHA-256\", \"PoS\"], [\"DPoS\", \"PoS\"], [\"X16R\", \"PoW\"], [\"HMQ1725\", \"PoW\"], [\"X11\", \"PoW\"], [\"X16R\", \"PoW/PoS\"], [\"Quark\", \"PoS\"], [\"Quark\", \"PoW/PoS\"], [\"Scrypt\", \"PoS\"], [\"Zhash\", \"PoW/PoS\"], [\"Lyra2REv2\", \"PoW/PoS\"], [\"Quark\", \"PoS\"], [\"Scrypt\", \"PoW\"], [\"Scrypt\", \"PoW/PoS\"], [\"CryptoNight-V7\", \"PoW\"], [\"Cryptonight-GPU\", \"PoW\"], [\"Scrypt\", \"PoW/PoS\"], [\"XEVAN\", \"PoW\"], [\"CryptoNight Heavy\", \"PoW\"], [\"X11\", \"PoS\"], [\"X11\", \"PoW/PoS\"], [\"Scrypt\", \"PoS\"], [\"PoS\", \"PoS\"], [\"Lyra2REv2\", \"PoW\"], [\"Scrypt\", \"PoS\"], [\"SHA-256\", \"PoW\"], [\"Scrypt\", \"PoS\"], [\"Keccak\", \"PoW/PoS\"], [\"X11\", \"PoS\"], [\"X11\", \"PoW\"], [\"Quark\", \"PoW/PoS\"], [\"Scrypt\", \"PoW/PoS\"], [\"SHA-512\", \"Zero-Knowledge Proof\"], [\"X16R\", \"PoW\"], [\"ECC 256K1\", \"DPOS\"], [\"NeoScrypt\", \"PoW/PoS\"], [\"Equihash\", \"PoW\"], [\"XEVAN\", \"PoS\"], [\"Quark\", \"PoW\"], [\"CryptoNight Heavy X\", \"PoW\"], [\"Lyra2Z\", \"PoW\"], [\"Ethash\", \"PoW\"], [\"SHA-256\", \"PoW\"], [\"XEVAN\", \"Pos\"], [\"Ethash\", \"PoW\"], [\"X11\", \"PoS\"], [\"CryptoNight\", \"PoW\"], [\"Quark\", \"POS / MN\"], [\"SkunkHash\", \"PoW\"], [\"Quark\", \"PoW/PoS\"], [\"Argon2\", \"PoW\"], [\"Blake\", \"PoW\"], [\"Blake\", \"PoW\"], [\"SHA-256\", \"PoW\"], [\"Equihash\", \"PoS\"], [\"Exosis\", \"PoW\"], [\"Scrypt\", \"PoW\"], [\"Scrypt\", \"PoW/PoS\"], [\"Equihash\", \"PoW\"], [\"Quark\", \"PoW/PoS\"], [\"Equihash\", \"PoW\"], [\"Quark\", \"PoS\"], [\"Scrypt\", \"PoW/PoS\"], [\"QuBit\", \"PoW\"], [\"X11\", \"PoS\"], [\"Scrypt\", \"PoW/PoS\"], [\"Equihash1927\", \"PoW\"], [\"XEVAN\", \"PoW/PoS\"], [\"SHA-256D\", \"PoW/PoS\"], [\"X11\", \"PoW/PoS\"], [\"SHA-256\", \"PoW\"], [\"SHA-256\", \"PoW\"], [\"X13\", \"PoW\"], [\"SHA-256\", \"PoW\"], [\"X11\", \"PoW/PoS\"], [\"DPoS\", \"DPoS\"], [\"X11\", \"PoS\"], [\"Scrypt\", \"PoW/PoS\"], [\"X11\", \"PoW\"], [\"Scrypt\", \"PoW\"], [\"X11\", \"PoW/PoS\"], [\"NeoScrypt\", \"PoW\"], [\"QuBit\", \"PoW/PoS\"], [\"Scrypt\", \"PoW/PoS\"], [\"Blake\", \"PoW\"], [\"Scrypt\", \"PoW/PoS\"], [\"SHA-256\", \"PoS\"], [\"Scrypt\", \"PoW/PoS\"], [\"X11\", \"PoW/PoS\"], [\"CryptoNight\", \"PoW\"], [\"Scrypt\", \"PoW\"], [\"Scrypt\", \"PoW/PoS\"], [\"SHA-256\", \"PoW/PoS\"], [\"X11\", \"PoW/PoS\"], [\"SHA-256\", \"PoW\"], [\"Scrypt\", \"PoW/PoS\"], [\"CryptoNight\", \"PoW\"], [\"Scrypt\", \"PoW\"], [\"SHA-256\", \"PoW/PoS\"], [\"Scrypt\", \"PoW/PoS\"], [\"Groestl\", \"PoW\"], [\"X11\", \"PoW/PoS\"], [\"Scrypt\", \"PoW/PoS\"], [\"PoS\", \"PoS\"], [\"Scrypt\", \"PoW\"], [\"Scrypt\", \"PoW\"], [\"X11\", \"Proof of Trust\"], [\"SHA-256\", \"PoW/PoS\"], [\"DPoS\", \"DPoS\"], [\"Scrypt\", \"PoS\"], [\"Scrypt\", \"PoW/PoS\"], [\"Scrypt\", \"PoW\"], [\"NeoScrypt\", \"PoW/PoS\"], [\"Scrypt\", \"PoW/PoS\"], [\"SHA3-256\", \"DPoC\"], [\"Multiple\", \"PoW\"], [\"X13\", \"PoW/PoS\"], [\"Equihash+Scrypt\", \"PoW\"], [\"DPoS\", \"DPoS\"], [\"Ethash\", \"PoW\"], [\"DPoS\", \"DPoS\"], [\"Ethash\", \"PoW\"], [\"SHA-256\", \"PoS\"], [\"Leased POS\", \"LPoS\"], [\"PoS\", \"PoS\"], [\"PoS\", \"PoS/LPoS\"], [\"SHA-256\", \"DPoS\"], [\"Scrypt\", \"PoW/PoS\"], [\"CryptoNight\", \"PoW\"], [\"Equihash\", \"PoW\"], [\"Scrypt\", \"PoS\"]], \"hovertemplate\": \"<b>%{hovertext}</b><br><br>class=%{marker.color}<br>Principal Component 1=%{x}<br>Principal Component 2=%{y}<br>Principal Component 3=%{z}<br>Algorithm=%{customdata[0]}<br>ProofType=%{customdata[1]}<extra></extra>\", \"hovertext\": [\"42 Coin\", \"404Coin\", null, \"EliteCoin\", \"Bitcoin\", \"Ethereum\", \"Litecoin\", \"Dash\", \"Monero\", \"Ethereum Classic\", \"ZCash\", \"Bitshares\", \"DigiByte\", \"BitcoinDark\", null, \"PayCoin\", \"ProsperCoin\", \"KoboCoin\", \"Spreadcoin\", null, null, null, null, \"Argentum\", \"Aurora Coin\", null, \"BlueCoin\", \"MyriadCoin\", \"MoonCoin\", \"ZetaCoin\", \"SexCoin\", \"Quatloo\", \"EnergyCoin\", \"QuarkCoin\", \"Riecoin\", \"Digitalcoin \", null, \"BitBar\", null, null, \"Catcoin\", \"CryptoBullion\", \"CannaCoin\", null, null, \"CryptCoin\", \"CasinoCoin\", null, \"Diamond\", \"Verge\", null, null, \"DevCoin\", \"EarthCoin\", \"E-Gulden\", null, \"Einsteinium\", \"Emerald\", \"Exclusive Coin\", null, null, null, null, \"FlutterCoin\", \"Franko\", \"FeatherCoin\", \"GrandCoin\", \"GlobalCoin\", \"GoldCoin\", null, null, \"HoboNickels\", null, \"HyperStake\", \"Infinite Coin\", \"IOCoin\", \"IXcoin\", null, null, \"KrugerCoin\", \"LuckyCoin\", \"Litebar \", null, null, \"MaxCoin\", \"MegaCoin\", \"MediterraneanCoin\", \"MintCoin\", \"MinCoin\", \"MazaCoin\", \"Nautilus Coin\", \"NavCoin\", null, \"NobleCoin\", \"Namecoin\", \"NyanCoin\", \"OpalCoin\", \"Orbitcoin\", \"PotCoin\", \"PhoenixCoin\", \"Reddcoin\", null, \"RonPaulCoin\", \"StableCoin\", null, null, \"SmartCoin\", null, null, \"SuperCoin\", \"SyncCoin\", \"SysCoin\", \"TeslaCoin\", \"TigerCoin\", \"TittieCoin\", \"TorCoin\", \"TerraCoin\", null, \"UnbreakableCoin\", \"Unobtanium\", \"UroCoin\", \"UnitaryStatus Dollar\", \"UltraCoin\", null, \"ViaCoin\", null, \"VeriCoin\", \"Vertcoin\", \"WorldCoin\", null, \"X11 Coin\", \"Crypti\", \"JouleCoin\", \"StealthCoin\", null, \"ZCC Coin\", \"ByteCoin\", \"DigitalNote \", \"BurstCoin\", \"StorjCoin\", \"MonaCoin\", \"Neutron\", null, null, \"FairCoin\", \"Gulden\", \"RubyCoin\", \"PesetaCoin\", \"Kore\", \"Wild Beast Coin\", \"Dnotes\", \"Flo\", null, \"8BIT Coin\", \"Sativa Coin\", null, \"ArtByte\", null, null, \"Folding Coin\", \"Ucoin\", \"Unitus\", \"CypherPunkCoin\", null, \"OmniCron\", null, \"Vtorrent\", \"GreenCoin\", null, \"Cryptonite\", null, null, \"MasterCoin\", \"SoonCoin\", \"1Credit\", null, \"IslaCoin\", null, \"Nexus\", \"MarsCoin \", null, \"Crypto\", \"Anarchists Prime\", \"Droidz\", \"BowsCoin\", null, \"Squall Coin\", null, \"Song Coin\", \"BitZeny\", \"Diggits\", \"Expanse\", null, \"Paycon\", \"Siacoin\", \"Emercoin\", null, \"EverGreenCoin\", \"MindCoin\", \"I0coin\", \"Decred\", null, \"Revolution VR\", \"HOdlcoin\", \"EDRCoin\", \"Hitcoin\", \"Gamecredits\", null, \"DubaiCoin\", null, \"CarpeDiemCoin\", \"PWR Coin\", null, \"BillaryCoin\", null, null, null, \"GPU Coin\", null, \"Adzcoin\", null, \"SoilCoin\", \"YoCoin\", null, null, \"SibCoin\", \"EuropeCoin\", null, \"ZeitCoin\", \"SwingCoin\", \"SafeExchangeCoin\", \"Nebuchadnezzar\", \"Francs\", \"BolivarCoin\", null, null, \"Ratecoin\", null, \"Revenu\", null, \"Clockcoin\", \"VIP Tokens\", null, \"BitSend\", null, null, null, \"Omni\", \"Let it Ride\", \"PutinCoin\", \"iBankCoin\", \"Frankywillcoin\", \"MudraCoin\", \"PizzaCoin\", \"Lutetium Coin\", \"Komodo\", \"GoldBlocks\", null, \"CarterCoin\", \"Karbo\", \"BitTokens\", \"ZayedCoin\", \"MustangCoin\", \"ZoneCoin\", \"Circuits of Value\", \"RootCoin\", \"DopeCoin\", null, \"BitCurrency\", \"DollarCoin\", \"Swiscoin\", \"Shilling\", \"BuzzCoin\", \"Opair\", \"PesoBit\", null, \"Halloween Coin\", null, \"ZCoin\", null, \"CoffeeCoin\", \"RoyalCoin\", null, \"GanjaCoin V2\", \"TeamUP\", \"LanaCoin\", \"Elementrem\", null, \"ZClassic\", \"ARK\", \"InsaneCoin\", null, \"KiloCoin\", null, \"ArtexCoin\", \"EmberCoin\", \"XenixCoin\", \"FreeCoin\", null, \"PLNCoin\", null, \"AquariusCoin\", \"Kurrent\", \"Creatio\", \"Eternity\", \"Eurocoin\", \"BitcoinFast\", \"Stakenet\", \"BitConnect Coin\", \"MoneyCoin\", \"Enigma\", \"Cannabis Industry Coin\", \"Russiacoin\", \"PandaCoin\", \"GameUnits\", \"GAKHcoin\", \"Allsafe\", \"LiteCreed\", \"OsmiumCoin\", \"Bikercoins\", null, \"HexxCoin\", null, null, \"Klingon Empire Darsek\", \"Internet of People\", \"KushCoin\", null, null, \"Printerium\", \"PacCoin\", \"Impeach\", null, \"Citadel\", \"Zilbercoin\", \"FirstCoin\", null, \"BeaverCoin\", \"FindCoin\", \"VaultCoin\", \"Zero\", \"OpenChat\", \"Canada eCoin\", \"Zoin\", null, null, \"RenosCoin\", \"DubaiCoin\", \"VirtacoinPlus\", \"TajCoin\", \"Impact\", \"EB3coin\", null, \"Atmos\", \"HappyCoin\", \"Coinonat\", \"MacronCoin\", \"Condensate\", \"Independent Money System\", \"ArgusCoin\", \"LomoCoin\", null, \"ProCurrency\", \"GoldReserve\", \"BenjiRolls\", null, \"GrowthCoin\", \"ILCoin\", \"Phreak\", \"Degas Coin\", null, \"HTML5 Coin\", \"Ultimate Secure Cash\", \"EquiTrader\", \"QTUM\", \"Quantum Resistant Ledger\", \"Espers\", \"Dynamic\", \"Nano\", \"ChanCoin\", \"Dinastycoin\", \"Denarius\", \"DigitalPrice\", \"Virta Unique Coin\", \"Bitcoin Planet\", \"Unify\", \"BritCoin\", \"SocialCoin\", null, \"ArcticCoin\", \"DAS\", \"Linda\", \"LeviarCoin\", \"DeepOnion\", \"Bitcore\", \"gCn Coin\", \"SmartCash\", \"Signatum\", \"Onix\", \"Cream\", \"Bitcoin Cash\", \"Monoeci\", null, \"Draftcoin\", \"Vechain\", \"Sojourn Coin\", \"Stakecoin\", \"NewYorkCoin\", null, \"FrazCoin\", \"Kronecoin\", \"AdCoin\", \"Linx\", \"CoinonatX\", \"Ethereum Dark\", \"Sumokoin\", \"Obsidian\", \"Cardano\", \"Regalcoin\", \"BitcoinZ\", \"TrezarCoin\", \"Elements\", \"TerraNovaCoin\", \"VIVO Coin\", \"Rupee\", \"Bitcoin Gold\", \"WomenCoin\", \"Theresa May Coin\", \"NamoCoin\", \"LUXCoin\", \"Pirl\", \"Xios\", \"Bitcloud 2.0\", \"eBoost\", \"KekCoin\", \"BlackholeCoin\", null, null, null, \"Infinity Economics\", \"Pura\", \"Innova\", null, \"Ellaism\", null, \"GoByte\", null, \"Magnet\", \"Lamden Tau\", \"Electra\", \"Bitcoin Diamond\", \"SHIELD\", \"Cash & Back Coin\", \"UltraNote\", \"BitCoal\", \"DaxxCoin\", \"Bulwark\", \"Kalkulus\", \"AC3\", null, \"Lethean\", \"GermanCoin\", \"LiteCoin Ultra\", \"PopularCoin\", \"PhantomX\", null, \"Photon\", \"Sucre\", null, \"SparksPay\", \"Digiwage\", \"GunCoin\", \"IrishCoin\", \"Trollcoin\", \"Litecoin Plus\", \"Monkey Project\", \"Pioneer Coin\", \"UnitedBitcoin\", \"Interzone\", null, \"TokenPay\", \"1717 Masonic Commemorative Token\", \"My Big Coin\", \"MUNcoin\", \"Unified Society USDEX\", \"Niobio Cash\", null, null, \"ShareChain\", \"Travelflex\", \"KREDS\", \"Tokyo Coin\", \"BiblePay\", \"LitecoinCash\", \"BitFlip\", \"LottoCoin\", null, null, null, \"Crypto Improvement Fund\", \"Stipend\", \"Poa Network\", \"Pushi\", \"Ellerium\", \"Velox\", \"Ontology\", \"Callisto Network\", null, \"BitTube\", null, \"Poseidon\", \"Aidos Kuneen\", \"Bitspace\", null, \"Briacoin\", \"Ignition\", \"Bitrolium\", null, \"MedicCoin\", \"Alpenschillling\", null, \"Bitcoin Green\", \"Deviant Coin\", \"Abjcoin\", null, \"Semux\", null, \"FuturoCoin\", \"Carebit\", \"Zealium\", \"Monero Classic\", \"Proton\", \"iDealCash\", \"Jumpcoin\", \"Infinex\", \"Bitcoin Incognito\", \"KEYCO\", \"HollyWoodCoin\", \"GINcoin\", \"PlatinCoin\", \"Loki\", \"Newton Coin\", \"Swisscoin\", \"Xt3ch\", \"MassGrid\", \"TheVig\", \"PluraCoin\", \"EmaratCoin\", \"Dekado\", \"Lynx\", \"Poseidon Quark\", \"BitcoinWSpectrum\", \"Muse\", \"Motion\", \"PlusOneCoin\", \"Axe\", \"Trivechain\", \"Dystem\", \"Giant\", \"Peony Coin\", null, \"Absolute Coin\", \"Vitae\", \"HexCoin\", \"TPCash\", \"Webchain\", \"Ryo\", null, \"Urals Coin\", \"Qwertycoin\", \"ARENON\", \"EUNO\", \"MMOCoin\", \"Ketan\", null, null, \"Project Pai\", null, \"XDNA\", \"PAXEX\", \"Azart\", null, \"ThunderStake\", \"Kcash\", \"Xchange\", \"Acute Angle Cloud\", null, \"CrypticCoin\", \"Bettex coin\", null, null, \"Actinium\", null, \"Bitcoin SV\", \"BitMoney\", null, \"Junson Ming Chan Coin\", \"FREDEnergy\", null, null, \"HerbCoin\", null, \"Universal Molecule\", \"Lithium\", null, \"PirateCash\", \"Exosis\", \"Block-Logic\", \"Oduwa\", \"Beam\", \"Galilel\", \"Bithereum\", \"Crypto Sports\", \"Credit\", \"SLICE\", \"Dash Platinum\", \"Nasdacoin\", null, \"Beetle Coin\", \"Titan Coin\", \"Award\", null, \"BLAST\", \"Bitcoin Rhodium\", \"GlobalToken\", \"Insane Coin\", \"ALAX\", null, \"LiteDoge\", null, \"SolarCoin\", \"TruckCoin\", \"UFO Coin\", null, \"OrangeCoin\", \"BlakeCoin\", \"BitstarCoin\", \"NeosCoin\", \"HyperCoin\", \"PinkCoin\", null, \"Crypto Escudo\", \"AudioCoin\", \"IncaKoin\", \"Piggy Coin\", \"Crown Coin\", \"Genstake\", null, \"SmileyCoin\", null, \"XiaoMiCoin\", \"Groestlcoin\", \"CapriCoin\", \" ClubCoin\", \"Radium\", \"Bata\", \"Pakcoin\", \"Creditbit \", \"OKCash\", \"Lisk\", \"HiCoin\", \"WhiteCoin\", null, \"FriendshipCoin\", null, null, \"JoinCoin\", \"Triangles Coin\", \"Vollar\", \"EOS\", \"Reality Clash\", \"Oxycoin\", null, \"TigerCash\", \"Waves\", \"Particl\", \"Nxt\", \"ZEPHYR\", \"Gapcoin\", \"Beldex\", \"Horizen\", \"BitcoinPlus\"], \"legendgroup\": \"0\", \"marker\": {\"color\": [0, 0, 0, 0, 0, 0, 0, 0, 0, 0, 0, 0, 0, 0, 0, 0, 0, 0, 0, 0, 0, 0, 0, 0, 0, 0, 0, 0, 0, 0, 0, 0, 0, 0, 0, 0, 0, 0, 0, 0, 0, 0, 0, 0, 0, 0, 0, 0, 0, 0, 0, 0, 0, 0, 0, 0, 0, 0, 0, 0, 0, 0, 0, 0, 0, 0, 0, 0, 0, 0, 0, 0, 0, 0, 0, 0, 0, 0, 0, 0, 0, 0, 0, 0, 0, 0, 0, 0, 0, 0, 0, 0, 0, 0, 0, 0, 0, 0, 0, 0, 0, 0, 0, 0, 0, 0, 0, 0, 0, 0, 0, 0, 0, 0, 0, 0, 0, 0, 0, 0, 0, 0, 0, 0, 0, 0, 0, 0, 0, 0, 0, 0, 0, 0, 0, 0, 0, 0, 0, 0, 0, 0, 0, 0, 0, 0, 0, 0, 0, 0, 0, 0, 0, 0, 0, 0, 0, 0, 0, 0, 0, 0, 0, 0, 0, 0, 0, 0, 0, 0, 0, 0, 0, 0, 0, 0, 0, 0, 0, 0, 0, 0, 0, 0, 0, 0, 0, 0, 0, 0, 0, 0, 0, 0, 0, 0, 0, 0, 0, 0, 0, 0, 0, 0, 0, 0, 0, 0, 0, 0, 0, 0, 0, 0, 0, 0, 0, 0, 0, 0, 0, 0, 0, 0, 0, 0, 0, 0, 0, 0, 0, 0, 0, 0, 0, 0, 0, 0, 0, 0, 0, 0, 0, 0, 0, 0, 0, 0, 0, 0, 0, 0, 0, 0, 0, 0, 0, 0, 0, 0, 0, 0, 0, 0, 0, 0, 0, 0, 0, 0, 0, 0, 0, 0, 0, 0, 0, 0, 0, 0, 0, 0, 0, 0, 0, 0, 0, 0, 0, 0, 0, 0, 0, 0, 0, 0, 0, 0, 0, 0, 0, 0, 0, 0, 0, 0, 0, 0, 0, 0, 0, 0, 0, 0, 0, 0, 0, 0, 0, 0, 0, 0, 0, 0, 0, 0, 0, 0, 0, 0, 0, 0, 0, 0, 0, 0, 0, 0, 0, 0, 0, 0, 0, 0, 0, 0, 0, 0, 0, 0, 0, 0, 0, 0, 0, 0, 0, 0, 0, 0, 0, 0, 0, 0, 0, 0, 0, 0, 0, 0, 0, 0, 0, 0, 0, 0, 0, 0, 0, 0, 0, 0, 0, 0, 0, 0, 0, 0, 0, 0, 0, 0, 0, 0, 0, 0, 0, 0, 0, 0, 0, 0, 0, 0, 0, 0, 0, 0, 0, 0, 0, 0, 0, 0, 0, 0, 0, 0, 0, 0, 0, 0, 0, 0, 0, 0, 0, 0, 0, 0, 0, 0, 0, 0, 0, 0, 0, 0, 0, 0, 0, 0, 0, 0, 0, 0, 0, 0, 0, 0, 0, 0, 0, 0, 0, 0, 0, 0, 0, 0, 0, 0, 0, 0, 0, 0, 0, 0, 0, 0, 0, 0, 0, 0, 0, 0, 0, 0, 0, 0, 0, 0, 0, 0, 0, 0, 0, 0, 0, 0, 0, 0, 0, 0, 0, 0, 0, 0, 0, 0, 0, 0, 0, 0, 0, 0, 0, 0, 0, 0, 0, 0, 0, 0, 0, 0, 0, 0, 0, 0, 0, 0, 0, 0, 0, 0, 0, 0, 0, 0, 0, 0, 0, 0, 0, 0, 0, 0, 0, 0, 0, 0, 0, 0, 0, 0, 0, 0, 0, 0, 0, 0, 0, 0, 0, 0, 0, 0, 0, 0, 0, 0, 0, 0, 0, 0, 0, 0, 0, 0, 0, 0, 0, 0, 0, 0, 0, 0, 0, 0, 0, 0, 0, 0, 0, 0, 0, 0, 0, 0, 0, 0, 0, 0, 0, 0, 0, 0, 0, 0, 0, 0, 0, 0, 0, 0, 0, 0, 0, 0, 0, 0, 0, 0, 0, 0, 0, 0, 0, 0, 0, 0, 0, 0, 0, 0, 0, 0, 0, 0, 0, 0, 0, 0, 0, 0, 0, 0, 0, 0, 0, 0, 0, 0, 0, 0, 0, 0, 0, 0, 0, 0, 0, 0, 0, 0, 0, 0, 0, 0, 0, 0, 0, 0, 0, 0, 0, 0, 0, 0, 0, 0, 0, 0, 0, 0, 0, 0, 0, 0, 0, 0], \"coloraxis\": \"coloraxis\", \"symbol\": \"circle\"}, \"mode\": \"markers\", \"name\": \"0\", \"scene\": \"scene\", \"showlegend\": true, \"type\": \"scatter3d\", \"x\": [-134656381672474.47, -134655849672576.08, -134656381672528.9, -134342222408481.64, -134656360672529.73, -134656381672533.7, -134656297672531.7, -134656359672529.25, -134656381672529.69, -134656171672533.97, -134656360672529.23, -134652781102149.69, -134635381673039.97, -134656359672528.95, -134656380372528.86, -134656369172529.4, -134656360672529.12, -134656031672530.02, -134656361672529.42, -134656380072528.95, -134656374672528.77, -134656375672528.78, -134656365269393.83, -134656317672529.42, -134656364903945.62, -134656349672528.94, -134656381672557.3, -134654381672604.55, -134272381672528.86, -134656211876948.56, -134656131672534.64, -134656281672529.2, -134656381672534.31, -134656134672540.56, -134656297672531.14, -134656333506530.34, -134656360672528.9, -134656381172528.83, -134656354092528.88, -134656334238928.81, -134656360672529.19, -134656380672528.86, -134656368532529.06, -134656267672528.88, -134656281672528.81, -134656363672529.16, -134616381674320.98, -134656381672528.9, -134656377292529.03, -134639826673242.61, -134656377952528.86, -134656379628566.89, -134635381673370.1, -134642881673090.69, -134656360672529.81, -134656306672528.88, -134656081880080.69, -134656349672529.73, -134656381672529.11, -134556381672528.89, -134656281672528.86, -134656381048528.88, -134656379070118.95, -134656381672549.52, -134656370436715.92, -134656045672538.25, -134654961062954.48, -134656311672531.81, -134656309426830.75, -134656374672528.86, -134656381672528.89, -134656261672532.81, -134656339672528.92, -134656381672604.06, -134565781676587.94, -134656359672529.66, -134656360672529.88, -134656378379518.84, -134656360072528.78, -134656116251735.67, -134656361672529.75, -134656380322528.92, -134656299669328.89, -134656380672528.86, -134656281672531.61, -134656339672530.6, -134656181672530.73, -134656381673482.86, -134656371672529.12, -134653962472601.2, -134656365492529.53, -134656381672531.73, -134656331672528.94, -134641381672634.89, -134656360672529.6, -134656044672543.86, -134656381672529.45, -134656377902529.02, -134655961672538.8, -134656283672532.12, -134656381673842.27, -134656369672528.88, -134656360672528.94, -134656131672529.95, -134656380672528.88, -134656380672528.81, -134656330472530.02, -134656331672528.92, -134656360672528.88, -134656381672531.12, -134656381671528.86, -134655493672554.17, -134656281672532.47, -134656334660562.88, -134654081672601.55, -134656371672528.92, -134656339672529.97, -134656379047528.95, -134656301672529.03, -134656381422528.94, -134656381672528.97, -134654781672578.05, -134656281672531.06, -134656381672528.8, -134656358672529.9, -134656381672528.94, -134656381672530.27, -134656297672531.2, -134656116251734.25, -134656379672528.83, -134656376172529.17, -134656381672533.33, -134656336672530.69, -134656381672530.25, -134656331672528.83, -134655381672535.44, -134471914240040.98, -134646381672838.47, -134654222859810.08, -134655881672531.16, -134656276552531.92, -134656313672530.64, -134656380672528.94, -134656364672528.81, -134656381672531.25, -134654701672547.47, -134656381672530.03, -134656215286535.03, -134656369672528.84, -134656379044528.9, -134655881672536.62, -134656221672535.69, -134656381670514.86, -134656381672528.89, -134656371672529.08, -134656369672528.77, -134655381672564.36, -134656371562528.88, -134656171672528.92, -134655381672561.14, -134656361672528.97, -134656381672531.83, -134656381672529.22, -134656381672528.89, -134656378301192.33, -134656381672528.83, -134656361672529.34, -134646381672735.44, -134656381672528.95, -134654541672560.66, -134656297672528.88, -134656348672528.92, -134656381053050.9, -134656360672529.48, -134564381672528.88, -134656381672528.83, -134656381672528.94, -134656348672528.92, -134656303672531.72, -134656348672530.36, -134656381672528.83, -134656315883429.53, -134656327912529.61, -134656376612529.27, -134656360672529.61, -134656381672528.88, -134656381672528.89, -134656381672528.88, -134656171432530.34, -134656131672532.25, -134656281672533.3, -134656364766132.36, -134656379443607.66, -134656331672529.8, -134656381674011.84, -134655381672530.83, -134656377820372.77, -134656355374529.48, -134656365672529.62, -134656360672529.88, -134656360672529.33, -134639881672528.88, -134656171672538.3, -134656299710429.42, -134656359672529.06, -134629831673021.53, -134656297672532.02, -134656363225785.02, -134656371172529.12, -134656361482065.34, -134634755393502.98, -134656381672980.03, -134656369672528.84, -134656339672529.2, -134656377472528.84, -134656366672528.94, -134654131672528.92, -134656160619898.62, -134651381672528.94, -134656297672530.94, -134635381672528.89, -134656351672529.17, -134656213321228.89, -134656171672528.9, -134656363272528.92, -134656357672529.69, -134655997672529.31, -134656339672528.95, -134557381674185.28, -134656341672529.1, -134654234188978.03, -134656361672529.77, -134656361672529.17, -134656356672529.53, -134656381572528.86, -134656360672528.84, -134656306672534.88, -134656366672528.86, -134656158947528.94, -134656379251301.92, -134655856672529.64, -134656291672532.61, -134656345672528.88, -134656242672529.95, -134656365672528.89, -134656307005861.81, -134656031672528.81, -134656381056080.9, -134656348172530.58, -134654381672565.27, -134656337339196.03, -134656281672533.3, -134656181672528.98, -134656356672528.97, -134655724672558.3, -134656181672534.06, -134656331672529.55, -134656281672528.86, -134656291672530.75, -134656371672529.36, -134656360672528.9, -134656371936529.22, -134656378672528.86, -134656360672528.94, -134655181672573.72, -134656381672528.89, -134656181672534.11, -134646381672528.88, -134656381672536.4, -134656371034231.34, -134653281672558.62, -134656351672529.36, -134636381673406.03, -134656307672532.17, -134656381672530.31, -134656294172528.88, -134654881672540.72, -134656371672528.92, -134656360272529.23, -134654381672528.94, -134656341672637.52, -134656379172404.86, -134656255672528.94, -134656281672533.36, -134656080672529.67, -134648875672577.38, -134656355466991.06, -134656281672528.94, -134656360672529.16, -134656256672533.73, -134656351672529.67, -134655381672528.83, -134646381672537.66, -134656360672528.89, -134655881672565.84, -134655531676659.42, -134656377819202.27, -134656331672531.08, -134649381672528.89, -134656343132529.6, -134656181672528.83, -134656339672528.92, -134656153672531.67, -134656361672529.77, -134656321672529.12, -134656361672529.45, -134656348672529.72, -134656305172532.25, -134656353672529.3, -134655731012696.28, -134656376672528.89, -134656360672529.05, -134656237672529.2, -134623866757145.78, -134656368672528.97, -134656378356739.97, -134656366672529.34, -134656302837330.22, -134656378958242.92, -134656356672529.4, -134656131672528.88, -134656371672530.0, -134655931672528.78, -134656281672528.86, -134655881672529.89, -134656360672529.02, -134656372318529.12, -134656281672528.86, -134656281032528.92, -134656361672529.34, -134556381672552.97, -134656359739195.81, -134656361672528.89, -134656196672529.4, -134656326672528.95, -134656271672533.77, -134656266672528.9, -134656378312529.0, -134656367147677.94, -134655381672530.28, -134656364672529.19, -134655381672573.61, -134656281672533.36, -134656360672529.75, -134655926774134.89, -134656171672528.92, -134656347246107.44, -134656379439628.02, -134656281672529.44, -134656344772529.44, -134656271672533.81, -134652381672531.73, -134656269672528.83, -134656271382503.84, -134656281672529.81, -134656333420529.39, -134655981672546.86, -134655881672534.28, -134656360460408.05, -134656353072528.88, -134655381672528.84, -134656360672528.88, -134581381672533.34, -134656341672529.64, -134656346152129.78, -134656380672528.88, -134654381672542.03, -134653881672587.95, -134656351672529.36, -134656276672529.78, -134654288172528.88, -134566381674350.56, -134656181588329.31, -134656309672529.48, -134656281672533.33, -134656276672532.02, -134606381673550.48, -134656381672529.8, -134656041390167.89, -134656351672529.73, -134654381672610.08, -134656371672529.06, -134656281672530.47, -134656261672531.69, -134656281672529.17, -134656362395729.69, -134656351672529.73, -134656306672529.1, -134656373766894.86, -134656321672530.1, -134656362772529.03, -134606381672934.06, -134656327672529.64, -134656362774342.11, -134656360672529.7, -134456381679834.44, -134651381672629.31, -134656244172533.7, -134655281672534.4, -134656281672530.97, -134656360672529.73, -134656372165258.42, -134655371672528.88, -134656364266638.45, -134569669040547.5, -134645881672528.89, -134656320072564.03, -134656381678936.19, -134655381672528.89, -134656361672529.31, -134656297672529.66, -134656281672530.33, -134656281672530.38, -134656333420529.7, -134656377472529.02, -134656292783641.4, -134656290283583.97, -134611381673690.48, -134656354672529.17, -134635381672762.39, -134655981672537.06, -134654581672650.02, -134656365939195.88, -134656354672529.1, -134656357672529.92, -134656360672529.67, -134631381674700.02, -134656281672533.03, -134655181672553.98, -134656321672529.25, -134656225365797.72, -134656360672528.9, -134656181672530.28, -134656281672533.36, -134656360672529.4, -134656366884253.55, -134656376672528.89, -134656377985668.86, -134656306672528.88, -134647381672932.08, -134656031672536.77, -134656336672529.19, -134656081672528.89, -134656101672529.45, -134656276572528.88, -134656349872529.16, -134656331672528.89, -134656237672530.56, -134655881672541.78, -134626381673801.28, -134656171672537.0, -134655721672550.5, -134656171672533.78, -134571381673392.92, -134656369172529.22, -134646381672552.23, -134656353956408.45, -134656361672529.62, -134655831672532.5, -134656360672528.94, -134655382191032.67, -134606381672748.88, -134656231672529.19, -134651381672707.48, -134656331672530.86, -134566381672528.89, -134566381673877.06, -134656361872529.1, -134656377072528.83, -134656360672529.23, -134656261672530.1, -134655881672542.33, -134656317672530.9, -134655481672555.28, -134656377672528.94, -134656360672529.05, -134656358672529.28, -134656361506529.83, -134656358672529.44, -134654381672528.83, -134656356672529.77, -134656380054495.9, -134656351672529.25, -134656365072529.12, -134656149672539.34, -134656045672535.03, -134656360672528.89, -134656364672528.9, -134646381672976.92, -134656281672533.73, -134655281672557.75, -134655581672539.08, -134651181672608.28, -134655541672557.48, -134656341672529.44, -134637974693338.14, -134635381672528.89, -134656350172528.9, -134656360672528.89, -134655881672538.39, -134656362331935.39, -134656129211738.03, -134656356672528.95, -134656321672528.89, -134656257672529.95, -134655381672558.0, -134649881672540.0, -134656359672528.92, -134655381672532.61, -134656281672528.89, -134656360672529.05, -134656356672530.05, -134656331672529.48, -134656297576528.9, -134656378672528.84, -134656376672528.88, -134656311672532.08, -134656359372528.9, -134655881672540.8, -134656081672530.14, -134656171672528.89, -134656360672529.3, -134656293672529.84, -134656351672529.25, -134656281672528.81, -134656281672528.89, -134655881672528.83, -134656281672530.33, -134656181672535.16, -134656301672529.34, -134656363272529.75, -134656336672529.05, -134651259721371.73, -134656360672529.84, -134656355392529.14, -134656360672529.33, -134656363672528.95, -134656355672530.55, -134656371172529.25, -134655781672011.02, -134656231672529.77, -134472381674379.17, -134646181672985.83, -134656337672529.16, -134656213672535.0, -134656281672530.36, -134655381672554.12, -134656297672529.8, -134656291672530.2, -134564381676017.84, -134655731672528.98, -134656281410326.44, -134656363590723.69, -134656359596829.28, -134656360672529.3, -134656360672529.12, -134656299125966.53, -134656360672529.19, -134656376521529.17, -134639501672528.86, -134656345672528.88, -134656329172529.47, -134656281672531.83, -134656359567265.94, -134655381672529.05, -134654631672529.61, -134656293483641.12, -134656281672528.81, -134656171672529.56, -134471911676989.3, -134656326672529.73, -134656331672530.22, -134656121672533.66, -134656171672529.27, -134656206672528.92, -134655541672528.83, -134654281672623.02, -134656311672528.81, -134656015672529.1, -134656281672529.03, -134656356672529.12, -134656131672528.9, -134638381672576.33, -134655381672573.67, -134656281672529.36, -134655381672573.67, -134656129672528.88, -134648781672718.64, -134656331672529.17, -134656352372528.94, -134556381672528.92, -134656297672529.55, -134656368006291.89, -134656360672529.73, -134586381672538.2, -134656281672528.89, -134656381673299.94, -134648301672612.67, -134656335672528.9, -134656375572528.92, -134656327672530.47, -134656339672528.92, -134656276552527.55, -134656356443729.62, -134656360672764.94, -134656276672529.45, -134656360672528.94, -134656261672530.45, -134656360672529.47, -134656118872530.5, -134656362636530.7, -134656350786530.05, -134656368302528.95, -134581581673909.94, -134656281672529.5, -134656361972528.9, -134656297672529.73, -134656281672528.92, -134655881672537.8, -134651381672569.05, -134655961672529.55, -134656276672528.94, -134656317672531.28, -134656379572528.84, -134656213672532.73, -134656351672529.9, -134655381672573.67, -134656356672528.84, -134621381673215.19, -134656363222528.92, -134558281672531.36, -134656381672539.72, -134652381672700.25, -134656381672528.89, -134656181672528.98, -134649381672529.97, -134656327416410.73, -134656360672529.05, -134656381672529.25, -134655881672548.39, -134656363272529.03, -134655381672563.83, -134645881672572.75, -134656191673332.67, -134655381672551.0, -134656339672529.97, -134656366672531.5, -134656363225785.02, -134606381673854.34, -134656356672528.89, -134655981672546.94, -134656276672532.2, -134656173672537.89, -134656221672533.45, -134656372672529.03, -134656376672529.11, -134656199672532.0, -134656365168196.64, -134656276672532.23, -134656221754134.25, -134646372837341.86, -134656081672540.1, -134655491672528.88, -134656321504383.92, -134656081672528.83, -134651381672263.72, -134656378872529.06, -134656381552528.77, -134654281672533.4, -134656381672574.6, -134656357184585.98, -134656381672579.17, -134655381672528.9, -134655381672573.66, -134656281672533.36, -134656373038389.28, -134655381672573.7, -134654381672618.5, -134656131672529.47, -134654981449962.94, -134656360672529.2, -134656380672528.81], \"y\": [-4145017869.927663, -3089832986.0516715, -4145017911.92762, 25134420786.2483, -4127090735.98673, -4037333689.241122, -4081978664.864057, -4135986616.5662923, -4127816768.782708, -4031658199.518727, -4137634854.736728, -1403447750.6067276, 7261202169.961819, -4143729048.941927, -4145017911.8693743, -4133022576.482834, -4139249600.9867287, -4119475360.657945, -4133868177.0339146, -4145017911.855934, -4145017911.613992, -4145017911.6587973, -4145017911.1926904, -4132812113.615192, -4126882811.1833553, -4145017910.4938836, -3509594011.9276195, -2456763572.319103, -4145000619.091979, -3974813514.565205, -4016076949.54351, -4137660112.654692, -4021955110.798846, -3885460735.9462013, -4095469323.0227714, -4111574921.425542, -4145017910.9867296, -4144975332.4283156, -4145017910.6919165, -4145017909.8023915, -4137797954.3404675, -4143978795.2313695, -4140314031.8206463, -4145017906.8199344, -4145017907.447193, -4140020924.9153905, 35854981180.09952, -4145017911.92762, -4141713423.984021, 11784513498.927479, -4145017911.760946, -4145017911.836041, 14628840528.961811, 8393997879.751868, -4124107432.180479, -4145017908.5672994, -3926146001.9956417, -4125521124.183633, -4139338206.9276233, -4145013431.501671, -4145017907.447193, -4145017911.8996606, -4145017911.811021, -3683188006.5986896, -4143875179.275078, -3936348803.865661, -3260892046.2782593, -4079345188.320447, -4103359260.690734, -4145017911.6139884, -4145017911.92762, -4055750972.8664036, -4145017910.045842, -2466497821.156322, 86450739165.96959, -4127366996.96758, -4123928561.9877295, -4145017911.780078, -4145017910.9598503, -3993570250.235638, -4125691591.8877826, -4143913567.6377516, -4145017908.253526, -4145017911.8828144, -4083572102.447193, -4106865910.052742, -4104586046.066769, 17148907533.569262, -4139213706.591626, -2531181703.537165, -4128837911.202687, -4078930815.719912, -4145017909.687407, -1778950934.0989096, -4130281510.98673, -3810308673.3454466, -4129861547.596968, -4141797295.479482, -3922340667.095624, -4071058632.9118013, 25170549257.16115, -4145017911.3899674, -4143913753.56503, -4120802719.001554, -4145017911.8828154, -4145017911.8828144, -4119424172.4981365, -4145017909.687408, -4145017910.9867287, -4094310250.1782684, -4145016734.927573, -3581681330.8414717, -4064757443.7140546, -4101481109.821284, -2522691318.414465, -4143586060.4795504, -4122082514.045841, -4145017911.8100085, -4142739758.34328, -4144817000.1248994, -4143810601.9276204, -3046065247.640805, -4094782696.3052535, -4145017911.927623, -4121867018.729152, -4145017911.92762, -4112996803.5139494, -4093844184.347428, -4025410959.035638, -4145017911.8380103, -4138067080.5841346, -4045017911.9276204, -4105822170.54934, -4111924186.5152717, -4145017909.687406, -3997027629.1450286, 179921819166.99924, 2761570146.497893, -2331983895.203613, -4093844745.5254903, -4076823232.3466287, -4105896214.880929, -4145017911.8828154, -4145017911.165948, -4091824080.92762, -3729985416.656465, -4117833421.5357866, -4007500250.0588484, -4142995446.503, -4144835992.566276, -3970371775.590835, -3992747239.89829, -4145017911.9275293, -4143550070.9276185, -4137921077.47958, -4145017911.3899713, -3352480617.123362, -4145017911.474647, -4145017902.5187254, -3425600877.123362, -4142328099.0315347, -4079904609.927621, -4138652626.927621, -4145017911.92762, -4134877867.3335395, -4145017911.927619, -4133413189.0315332, 465323177.0049708, -4145017911.92762, -3436511309.487784, -4145017908.1640615, -4145017910.449079, -4144398433.8998637, -4132555290.98673, -4144925576.935746, -4145017911.927619, -4143504207.9276195, -4145017910.449079, -4081360688.432888, -4112796335.6280847, -4145017911.927619, -4131275170.9799886, -4130270709.5187435, -4136449873.3415604, -4129154073.4867296, -4145017911.92762, -4144688711.9112296, -4145017911.927619, -4112452602.5079727, -4069403400.726555, -4045017907.4471936, -4134522633.170142, -4145017911.827754, -4121975305.6874094, 28953278618.07235, -4101958072.318581, -4145017911.755029, -4131487354.3312826, -4129150216.2107525, -4124020434.121707, -4134652864.058564, -4145017172.657338, -3935017902.518726, -4133568959.25537, -4141348219.0969796, 6851301376.62546, -4075181808.164062, -4145017911.1011224, -4139888897.457175, -4145017911.0230045, 17594954986.02182, 5924431119.997571, -4145017911.3899684, -4136019166.804649, -4145017911.739441, -4145017911.255556, -4145017811.118036, -4104540860.023521, -4145017687.906324, -4099907584.1640625, -4145016971.03817, -4139315862.5834928, -4144381441.8249297, -4145017902.5187244, -4145017911.103222, -4127754555.852318, -4134610624.934596, -4145017910.045841, 32826222570.501335, -4140640828.525909, -1997534168.711206, -4125017911.031537, -4138447103.3747573, -4131363828.3087134, -4145017911.923138, -4145017910.9867287, -4010462967.4161105, -4145017911.2555585, -4143822376.9485908, -4145017911.8191385, -4128355068.405383, -4061567504.8952355, -4145017910.3146667, -4120630181.198744, -4145017911.2107506, -4145017908.582235, -4145017896.246129, -4144401463.899999, -4106428101.7608676, -3331925483.7434287, -4140491585.941296, -4045017907.4471927, -4140017902.96677, -4143639993.8075128, -3488017882.4912224, -4029119771.9667664, -4129454036.687406, -4145017907.447193, -4101852407.8952355, -4137195478.7551746, -4144422481.9867296, -4138774071.4914055, -4144360275.4477077, -4142435940.9867287, -3145017858.16251, -4143078022.9276185, -4028172674.9667683, -4145017463.885024, -3975419295.92762, -4135911197.450978, -3479817716.0344152, -4133898710.5834904, 15432770243.157555, -4070984101.817138, -4111494954.9276185, -4145017908.007247, -3880339386.4326115, -4145017911.4795775, -4137449629.719249, -4145017822.319101, -3996301094.135456, -4142517787.815606, -4145017906.2822857, -4045017907.447193, -4127199216.2761407, -3062854940.090019, -4118812371.753501, -4145017907.447193, -4139404360.986728, -4036815822.327086, -4126675097.5834913, -4145017867.123359, -3948719492.8850255, -4145017910.9867277, -3321017889.5254917, 88047804849.15591, -4141164584.977901, -4095017909.6874084, -4145017598.297803, -4127928310.2008624, -4145017902.9667673, -4142568332.630508, -4083653088.7122498, -4125017911.031537, -4138948427.1621504, -4132601357.031534, -4124773886.808351, -4069427539.5000944, -4133937188.2961426, -4134103464.775286, -4144203240.7035975, -4144039765.9867253, -4136640032.4758058, 29668127366.712822, -4141544928.3451633, -4141702122.779057, -4134500138.5163918, -4114790158.395467, -4144123885.806008, -4135660822.807509, -4145017900.726554, -4143141765.035982, -4145017891.7657065, -4145017907.447196, -4121052517.525489, -4142491832.511475, -4139358814.551232, -4145017907.447192, -4145017907.418518, -4133196183.0315332, -3608031357.5016727, -4144709731.9449124, -4145017911.0315332, -4134048585.115879, -4142095295.499135, -4035017906.9991508, -4145017906.7751307, -4141902653.7770762, -4130493059.794147, -4114632327.1233616, -4138096257.2661366, -3145017867.12336, -4045174499.131346, -4126472153.4867306, -4145017891.5462346, -4145017902.5187244, -4108967545.3851695, -4142785010.8275776, -4131855158.36139, -4132833714.3484936, -4034387519.14868, -4080921680.7105823, -4145017906.9095435, -4033882070.0971584, -4123496585.437278, -4134894709.7657256, -3743596493.0059185, -4023352437.881614, -4139648976.977225, -4143869586.6462173, -4144517867.1233597, -4145017910.9867287, -4044468806.6081586, -4127846528.1354485, -4124741811.189629, -4145017911.8828144, -3849882355.957223, -2827270299.9169726, -4133627684.6092176, -4123659143.2231717, -4145017818.1299014, 36514006120.45569, -4134674789.9629955, -4131344502.2691855, -4045017907.447194, -4075981890.389157, 18656867199.285336, -4125233687.2763476, -4011769599.6815214, -4126610651.494905, -2335550679.319098, -4140846529.4795756, -4109878932.447194, -4082075831.5511074, -4138213545.4471936, -4126884716.0639358, -4123749818.583495, -4139850133.5673, -4145017911.573413, -4118975544.8658085, -4142395025.0808196, 4899915271.527777, -4130856106.508185, -4123100893.0316205, -4127216045.8261833, 158910088548.92416, -1904008538.6837556, -4037045139.767035, -4022542224.253193, -4097686104.96977, -4127022321.3398223, -4132448648.9657226, -4145017866.6753173, -4126354613.7987814, 51309720773.1677, -4144532227.4828935, -4141017909.1676817, 138861651829.75925, -4145017867.123359, -4135313869.031533, -4127564158.7598004, -4112371176.3841586, -4111301381.447194, -4125478321.7657237, -4140817911.7394414, -4136071254.9450145, -4120017907.833006, 21782054642.264034, -4137755508.6752563, 1066536286.9769646, -3962379494.0059166, -1442162162.427076, -4143877176.3058944, -4140851943.14291, -4121017910.852318, -4127815549.8977346, 44314455662.178825, -4052967107.447192, -3584454638.1625075, -4136712133.9215884, -4111030924.924413, -4142868222.9867287, -4114306352.4373655, -4045027905.9537277, -4132687104.68156, -4128655366.2730417, -4145017911.7035995, -4145017911.7624316, -4145017908.567303, 4854982481.310706, -3969802037.24613, -4138642650.8714294, -4145017898.486341, -4132261532.382427, -4145017907.2186923, -4139185603.627846, -4145017909.687409, -4106819310.641596, -3856927322.0316014, 24254133640.200138, -3961483877.62892, -3663287315.7906337, -4034040925.225344, 15136807309.926825, -4140517911.367562, -3624125683.885027, -4131770731.805092, -4128062146.129473, -4064701680.285278, -4145017910.9867296, -3703767633.769592, 766484597.6953508, -4136598502.885979, -180816439.0350762, -4099843695.579543, -4145013879.5442657, 25944657650.978508, -4140788870.5365615, -4145017911.7215195, -4137170493.653172, -4117718226.551111, -3845219936.5254917, -4099534859.7203293, -3553995123.603786, -4142513425.520684, -4140610658.9867306, -4136539806.557423, -4124851911.024097, -4133101322.802413, -4145017822.3191, -4124572049.273088, -4143399878.855125, -4135618568.055093, -4140199572.1943693, -3910171635.750874, -4011085429.099277, -4145017910.9867277, -4145017911.165949, 5854982536.114966, -4037692641.4194117, -3501221951.102841, -3914718951.084216, -2372926129.0572925, -3506635542.0835285, -4132571810.1326685, 10345997333.783466, -4145016971.03817, -4145017910.516287, -4145017910.9867277, -3933720251.0250077, -4133766568.873177, -3940538861.616301, -4142850083.7075124, -4144598633.859364, -4119447893.2370896, -3494169242.123362, -3897405167.699935, -4145017910.941926, -4064968784.217635, -4145017907.447194, -4140947698.837427, -4120017910.807514, -4131230055.0596285, -4145017908.159759, -4144172273.979732, -4143835758.203598, -4073662431.7913213, -4145017910.928483, -3877720213.2129903, -4117677396.834865, -4145017902.518723, -4135214219.624911, -4123141321.131815, -4135137408.2117023, -4145017907.447192, -4143786760.447192, -4145017889.525488, -4113216446.2604103, -4005278306.460068, -4133942654.250283, -4129001047.1032166, -4140614109.9114294, -2740860152.982129, -4123948564.7344713, -4139920221.039391, -4134112947.8943834, -4144222464.121144, -4106311101.296174, -4138031511.752871, -4144933585.0450363, -4125864273.2069817, 37149510349.056076, 6054982545.075817, -4137387909.9408317, -4009155488.3606076, -4111779723.72461, -3584931914.71872, -4123418568.4912615, -4114733711.5261073, 73727045997.96396, -4142301617.8518257, -4087206906.4345565, -4126822975.1174774, -4136892045.9175587, -4136372504.8189683, -4140024880.2893634, -4108094787.608588, -4137935518.7392874, -4139098421.928701, -4143975143.1794424, -4145017910.3146667, -4131685291.634025, -4078964029.8215857, -4143601247.8712077, -4139614064.627452, -4129437634.2114177, -4140127010.976383, -4145017907.447192, -4130271749.4224367, 95408100881.91621, -4125748399.5233846, -4114246783.71132, -4037254032.3608375, -4135690770.9216413, -4145017904.0868754, -4145017874.2920413, -2045017817.838677, -4145017908.7913213, -4140345381.684938, -4140513268.447193, -4140002029.4343596, -4145017900.7265577, -3085063025.0165586, -3145017867.123361, -4135264153.832041, -3145017867.123361, -4145017900.6369457, 90093932.58474886, -4138230504.5072694, -4145017910.614858, -4145013431.5016727, -4131383058.164063, -4145017911.3153157, -4127025396.3398066, -3936498911.2621136, -4145017907.447194, 13064905816.398962, -2277962676.6252313, -4145017909.8666267, -4145017911.6543145, -4109705723.764468, -4145017910.045842, -4143439625.9043865, -4129171189.5489883, -4145017910.9867406, -4131541987.22317, -4144611819.061731, -4109733189.377163, -4130240361.5926523, -4109330380.1530604, -4126752899.826129, -4119867123.043794, -4143083209.653342, 26680695439.460556, -4132092117.024498, -4144302251.602596, -4124471379.9580655, -4145017907.447194, -3946079745.1620913, -3248656519.906323, -4129597658.570896, -4145017907.223172, -4092724072.4323516, -4143847619.333534, -4060404804.400508, -4121241950.2627397, -3145017867.123359, -4145017910.8075128, 11173870737.236048, -4145017911.1009817, -4089448440.243413, -3902443806.7037797, -320332720.7105872, -4145017911.92762, -4141480752.9667673, -4121660808.1483855, -4124441377.496714, -4140625652.7402515, -4135386711.9345202, -3708664265.0351777, -4145017911.1032166, -3364807167.1233616, -3164284912.503155, 13794707141.919172, -3650777201.0947895, -4122030980.9604163, -4085017911.255555, -4145017911.1011224, 25438973651.206623, -4145017910.8075128, -3740701418.46045, -4071719703.3358073, -3943653575.1808305, -4041396028.5918856, -4141196665.782882, -4139965355.7837815, -4075333448.3345447, -4128116894.527179, -4070341842.2743106, -4025005764.762593, 5855227214.211039, -3893012334.293771, -4145017872.0518284, -4143897524.226811, -4145017898.486341, -10062995235.874046, -4141684989.302169, -4144877134.1688814, -4045017817.8386755, -3124473388.855419, -4120529966.734636, -3022635628.5576196, -4145017867.1233606, -3145017867.1233606, -4045017907.4471936, -4135734773.9849086, -3145017867.123362, -2145017827.0135007, -4130086854.571893, -3164795254.1916795, -4137721373.4867277, -4144889584.886475], \"z\": [0.8065904692616881, 0.8068076709736246, 0.6667898889257379, 0.7769556021157112, -0.7234917443606643, -0.6988453614860302, -0.5836818784120663, 0.804866337966412, -0.6810437737997698, -0.6988441950433446, -0.7042141972644365, 0.12179948900601906, -0.6829210988852169, 0.6667901540413914, 0.8048644790849214, 0.06526700559315941, -0.58369366689609, 0.7410883976382082, -0.5854185492955083, -0.7234954344415558, 0.16940592280879174, 0.7709312752413932, 0.20506511668574243, -0.5836923421367257, 0.8065942021576281, -0.7234954347074023, 0.8067212691918035, -0.6849213441300491, -0.583698212140992, -0.7234603998935377, -0.5836683142119546, -0.5836933403966769, 0.8066158013295534, -0.6523438277941565, -0.6682390381532765, -0.583687970391319, -0.5854208444406561, 0.8065904780135172, -0.5836948543414444, 0.8065904688382388, -0.5836933680793595, 0.806590683143074, -0.5836938859369001, 0.7050164740814296, 0.20506511595469246, -0.5854198158010976, 0.15638142518781423, 0.6667898889257381, 0.7220367666995744, -0.6819899510788251, 0.8048644790637586, -0.5836948541181332, -0.7196310806951753, -0.5811138567495603, -0.5836905499299944, -0.5836948547561297, -0.5836498026554079, -0.5836908410301818, 0.12882778114341265, -0.5836957285947505, 0.20333912579793928, 0.7417820923212727, -0.7234954344503219, 0.14743654838276163, -0.5836946189708269, -0.6805699636032362, -0.583512872108725, -0.583681336196945, -0.583686279435132, 0.8048644790350751, 0.7410831428512397, 0.8066088435109986, -0.6852688486422367, 0.20368464456227298, -0.5650468059145792, 0.8048681122870123, -0.7234910934374534, 0.8048644790674927, 0.7709312751049718, -0.5836636814162551, -0.583690876015353, -0.5836946267864042, -0.5836948548173725, 0.804864479087545, 0.7245331515387988, -0.5836870010026977, -0.6710779422120147, 0.20944840197827336, -0.58369365941105, 0.6671220706711326, 0.2050684472879578, 0.7709448791072175, -0.7234954348648114, -0.5832079382371749, -0.7234924011712984, -0.583625958244578, 0.7709343951820605, 0.7096730717560884, 0.8066363029613632, 0.8066056926716624, 0.8126249832057765, -0.5836948542051983, -0.5836946269966962, -0.5836898716702621, 0.7410831428424947, 0.8065904692442982, -0.583689586160629, -0.6760303223048053, -0.5836948542839028, 0.20334956467933202, 0.8048644793385628, -0.7233794812021465, 0.10350764313486667, -0.7234864729303015, 0.12354317235231153, 0.8048647737507016, -0.723490713618339, -0.7234954344505196, -0.7234949661774074, -0.7234953930727127, -0.5854205957361837, 0.8068166710704718, 0.806600809133029, 0.7709312752938626, -0.5836900887656961, -0.5854208442570121, 0.14734775012063153, -0.6729503386671777, -0.5836702357223824, 0.8065904692355531, 0.8048659098541185, 0.10351170732856414, -0.7234873665058901, 0.7709380875293754, 0.806590468815796, 0.8066209238162374, -0.6887644796342726, -0.7252308121546962, 0.06380712044313658, 0.12056847341802218, -0.583680817367974, 0.6667979414042815, -0.723495434436309, 0.20506511668052285, 0.7220470362965804, -0.5836094357208357, 0.20507071266793092, -0.5836665479943489, 0.7709316915067284, -0.5836948166757571, 0.2051010627900391, -0.5836635110793884, 0.06526453650186433, 0.8065907714033286, 0.7709327360665612, 0.7709312751889232, -0.5835317216354294, 0.8048644790078784, -0.6710862954992837, -0.6709376712767859, 0.2033396801865681, -0.6852554449139576, -0.6682480253654213, 0.7410831428512397, -0.5836927668346422, 0.8065904692530432, 0.806592857872344, -0.5827459179553892, -0.723495434427564, -0.6709399327465296, -0.5836948548348342, -0.5854208445455952, -0.583694726588149, -0.7234928692215002, -0.5836956404768324, 0.8065904692530432, 0.8048647906873243, -0.5854208445455952, 0.06498421810228552, -0.585414211839439, 0.8065904692530432, -0.6785268962676285, -0.7234923992346383, 0.7242846025681778, -0.585417578921412, 0.12055790546294923, 0.14585181766827116, 0.8048644790962898, -0.5836881524779323, -0.5836792912881222, 0.2050857006287597, -0.6988653676613692, 0.20333912665294201, 0.7709360181015454, -0.6667109531553057, 0.666798743899208, 0.16940592283631953, 0.7410859278422032, -0.5854175780836336, -0.7234911123490326, 0.7218634192453827, -0.5836949983918498, -0.5836516281211557, -0.6710839290289096, 0.666790644127455, 0.8071278031580835, -0.5836804793012677, -0.7266524234153318, 0.666790944624731, 0.7378880685461663, -0.719020521184287, 0.7438548555903229, 0.11314646623134245, 0.8065923212477218, 0.8065904692163145, -0.7234954345587382, -0.5854208639331383, 0.20507344696326157, -0.6760303655922828, -0.5854115591784214, -0.5836950377441023, -0.6760290367535596, -0.5836947245587382, 0.6667898870892999, -0.6710862938176254, -0.6710827272670844, 0.804866618040796, -0.7234954347948518, 0.21267465951852255, 0.6667907895839236, 0.14858993964426906, 0.12883072875456494, -0.5836935016958179, -0.5854180338272564, 0.804864479095415, 0.8048644789126458, 0.8048921761364963, 0.12882661186347624, 0.666790133072945, -0.7234954344487375, 0.6667933143218298, 0.7417992695331501, 0.7410831425364218, 0.8048694980143435, 0.7417820921868108, 0.8065904686000872, 0.8065904661923126, -0.5836947272118381, 0.1214541437443179, 0.806757824170915, 0.8065914005943929, 0.8066110530526158, 0.1694069503547208, -0.5854205608359121, 0.20347436223562698, 0.026403510557086837, 0.8048676824315718, 0.20333912579793928, 0.8065993539434825, -0.7266508131191849, 0.6667900113092133, -0.7234941492385915, 0.8048646144423531, 0.8065910005595085, -0.6850630120282101, 0.8065908685728711, -0.5836708036399006, 0.8048643916468403, 0.20510002815151318, -0.7234935599332, 0.1474785373362965, -0.5836925655115281, 0.7390802526418129, 0.1288418509653528, 0.8065973698444792, -0.5836948548654415, 0.8049189491768374, -0.6760303219550075, -0.6785281544998819, -0.723495451917454, 0.12885722451671033, 0.1694064374905197, -0.6523972557324342, 0.7243034915281145, 0.1288302772800688, 0.7352730978557059, -0.6988621338366674, -0.7234954353020585, -0.7042145615115308, 0.06680302067639343, 0.8048682546422123, 0.8065904605080984, -0.5836545342521771, -0.7042157170425017, -0.5852512309151701, 0.7899088599316197, 0.8048652722573502, 0.1288369038944368, 0.7350503426292451, 0.8065939867544722, 0.8065904675040542, 0.8065909731232823, -0.5854082145041114, 0.12883072875456494, 0.8048657279546962, 0.6667924446580106, 0.8065946361307444, 0.1456244493161433, 0.8065927499387703, 0.8065927102604301, 0.8048646467499349, -0.7266522220896999, 0.8065921925516217, 0.21202515793565685, 0.8065911840415896, 0.8065911517684049, 0.13636488121693802, 0.7220422093091164, -0.5836946700916571, -0.7266504973465726, 0.8048644769100534, -0.6785293384789507, 0.7709312713586376, 0.12882661112015595, 0.8065953980742858, 0.6667904087271154, 0.8048656439211535, 0.8048644782217952, -0.5854208451371034, 0.8065929025423222, -0.5853111827417711, 0.8065905324988801, -0.5836948542751578, -0.6810450582183714, 0.20506571795877374, 0.14736385955147982, -0.6709073639190406, -0.5836942128639362, 0.16940891263632388, -0.5854145982375845, -0.7042142922076264, 0.8067963072487707, -0.5836743025345738, -0.678525907190041, -0.6988675319103539, -0.5854208460934505, 0.20507253737826506, -0.6710858323596038, 0.8048671877307929, 0.7242853493848942, 0.8048872510391044, -0.5836816951166441, 0.20506511584975307, 0.12884948797996568, 0.804868908315786, -0.6485011476208081, 0.12890923978370464, 0.8048895191604907, 0.8065915742451091, 0.8065907053816903, 0.8065905634314685, -0.5836948542839028, 0.06528457764491001, 0.8048680134195093, -0.58369068064196, -0.5836948541090039, 0.20512585201310465, -0.7232242022620214, 0.12882895637319441, 0.8065948649667781, 0.8048644607887474, 0.7494518825521498, 0.0652666638482561, -0.5836920401037468, 0.1214667842505093, -0.6810331046781868, 0.728993250131971, -0.6710822062461482, -0.6734967038659426, -0.6710824909897876, -0.7262799678301645, 0.741782950904669, -0.5854136118880322, 0.7417950476983262, 0.7244989547989079, -0.5836911216097448, 0.7709356529989329, -0.5836937909864895, 0.8048644790271555, -0.585415484045883, -0.5854203045097571, 0.808451901560075, -0.7266495085652536, 0.7709357866753298, -0.6710826159848492, -0.5501322427187714, -0.670446102208911, 0.12058021137046489, -0.5853956426654772, 0.7245072972404378, -0.7234917302777324, 0.8048670663548748, -0.5836948629326533, 0.20506895845590278, 0.07381012491890453, -0.5836948460424601, 0.1288274348429248, -0.5542573972394521, -0.5836948628452036, -0.5836928567297407, -0.5836912620374067, -0.5836881347515706, -0.5836879145377695, 0.8065944909915859, 0.806591333772625, -0.7266505823919843, 0.12124032261330875, 0.1259140290799947, 0.8048659738019659, -0.7031431192506955, 0.7097100008570764, -0.5848644859679704, 0.8065907039320206, -0.6806120572028758, 0.11580403916448517, -0.7042121759925396, 0.8165654750888022, 0.6668088364084002, 0.741897471944574, 0.7247363034612535, -0.6760232154970426, 0.8065909115756674, 0.7378943888463192, -0.5836742723588457, 0.12056045281646564, 0.8065938373002762, 0.7193762614210754, 0.8048644790640485, 0.13636271564300384, 0.06711707846137498, -0.5853847797042535, -0.6806116025848374, -0.5836948567237424, -0.698864904524307, -0.5836948550193526, -0.680611714234338, 0.08111762361792685, 0.8048723408932624, 0.06684004685505093, 0.7476277024865781, 0.7709690533382503, -0.6851696913796026, 0.8066133116656704, -0.7226840664821302, -0.7266514970529949, -0.698760391506585, 0.14025946654909316, 0.13636620641291655, -0.5854043162372976, -0.7234954346112079, -0.6809564934170708, 0.8076010483280693, 0.8065922010478275, -0.582878879918532, 0.8048737776237791, 0.6667891018806961, -0.6622309637679699, -0.585419973895958, 0.8065904692128164, -0.6806112993359725, 0.13636833479963073, -0.6805512064585965, -0.583685492122473, 0.8067121214889319, 0.8065909847583902, 0.2033400337072494, -0.5854190992680002, -0.7234912834985419, -0.6684443041609477, 0.8065904517631531, 0.12145040894627004, 0.08989277604982324, 0.14734307621287696, -0.6709080701942918, 0.8066388095625862, -0.7266248566303558, -0.7042157170425017, -0.6657877684843038, -0.5816364741429794, -0.676008118557498, -0.6728283582062484, 0.16945332215714218, 0.06267933410989307, 0.062444289193899966, -0.5836922924609369, -0.5807120869806772, -0.5836950377441023, -0.6806129147930753, -0.7042157170425017, -0.5853773536992873, 0.721840882285654, 0.06235432118531154, 0.8048649251178089, 0.7254418216905879, 0.2050703792486765, 0.12069236165562403, -0.6988166145580342, -0.5854208444494009, -0.7266359541561509, -0.680612915392104, -0.583694016443998, -0.6710811288892399, 0.7417849300744181, -0.7042157175942727, 0.806590643298596, 0.8065907125517631, -0.7042010291786343, -0.7042157170538702, 0.20512013481217278, -0.6785240868890982, 0.6860696046580061, 0.12055993071590183, 0.12883111444919598, 0.8065925028599042, 0.8065904683785486, 0.06511105409269294, 0.8065904648805706, -0.5854142989043727, 0.7379168319142259, 0.12882889110001192, -0.7266491263956729, 0.11828757726960606, 0.8068794657126925, -0.6484988941539624, -0.678528675477137, 0.06643125128351116, -0.6710861294751996, 0.20507308427238882, -0.6785282741829818, -0.7266524111481073, -0.6734700754188269, -0.7181536899707309, 0.8086900168094681, 0.20506668705504377, -0.6710582260298812, 0.7350572449411504, -0.7265371401311617, 0.80659491467214, 0.1395640235434548, 0.16342865201894613, 0.13636326974894786, 0.06527643583122555, 0.1220295861770348, -0.6704716272844148, -0.6710845077042643, -0.5854198166415605, 0.7198196233612785, 0.13636417400259118, 0.7378892871853608, 0.20506518370938376, 0.7242828321445854, 0.7173271954932824, 0.13637631239979825, -0.5836945626780935, 0.8065915728632294, -0.6810441227694287, -0.6710852839735144, 0.8065904683785486, -0.6648405538333738, -0.652982946673594, 0.20334309275727733, 0.8048708127950316, 0.20508729739647433, 0.12882853011785111, -0.6729608734072233, 0.20506510948343315, -0.7230631746365351, 0.20506511621704077, 0.719378919061026, 0.2033400530631954, -0.5854198119728036, 0.7378880665364942, 0.8068084999367552, 0.06341124795873554, -0.6704712928702972, 0.06251927198847426, 0.7096724066319665, -0.7033439994209546, 0.12391778021294483, -0.652397254886798, -0.6710871713483518, -0.6785269062639111, -0.6988675280518027, -0.7234917309107111, 0.06593813266662084, -0.6988675288067868, 0.2068817333791384, -0.7262681667528479, 0.07838751222291471, -0.6709090619418461, 0.7378953371488451, -0.6710862940247608, -0.6756131806283684, -0.6756102428178691, -0.7234954346112058, 0.08454702712657833, -0.671086209942076, -0.5836875919056268, 0.8065935109797772, -0.7042083729973543, 0.737891828349296, -0.7042105399213219, 0.13636311443398874, 0.812935187063596, -0.6682466757812573, 0.20333927381632197, 0.8065946979543309, -0.6710862945338224, 0.7254826823049548, 0.7352348731440336, 0.804867649628433, -0.7234954353457834, -0.7234846704714134, -0.619353807176907, -0.7234780185658615, 0.8048693730378799, 0.06698658671891412, 0.2033391264538101, 0.8097435061563337, -0.5854208444183561, -0.5836842740894856, 0.8049144121852215, -0.6798256505535685, 0.7220359877147104, 0.8065911956148528, -0.6756087578886535, 0.806594704390623, 0.06526544045028233, 0.8065924518041703, 0.8049542966951996, -0.7266524234149232, -0.5835342590155708, 0.8067922580256841, 0.6704827211933482, 0.8049662081815548, -0.7234907030104213, 0.8066028199263092, -0.7266524234153318, -0.5776055235692806, 0.6667898887071146, 0.8066736929837564, -0.668234149555309, 0.80490592746783, 0.8066117980793232, 0.12882739850692707, -0.5836938140918154, -0.5836805113738112, 0.14561232465465868, 0.6668052598320952, 0.06680545143256876, 0.20712354707530636, 0.8066423411535799, -0.5836948618832598, 0.7096726389371273, 0.8065904666295598, 0.06108474091232846, -0.6852681622282012, 0.770931304271455, -0.6710656521424146, 0.0669908244869721, -0.6988624873829602, 0.06701178745800686, -0.6988675366772372, 0.06547037449760987, 0.06233265799624348, 0.1288285228227544, 0.07103044200926067, 0.010431120248670812, 0.8065935405739924, -0.7264506598725711, -0.7042142150740393, 0.20506514323613587]}, {\"customdata\": [[\"Scrypt\", \"PoW/PoS\"]], \"hovertemplate\": \"<b>%{hovertext}</b><br><br>class=%{marker.color}<br>Principal Component 1=%{x}<br>Principal Component 2=%{y}<br>Principal Component 3=%{z}<br>Algorithm=%{customdata[0]}<br>ProofType=%{customdata[1]}<extra></extra>\", \"hovertext\": [null], \"legendgroup\": \"1\", \"marker\": {\"color\": [1], \"coloraxis\": \"coloraxis\", \"symbol\": \"diamond\"}, \"mode\": \"markers\", \"name\": \"1\", \"scene\": \"scene\", \"showlegend\": true, \"type\": \"scatter3d\", \"x\": [9.209906361832734e+16], \"y\": [-12554388.249860495], \"z\": [1.1668456114028595e-05]}, {\"customdata\": [[\"CryptoNight\", \"PoW\"]], \"hovertemplate\": \"<b>%{hovertext}</b><br><br>class=%{marker.color}<br>Principal Component 1=%{x}<br>Principal Component 2=%{y}<br>Principal Component 3=%{z}<br>Algorithm=%{customdata[0]}<br>ProofType=%{customdata[1]}<extra></extra>\", \"hovertext\": [\"TurtleCoin\"], \"legendgroup\": \"2\", \"marker\": {\"color\": [2], \"coloraxis\": \"coloraxis\", \"symbol\": \"square\"}, \"mode\": \"markers\", \"name\": \"2\", \"scene\": \"scene\", \"showlegend\": true, \"type\": \"scatter3d\", \"x\": [-133656381674909.9], \"y\": [48994862106.1018], \"z\": [-0.7157225063202846]}, {\"customdata\": [[\"TRC10\", \"DPoS\"]], \"hovertemplate\": \"<b>%{hovertext}</b><br><br>class=%{marker.color}<br>Principal Component 1=%{x}<br>Principal Component 2=%{y}<br>Principal Component 3=%{z}<br>Algorithm=%{customdata[0]}<br>ProofType=%{customdata[1]}<extra></extra>\", \"hovertext\": [\"BitTorrent\"], \"legendgroup\": \"3\", \"marker\": {\"color\": [3], \"coloraxis\": \"coloraxis\", \"symbol\": \"x\"}, \"mode\": \"markers\", \"name\": \"3\", \"scene\": \"scene\", \"showlegend\": true, \"type\": \"scatter3d\", \"x\": [-133666381716884.58], \"y\": [985843739883.9374], \"z\": [0.2696332376586841]}],\n",
       "                        {\"coloraxis\": {\"colorbar\": {\"title\": {\"text\": \"class\"}}, \"colorscale\": [[0.0, \"#0d0887\"], [0.1111111111111111, \"#46039f\"], [0.2222222222222222, \"#7201a8\"], [0.3333333333333333, \"#9c179e\"], [0.4444444444444444, \"#bd3786\"], [0.5555555555555556, \"#d8576b\"], [0.6666666666666666, \"#ed7953\"], [0.7777777777777778, \"#fb9f3a\"], [0.8888888888888888, \"#fdca26\"], [1.0, \"#f0f921\"]]}, \"legend\": {\"title\": {\"text\": \"class\"}, \"tracegroupgap\": 0}, \"margin\": {\"t\": 60}, \"scene\": {\"domain\": {\"x\": [0.0, 1.0], \"y\": [0.0, 1.0]}, \"xaxis\": {\"title\": {\"text\": \"Principal Component 1\"}}, \"yaxis\": {\"title\": {\"text\": \"Principal Component 2\"}}, \"zaxis\": {\"title\": {\"text\": \"Principal Component 3\"}}}, \"template\": {\"data\": {\"bar\": [{\"error_x\": {\"color\": \"#2a3f5f\"}, \"error_y\": {\"color\": \"#2a3f5f\"}, \"marker\": {\"line\": {\"color\": \"#E5ECF6\", \"width\": 0.5}}, \"type\": \"bar\"}], \"barpolar\": [{\"marker\": {\"line\": {\"color\": \"#E5ECF6\", \"width\": 0.5}}, \"type\": \"barpolar\"}], \"carpet\": [{\"aaxis\": {\"endlinecolor\": \"#2a3f5f\", \"gridcolor\": \"white\", \"linecolor\": \"white\", \"minorgridcolor\": \"white\", \"startlinecolor\": \"#2a3f5f\"}, \"baxis\": {\"endlinecolor\": \"#2a3f5f\", \"gridcolor\": \"white\", \"linecolor\": \"white\", \"minorgridcolor\": \"white\", \"startlinecolor\": \"#2a3f5f\"}, \"type\": \"carpet\"}], \"choropleth\": [{\"colorbar\": {\"outlinewidth\": 0, \"ticks\": \"\"}, \"type\": \"choropleth\"}], \"contour\": [{\"colorbar\": {\"outlinewidth\": 0, \"ticks\": \"\"}, \"colorscale\": [[0.0, \"#0d0887\"], [0.1111111111111111, \"#46039f\"], [0.2222222222222222, \"#7201a8\"], [0.3333333333333333, \"#9c179e\"], [0.4444444444444444, \"#bd3786\"], [0.5555555555555556, \"#d8576b\"], [0.6666666666666666, \"#ed7953\"], [0.7777777777777778, \"#fb9f3a\"], [0.8888888888888888, \"#fdca26\"], [1.0, \"#f0f921\"]], \"type\": \"contour\"}], \"contourcarpet\": [{\"colorbar\": {\"outlinewidth\": 0, \"ticks\": \"\"}, \"type\": \"contourcarpet\"}], \"heatmap\": [{\"colorbar\": {\"outlinewidth\": 0, \"ticks\": \"\"}, \"colorscale\": [[0.0, \"#0d0887\"], [0.1111111111111111, \"#46039f\"], [0.2222222222222222, \"#7201a8\"], [0.3333333333333333, \"#9c179e\"], [0.4444444444444444, \"#bd3786\"], [0.5555555555555556, \"#d8576b\"], [0.6666666666666666, \"#ed7953\"], [0.7777777777777778, \"#fb9f3a\"], [0.8888888888888888, \"#fdca26\"], [1.0, \"#f0f921\"]], \"type\": \"heatmap\"}], \"heatmapgl\": [{\"colorbar\": {\"outlinewidth\": 0, \"ticks\": \"\"}, \"colorscale\": [[0.0, \"#0d0887\"], [0.1111111111111111, \"#46039f\"], [0.2222222222222222, \"#7201a8\"], [0.3333333333333333, \"#9c179e\"], [0.4444444444444444, \"#bd3786\"], [0.5555555555555556, \"#d8576b\"], [0.6666666666666666, \"#ed7953\"], [0.7777777777777778, \"#fb9f3a\"], [0.8888888888888888, \"#fdca26\"], [1.0, \"#f0f921\"]], \"type\": \"heatmapgl\"}], \"histogram\": [{\"marker\": {\"colorbar\": {\"outlinewidth\": 0, \"ticks\": \"\"}}, \"type\": \"histogram\"}], \"histogram2d\": [{\"colorbar\": {\"outlinewidth\": 0, \"ticks\": \"\"}, \"colorscale\": [[0.0, \"#0d0887\"], [0.1111111111111111, \"#46039f\"], [0.2222222222222222, \"#7201a8\"], [0.3333333333333333, \"#9c179e\"], [0.4444444444444444, \"#bd3786\"], [0.5555555555555556, \"#d8576b\"], [0.6666666666666666, \"#ed7953\"], [0.7777777777777778, \"#fb9f3a\"], [0.8888888888888888, \"#fdca26\"], [1.0, \"#f0f921\"]], \"type\": \"histogram2d\"}], \"histogram2dcontour\": [{\"colorbar\": {\"outlinewidth\": 0, \"ticks\": \"\"}, \"colorscale\": [[0.0, \"#0d0887\"], [0.1111111111111111, \"#46039f\"], [0.2222222222222222, \"#7201a8\"], [0.3333333333333333, \"#9c179e\"], [0.4444444444444444, \"#bd3786\"], [0.5555555555555556, \"#d8576b\"], [0.6666666666666666, \"#ed7953\"], [0.7777777777777778, \"#fb9f3a\"], [0.8888888888888888, \"#fdca26\"], [1.0, \"#f0f921\"]], \"type\": \"histogram2dcontour\"}], \"mesh3d\": [{\"colorbar\": {\"outlinewidth\": 0, \"ticks\": \"\"}, \"type\": \"mesh3d\"}], \"parcoords\": [{\"line\": {\"colorbar\": {\"outlinewidth\": 0, \"ticks\": \"\"}}, \"type\": \"parcoords\"}], \"pie\": [{\"automargin\": true, \"type\": \"pie\"}], \"scatter\": [{\"marker\": {\"colorbar\": {\"outlinewidth\": 0, \"ticks\": \"\"}}, \"type\": \"scatter\"}], \"scatter3d\": [{\"line\": {\"colorbar\": {\"outlinewidth\": 0, \"ticks\": \"\"}}, \"marker\": {\"colorbar\": {\"outlinewidth\": 0, \"ticks\": \"\"}}, \"type\": \"scatter3d\"}], \"scattercarpet\": [{\"marker\": {\"colorbar\": {\"outlinewidth\": 0, \"ticks\": \"\"}}, \"type\": \"scattercarpet\"}], \"scattergeo\": [{\"marker\": {\"colorbar\": {\"outlinewidth\": 0, \"ticks\": \"\"}}, \"type\": \"scattergeo\"}], \"scattergl\": [{\"marker\": {\"colorbar\": {\"outlinewidth\": 0, \"ticks\": \"\"}}, \"type\": \"scattergl\"}], \"scattermapbox\": [{\"marker\": {\"colorbar\": {\"outlinewidth\": 0, \"ticks\": \"\"}}, \"type\": \"scattermapbox\"}], \"scatterpolar\": [{\"marker\": {\"colorbar\": {\"outlinewidth\": 0, \"ticks\": \"\"}}, \"type\": \"scatterpolar\"}], \"scatterpolargl\": [{\"marker\": {\"colorbar\": {\"outlinewidth\": 0, \"ticks\": \"\"}}, \"type\": \"scatterpolargl\"}], \"scatterternary\": [{\"marker\": {\"colorbar\": {\"outlinewidth\": 0, \"ticks\": \"\"}}, \"type\": \"scatterternary\"}], \"surface\": [{\"colorbar\": {\"outlinewidth\": 0, \"ticks\": \"\"}, \"colorscale\": [[0.0, \"#0d0887\"], [0.1111111111111111, \"#46039f\"], [0.2222222222222222, \"#7201a8\"], [0.3333333333333333, \"#9c179e\"], [0.4444444444444444, \"#bd3786\"], [0.5555555555555556, \"#d8576b\"], [0.6666666666666666, \"#ed7953\"], [0.7777777777777778, \"#fb9f3a\"], [0.8888888888888888, \"#fdca26\"], [1.0, \"#f0f921\"]], \"type\": \"surface\"}], \"table\": [{\"cells\": {\"fill\": {\"color\": \"#EBF0F8\"}, \"line\": {\"color\": \"white\"}}, \"header\": {\"fill\": {\"color\": \"#C8D4E3\"}, \"line\": {\"color\": \"white\"}}, \"type\": \"table\"}]}, \"layout\": {\"annotationdefaults\": {\"arrowcolor\": \"#2a3f5f\", \"arrowhead\": 0, \"arrowwidth\": 1}, \"coloraxis\": {\"colorbar\": {\"outlinewidth\": 0, \"ticks\": \"\"}}, \"colorscale\": {\"diverging\": [[0, \"#8e0152\"], [0.1, \"#c51b7d\"], [0.2, \"#de77ae\"], [0.3, \"#f1b6da\"], [0.4, \"#fde0ef\"], [0.5, \"#f7f7f7\"], [0.6, \"#e6f5d0\"], [0.7, \"#b8e186\"], [0.8, \"#7fbc41\"], [0.9, \"#4d9221\"], [1, \"#276419\"]], \"sequential\": [[0.0, \"#0d0887\"], [0.1111111111111111, \"#46039f\"], [0.2222222222222222, \"#7201a8\"], [0.3333333333333333, \"#9c179e\"], [0.4444444444444444, \"#bd3786\"], [0.5555555555555556, \"#d8576b\"], [0.6666666666666666, \"#ed7953\"], [0.7777777777777778, \"#fb9f3a\"], [0.8888888888888888, \"#fdca26\"], [1.0, \"#f0f921\"]], \"sequentialminus\": [[0.0, \"#0d0887\"], [0.1111111111111111, \"#46039f\"], [0.2222222222222222, \"#7201a8\"], [0.3333333333333333, \"#9c179e\"], [0.4444444444444444, \"#bd3786\"], [0.5555555555555556, \"#d8576b\"], [0.6666666666666666, \"#ed7953\"], [0.7777777777777778, \"#fb9f3a\"], [0.8888888888888888, \"#fdca26\"], [1.0, \"#f0f921\"]]}, \"colorway\": [\"#636efa\", \"#EF553B\", \"#00cc96\", \"#ab63fa\", \"#FFA15A\", \"#19d3f3\", \"#FF6692\", \"#B6E880\", \"#FF97FF\", \"#FECB52\"], \"font\": {\"color\": \"#2a3f5f\"}, \"geo\": {\"bgcolor\": \"white\", \"lakecolor\": \"white\", \"landcolor\": \"#E5ECF6\", \"showlakes\": true, \"showland\": true, \"subunitcolor\": \"white\"}, \"hoverlabel\": {\"align\": \"left\"}, \"hovermode\": \"closest\", \"mapbox\": {\"style\": \"light\"}, \"paper_bgcolor\": \"white\", \"plot_bgcolor\": \"#E5ECF6\", \"polar\": {\"angularaxis\": {\"gridcolor\": \"white\", \"linecolor\": \"white\", \"ticks\": \"\"}, \"bgcolor\": \"#E5ECF6\", \"radialaxis\": {\"gridcolor\": \"white\", \"linecolor\": \"white\", \"ticks\": \"\"}}, \"scene\": {\"xaxis\": {\"backgroundcolor\": \"#E5ECF6\", \"gridcolor\": \"white\", \"gridwidth\": 2, \"linecolor\": \"white\", \"showbackground\": true, \"ticks\": \"\", \"zerolinecolor\": \"white\"}, \"yaxis\": {\"backgroundcolor\": \"#E5ECF6\", \"gridcolor\": \"white\", \"gridwidth\": 2, \"linecolor\": \"white\", \"showbackground\": true, \"ticks\": \"\", \"zerolinecolor\": \"white\"}, \"zaxis\": {\"backgroundcolor\": \"#E5ECF6\", \"gridcolor\": \"white\", \"gridwidth\": 2, \"linecolor\": \"white\", \"showbackground\": true, \"ticks\": \"\", \"zerolinecolor\": \"white\"}}, \"shapedefaults\": {\"line\": {\"color\": \"#2a3f5f\"}}, \"ternary\": {\"aaxis\": {\"gridcolor\": \"white\", \"linecolor\": \"white\", \"ticks\": \"\"}, \"baxis\": {\"gridcolor\": \"white\", \"linecolor\": \"white\", \"ticks\": \"\"}, \"bgcolor\": \"#E5ECF6\", \"caxis\": {\"gridcolor\": \"white\", \"linecolor\": \"white\", \"ticks\": \"\"}}, \"title\": {\"x\": 0.05}, \"xaxis\": {\"automargin\": true, \"gridcolor\": \"white\", \"linecolor\": \"white\", \"ticks\": \"\", \"title\": {\"standoff\": 15}, \"zerolinecolor\": \"white\", \"zerolinewidth\": 2}, \"yaxis\": {\"automargin\": true, \"gridcolor\": \"white\", \"linecolor\": \"white\", \"ticks\": \"\", \"title\": {\"standoff\": 15}, \"zerolinecolor\": \"white\", \"zerolinewidth\": 2}}}, \"width\": 1000},\n",
       "                        {\"responsive\": true}\n",
       "                    ).then(function(){\n",
       "                            \n",
       "var gd = document.getElementById('984b6e23-8b3f-4e35-858b-a06b3dabdb70');\n",
       "var x = new MutationObserver(function (mutations, observer) {{\n",
       "        var display = window.getComputedStyle(gd).display;\n",
       "        if (!display || display === 'none') {{\n",
       "            console.log([gd, 'removed!']);\n",
       "            Plotly.purge(gd);\n",
       "            observer.disconnect();\n",
       "        }}\n",
       "}});\n",
       "\n",
       "// Listen for the removal of the full notebook cells\n",
       "var notebookContainer = gd.closest('#notebook-container');\n",
       "if (notebookContainer) {{\n",
       "    x.observe(notebookContainer, {childList: true});\n",
       "}}\n",
       "\n",
       "// Listen for the clearing of the current output cell\n",
       "var outputEl = gd.closest('.output');\n",
       "if (outputEl) {{\n",
       "    x.observe(outputEl, {childList: true});\n",
       "}}\n",
       "\n",
       "                        })\n",
       "                };\n",
       "                });\n",
       "            </script>\n",
       "        </div>"
      ]
     },
     "metadata": {},
     "output_type": "display_data"
    }
   ],
   "source": [
    "# Create a 3D-Scatter with the PCA data and the clusters\n",
    "# cluster_df.hvplot.scatter(\n",
    "#     #x=\"Principal Component 1\",\n",
    "#     y=\"Principal Component 2\",\n",
    "#     hover_cols=[\"class\"],\n",
    "#     by=\"class\",\n",
    "# )\n",
    "\n",
    "\n",
    "px.scatter_3d(cluster_df, \n",
    "             x='Principal Component 1',\n",
    "             y='Principal Component 2',\n",
    "             z='Principal Component 3',\n",
    "             color='class',\n",
    "             symbol='class',\n",
    "             hover_name='CoinName',\n",
    "             hover_data=['Algorithm','ProofType'],\n",
    "             width=1000)"
   ]
  },
  {
   "cell_type": "markdown",
   "metadata": {},
   "source": [
    "#### Table of Tradable Cryptocurrencies"
   ]
  },
  {
   "cell_type": "code",
   "execution_count": 81,
   "metadata": {},
   "outputs": [
    {
     "data": {
      "application/vnd.holoviews_exec.v0+json": "",
      "text/html": [
       "<div id='1553'>\n",
       "\n",
       "\n",
       "\n",
       "\n",
       "\n",
       "  <div class=\"bk-root\" id=\"005b98dd-d35c-43eb-a1f3-1040dfa92905\" data-root-id=\"1553\"></div>\n",
       "</div>\n",
       "<script type=\"application/javascript\">(function(root) {\n",
       "  function embed_document(root) {\n",
       "  var docs_json = {\"c9844ed5-2d4d-41be-a76c-f197fce076d5\":{\"roots\":{\"references\":[{\"attributes\":{\"editor\":{\"id\":\"1583\"},\"field\":\"class\",\"formatter\":{\"id\":\"1582\"},\"title\":\"class\"},\"id\":\"1584\",\"type\":\"TableColumn\"},{\"attributes\":{},\"id\":\"1563\",\"type\":\"StringEditor\"},{\"attributes\":{},\"id\":\"1567\",\"type\":\"StringFormatter\"},{\"attributes\":{},\"id\":\"1562\",\"type\":\"StringFormatter\"},{\"attributes\":{},\"id\":\"1589\",\"type\":\"UnionRenderers\"},{\"attributes\":{},\"id\":\"1568\",\"type\":\"StringEditor\"},{\"attributes\":{\"editor\":{\"id\":\"1568\"},\"field\":\"ProofType\",\"formatter\":{\"id\":\"1567\"},\"title\":\"ProofType\"},\"id\":\"1569\",\"type\":\"TableColumn\"},{\"attributes\":{\"editor\":{\"id\":\"1578\"},\"field\":\"TotalCoinsMined\",\"formatter\":{\"id\":\"1577\"},\"title\":\"TotalCoinsMined\"},\"id\":\"1579\",\"type\":\"TableColumn\"},{\"attributes\":{\"data\":{\"Algorithm\":[\"Scrypt\",\"Scrypt\",\"SHA-256\",\"X13\",\"SHA-256\",\"Ethash\",\"Scrypt\",\"X11\",\"CryptoNight-V7\",\"Ethash\",\"Equihash\",\"SHA-512\",\"Multiple\",\"SHA-256\",\"X11\",\"SHA-256\",\"Scrypt\",\"X15\",\"X11\",\"SHA-256\",\"X13\",\"X13\",\"Scrypt\",\"Scrypt\",\"Scrypt\",\"SHA-256\",\"Scrypt\",\"Multiple\",\"Scrypt\",\"SHA-256\",\"Scrypt\",\"Scrypt\",\"Scrypt\",\"Quark\",\"Groestl\",\"Scrypt\",\"X11\",\"Scrypt\",\"Scrypt\",\"Scrypt\",\"Scrypt\",\"Scrypt\",\"Scrypt\",\"Multiple\",\"Scrypt\",\"X11\",\"Scrypt\",\"SHA-256\",\"Groestl\",\"Multiple\",\"X11\",\"Scrypt\",\"SHA-256\",\"Scrypt\",\"Scrypt\",\"Scrypt\",\"Scrypt\",\"Scrypt\",\"PoS\",\"Scrypt\",\"X11\",\"NIST5\",\"SHA-256\",\"Scrypt\",\"Scrypt\",\"NeoScrypt\",\"Scrypt\",\"Scrypt\",\"Scrypt\",\"X11\",\"X15\",\"Scrypt\",\"Multiple\",\"X11\",\"Scrypt\",\"X11\",\"SHA-256\",\"X11\",\"X13\",\"Scrypt\",\"Scrypt\",\"Scrypt\",\"Scrypt\",\"X11\",\"SHA3\",\"Scrypt\",\"HybridScryptHash256\",\"Scrypt\",\"Scrypt\",\"SHA-256\",\"Scrypt\",\"X13\",\"SHA-256\",\"Scrypt\",\"SHA-256\",\"Scrypt\",\"X13\",\"NeoScrypt\",\"Scrypt\",\"Scrypt\",\"Scrypt\",\"Scrypt\",\"Scrypt\",\"Scrypt\",\"X15\",\"Scrypt\",\"Scrypt\",\"Scrypt-n\",\"Scrypt\",\"X11\",\"X11\",\"SHA-256\",\"Multiple\",\"SHA-256\",\"PHI1612\",\"X11\",\"SHA-256\",\"SHA-256\",\"SHA-256\",\"SHA-256\",\"X11\",\"Scrypt\",\"Scrypt\",\"X13\",\"Scrypt\",\"X11\",\"Scrypt\",\"Lyra2REv2\",\"Scrypt\",\"Scrypt\",\"X11\",\"Multiple\",\"SHA-256\",\"X13\",\"Scrypt\",\"Scrypt\",\"CryptoNight\",\"CryptoNight\",\"Shabal256\",\"Counterparty\",\"Scrypt\",\"SHA-256\",\"SHA-256\",\"Scrypt\",\"Groestl\",\"Scrypt\",\"Scrypt\",\"Scrypt\",\"X13\",\"Scrypt\",\"Scrypt\",\"Scrypt\",\"SHA-256\",\"Scrypt\",\"X13\",\"X13\",\"Scrypt\",\"X11\",\"Momentum\",\"Stanford Folding\",\"X11\",\"Multiple\",\"QuBit\",\"X15\",\"Scrypt\",\"Scrypt\",\"Scrypt\",\"Scrypt\",\"SHA-256\",\"M7 POW\",\"Scrypt\",\"X11\",\"Scrypt\",\"SHA-256\",\"Scrypt\",\"Scrypt\",\"X11\",\"X11\",\"SHA3\",\"X11\",\"Scrypt\",\"Lyra2RE\",\"SHA-256\",\"QUAIT\",\"X11\",\"vDPOS\",\"X11\",\"X11\",\"Scrypt\",\"Scrypt\",\"Scrypt\",\"Ethash\",\"X11\",\"X13\",\"Blake2b\",\"SHA-256\",\"X13\",\"X15\",\"X11\",\"SHA-256\",\"BLAKE256\",\"Scrypt\",\"Scrypt\",\"1GB AES Pattern Search\",\"SHA-256\",\"X11\",\"Scrypt\",\"CryptoNight\",\"SHA-256\",\"Quark\",\"SHA-256\",\"NIST5\",\"Blake\",\"Scrypt\",\"Scrypt\",\"SHA-256\",\"X11\",\"Scrypt\",\"Scrypt-n\",\"X11\",\"Scrypt\",\"Dagger\",\"Scrypt\",\"SHA-256\",\"CryptoNight-Lite\",\"X11GOST\",\"X11\",\"SHA-256\",\"Scrypt\",\"SHA-256\",\"Scrypt\",\"PoS\",\"Scrypt\",\"X11\",\"X11\",\"X11\",\"X11\",\"PoS\",\"SHA-256\",\"SHA-256\",\"SHA-256\",\"NIST5\",\"X15\",\"X11\",\"NIST5\",\"Scrypt\",\"Scrypt\",\"Scrypt\",\"POS 3.0\",\"Scrypt\",\"Scrypt\",\"Scrypt\",\"X13\",\"X11\",\"X11\",\"Equihash\",\"X11\",\"X11\",\"Scrypt\",\"CryptoNight\",\"SHA-256\",\"SHA-256\",\"X11\",\"Scrypt\",\"Multiple\",\"Scrypt\",\"Scrypt\",\"X11\",\"Scrypt\",\"SHA-256\",\"Scrypt\",\"Scrypt\",\"SHA-256D\",\"PoS\",\"Scrypt\",\"Scrypt\",\"X11\",\"Scrypt-n\",\"Lyra2Z\",\"SHA-256\",\"PoS\",\"X13\",\"Quark\",\"X14\",\"PoS\",\"SHA-256D\",\"Ethash\",\"SHA-256\",\"Equihash\",\"DPoS\",\"X11\",\"Scrypt\",\"Scrypt\",\"Equihash\",\"X11\",\"X13\",\"X11\",\"PoS\",\"SHA-256D\",\"Scrypt\",\"Scrypt\",\"Scrypt\",\"X11\",\"PoS\",\"X11\",\"SHA-256\",\"Scrypt\",\"X11\",\"Scrypt\",\"Scrypt\",\"X11\",\"CryptoNight\",\"Scrypt\",\"Scrypt\",\"Scrypt\",\"Scrypt\",\"Quark\",\"QuBit\",\"Scrypt\",\"CryptoNight\",\"X11\",\"Lyra2RE\",\"X13\",\"PoS\",\"Scrypt\",\"SHA-256\",\"X11\",\"X11\",\"X11\",\"Scrypt\",\"X11\",\"Scrypt\",\"Scrypt\",\"CryptoNight-V7\",\"Scrypt\",\"Scrypt\",\"Keccak\",\"Scrypt\",\"X13\",\"X11\",\"Equihash\",\"Scrypt\",\"Scrypt\",\"Lyra2RE\",\"Ethash\",\"X11\",\"Scrypt\",\"Dagger-Hashimoto\",\"X11\",\"Blake2S\",\"X11\",\"Scrypt\",\"Scrypt\",\"PoS\",\"X11\",\"NIST5\",\"PoS\",\"X11\",\"Scrypt\",\"Scrypt\",\"Scrypt\",\"Scrypt\",\"SHA-256\",\"X11\",\"Scrypt\",\"Scrypt\",\"Scrypt\",\"SHA-256\",\"PoS\",\"Scrypt\",\"X11\",\"X15\",\"SHA-256\",\"Scrypt\",\"POS 3.0\",\"CryptoNight-V7\",\"536\",\"Argon2d\",\"Blake2b\",\"Cloverhash\",\"CryptoNight\",\"NIST5\",\"X11\",\"NIST5\",\"Skein\",\"Scrypt\",\"X13\",\"Scrypt\",\"X11\",\"X11\",\"X11\",\"Scrypt\",\"CryptoNight\",\"X13\",\"Time Travel\",\"Scrypt\",\"Keccak\",\"SkunkHash v2 Raptor\",\"X11\",\"Skein\",\"SHA-256\",\"X11\",\"Scrypt\",\"Scrypt\",\"VeChainThor Authority\",\"Scrypt\",\"PoS\",\"Scrypt\",\"Scrypt\",\"Scrypt\",\"Scrypt\",\"Scrypt\",\"Scrypt\",\"Scrypt\",\"Scrypt\",\"CryptoNight\",\"SHA-512\",\"Ouroboros\",\"X11\",\"Equihash\",\"NeoScrypt\",\"X11\",\"Scrypt\",\"NeoScrypt\",\"Lyra2REv2\",\"Equihash\",\"Scrypt\",\"SHA-256\",\"NIST5\",\"PHI1612\",\"Dagger\",\"Scrypt\",\"Quark\",\"Scrypt\",\"POS 2.0\",\"Scrypt\",\"SkunkHash\",\"X11\",\"Quark\",\"SHA-256\",\"X11\",\"NeoScrypt\",\"Scrypt\",\"Ethash\",\"Scrypt\",\"NeoScrypt\",\"Quark\",\"X11\",\"DPoS\",\"NIST5\",\"X13\",\"Multiple\",\"Scrypt\",\"CryptoNight\",\"CryptoNight\",\"Ethash\",\"NIST5\",\"Quark\",\"X11\",\"SHA-256\",\"CryptoNight-V7\",\"Scrypt\",\"Scrypt\",\"Scrypt\",\"X11\",\"SHA-256\",\"BLAKE256\",\"X11\",\"Scrypt\",\"NeoScrypt\",\"Quark\",\"NeoScrypt\",\"Scrypt\",\"Scrypt\",\"Scrypt\",\"X11\",\"X11\",\"SHA-256\",\"C11\",\"Scrypt\",\"Scrypt\",\"POS 3.0\",\"Ethash\",\"Scrypt\",\"CryptoNight\",\"SkunkHash\",\"Scrypt\",\"CryptoNight\",\"Equihash\",\"Skein\",\"Scrypt\",\"Dagger\",\"Lyra2REv2\",\"X13\",\"Proof-of-BibleHash\",\"SHA-256 + Hive\",\"Scrypt\",\"Scrypt\",\"Scrypt\",\"NeoScrypt\",\"Equihash\",\"X11\",\"C11\",\"Proof-of-Authority\",\"X11\",\"XEVAN\",\"Scrypt\",\"VBFT\",\"Ethash\",\"X11\",\"CryptoNight\",\"NeoScrypt\",\"Scrypt\",\"IMesh\",\"NIST5\",\"Equihash\",\"Scrypt\",\"Scrypt\",\"Equihash\",\"Equihash\",\"Scrypt\",\"Lyra2Z\",\"Equihash\",\"Green Protocol\",\"PoS\",\"Scrypt\",\"Scrypt\",\"Semux BFT consensus\",\"Scrypt\",\"X11\",\"Quark\",\"PoS\",\"CryptoNight\",\"X16R\",\"Scrypt\",\"NIST5\",\"Lyra2RE\",\"XEVAN\",\"Tribus\",\"Scrypt\",\"Lyra2Z\",\"CryptoNight\",\"CryptoNight Heavy\",\"CryptoNight\",\"Scrypt\",\"Scrypt\",\"Jump Consistent Hash\",\"SHA-256D\",\"CryptoNight\",\"Scrypt\",\"X15\",\"Scrypt\",\"Quark\",\"SHA-256\",\"DPoS\",\"X16R\",\"HMQ1725\",\"X11\",\"X16R\",\"Quark\",\"Quark\",\"Scrypt\",\"Zhash\",\"Lyra2REv2\",\"Quark\",\"Scrypt\",\"Scrypt\",\"CryptoNight-V7\",\"Cryptonight-GPU\",\"Scrypt\",\"XEVAN\",\"CryptoNight Heavy\",\"X11\",\"X11\",\"Scrypt\",\"PoS\",\"Lyra2REv2\",\"Scrypt\",\"SHA-256\",\"Scrypt\",\"Keccak\",\"X11\",\"X11\",\"Quark\",\"Scrypt\",\"SHA-512\",\"X16R\",\"ECC 256K1\",\"NeoScrypt\",\"Equihash\",\"XEVAN\",\"Quark\",\"CryptoNight Heavy X\",\"Lyra2Z\",\"Ethash\",\"SHA-256\",\"XEVAN\",\"Ethash\",\"X11\",\"CryptoNight\",\"Quark\",\"SkunkHash\",\"Quark\",\"Argon2\",\"Blake\",\"Blake\",\"SHA-256\",\"Equihash\",\"Exosis\",\"Scrypt\",\"Scrypt\",\"Equihash\",\"Quark\",\"Equihash\",\"Quark\",\"Scrypt\",\"QuBit\",\"X11\",\"Scrypt\",\"Equihash1927\",\"XEVAN\",\"SHA-256D\",\"X11\",\"SHA-256\",\"SHA-256\",\"X13\",\"SHA-256\",\"X11\",\"DPoS\",\"X11\",\"Scrypt\",\"X11\",\"Scrypt\",\"X11\",\"NeoScrypt\",\"QuBit\",\"Scrypt\",\"Blake\",\"Scrypt\",\"SHA-256\",\"Scrypt\",\"X11\",\"CryptoNight\",\"Scrypt\",\"Scrypt\",\"SHA-256\",\"X11\",\"SHA-256\",\"Scrypt\",\"CryptoNight\",\"Scrypt\",\"SHA-256\",\"Scrypt\",\"Groestl\",\"X11\",\"Scrypt\",\"PoS\",\"Scrypt\",\"Scrypt\",\"X11\",\"SHA-256\",\"DPoS\",\"Scrypt\",\"Scrypt\",\"Scrypt\",\"NeoScrypt\",\"Scrypt\",\"SHA3-256\",\"Multiple\",\"X13\",\"Equihash+Scrypt\",\"DPoS\",\"Ethash\",\"DPoS\",\"Ethash\",\"SHA-256\",\"Leased POS\",\"PoS\",\"TRC10\",\"PoS\",\"SHA-256\",\"Scrypt\",\"CryptoNight\",\"Equihash\",\"Scrypt\"],\"CoinName\":[\"42 Coin\",\"404Coin\",\"nan\",\"EliteCoin\",\"Bitcoin\",\"Ethereum\",\"Litecoin\",\"Dash\",\"Monero\",\"Ethereum Classic\",\"ZCash\",\"Bitshares\",\"DigiByte\",\"BitcoinDark\",\"nan\",\"PayCoin\",\"ProsperCoin\",\"KoboCoin\",\"Spreadcoin\",\"nan\",\"nan\",\"nan\",\"nan\",\"Argentum\",\"Aurora Coin\",\"nan\",\"BlueCoin\",\"MyriadCoin\",\"MoonCoin\",\"ZetaCoin\",\"SexCoin\",\"Quatloo\",\"EnergyCoin\",\"QuarkCoin\",\"Riecoin\",\"Digitalcoin \",\"nan\",\"BitBar\",\"nan\",\"nan\",\"Catcoin\",\"CryptoBullion\",\"CannaCoin\",\"nan\",\"nan\",\"CryptCoin\",\"CasinoCoin\",\"nan\",\"Diamond\",\"Verge\",\"nan\",\"nan\",\"DevCoin\",\"EarthCoin\",\"E-Gulden\",\"nan\",\"Einsteinium\",\"Emerald\",\"Exclusive Coin\",\"nan\",\"nan\",\"nan\",\"nan\",\"FlutterCoin\",\"Franko\",\"FeatherCoin\",\"GrandCoin\",\"GlobalCoin\",\"GoldCoin\",\"nan\",\"nan\",\"HoboNickels\",\"nan\",\"HyperStake\",\"Infinite Coin\",\"IOCoin\",\"IXcoin\",\"nan\",\"nan\",\"KrugerCoin\",\"LuckyCoin\",\"Litebar \",\"nan\",\"nan\",\"MaxCoin\",\"MegaCoin\",\"MediterraneanCoin\",\"MintCoin\",\"MinCoin\",\"MazaCoin\",\"Nautilus Coin\",\"NavCoin\",\"nan\",\"NobleCoin\",\"Namecoin\",\"NyanCoin\",\"OpalCoin\",\"Orbitcoin\",\"PotCoin\",\"PhoenixCoin\",\"Reddcoin\",\"nan\",\"RonPaulCoin\",\"StableCoin\",\"nan\",\"nan\",\"SmartCoin\",\"nan\",\"nan\",\"SuperCoin\",\"SyncCoin\",\"SysCoin\",\"TeslaCoin\",\"TigerCoin\",\"TittieCoin\",\"TorCoin\",\"TerraCoin\",\"nan\",\"UnbreakableCoin\",\"Unobtanium\",\"UroCoin\",\"UnitaryStatus Dollar\",\"UltraCoin\",\"nan\",\"ViaCoin\",\"nan\",\"VeriCoin\",\"Vertcoin\",\"WorldCoin\",\"nan\",\"X11 Coin\",\"Crypti\",\"JouleCoin\",\"StealthCoin\",\"nan\",\"ZCC Coin\",\"ByteCoin\",\"DigitalNote \",\"BurstCoin\",\"StorjCoin\",\"MonaCoin\",\"Neutron\",\"nan\",\"nan\",\"FairCoin\",\"Gulden\",\"RubyCoin\",\"PesetaCoin\",\"Kore\",\"Wild Beast Coin\",\"Dnotes\",\"Flo\",\"nan\",\"8BIT Coin\",\"Sativa Coin\",\"nan\",\"ArtByte\",\"nan\",\"nan\",\"Folding Coin\",\"Ucoin\",\"Unitus\",\"CypherPunkCoin\",\"nan\",\"OmniCron\",\"nan\",\"Vtorrent\",\"GreenCoin\",\"nan\",\"Cryptonite\",\"nan\",\"nan\",\"MasterCoin\",\"SoonCoin\",\"1Credit\",\"nan\",\"IslaCoin\",\"nan\",\"Nexus\",\"MarsCoin \",\"nan\",\"Crypto\",\"Anarchists Prime\",\"Droidz\",\"BowsCoin\",\"nan\",\"Squall Coin\",\"nan\",\"Song Coin\",\"BitZeny\",\"Diggits\",\"Expanse\",\"nan\",\"Paycon\",\"Siacoin\",\"Emercoin\",\"nan\",\"EverGreenCoin\",\"MindCoin\",\"I0coin\",\"Decred\",\"nan\",\"Revolution VR\",\"HOdlcoin\",\"EDRCoin\",\"Hitcoin\",\"Gamecredits\",\"nan\",\"DubaiCoin\",\"nan\",\"CarpeDiemCoin\",\"PWR Coin\",\"nan\",\"BillaryCoin\",\"nan\",\"nan\",\"nan\",\"GPU Coin\",\"nan\",\"Adzcoin\",\"nan\",\"SoilCoin\",\"YoCoin\",\"nan\",\"nan\",\"SibCoin\",\"EuropeCoin\",\"nan\",\"ZeitCoin\",\"SwingCoin\",\"SafeExchangeCoin\",\"Nebuchadnezzar\",\"Francs\",\"BolivarCoin\",\"nan\",\"nan\",\"Ratecoin\",\"nan\",\"Revenu\",\"nan\",\"Clockcoin\",\"VIP Tokens\",\"nan\",\"BitSend\",\"nan\",\"nan\",\"nan\",\"Omni\",\"Let it Ride\",\"PutinCoin\",\"iBankCoin\",\"Frankywillcoin\",\"MudraCoin\",\"PizzaCoin\",\"Lutetium Coin\",\"Komodo\",\"GoldBlocks\",\"nan\",\"CarterCoin\",\"Karbo\",\"BitTokens\",\"ZayedCoin\",\"MustangCoin\",\"ZoneCoin\",\"Circuits of Value\",\"RootCoin\",\"DopeCoin\",\"nan\",\"BitCurrency\",\"DollarCoin\",\"Swiscoin\",\"Shilling\",\"BuzzCoin\",\"Opair\",\"PesoBit\",\"nan\",\"Halloween Coin\",\"nan\",\"ZCoin\",\"nan\",\"CoffeeCoin\",\"RoyalCoin\",\"nan\",\"GanjaCoin V2\",\"TeamUP\",\"LanaCoin\",\"Elementrem\",\"nan\",\"ZClassic\",\"ARK\",\"InsaneCoin\",\"nan\",\"KiloCoin\",\"nan\",\"ArtexCoin\",\"EmberCoin\",\"XenixCoin\",\"FreeCoin\",\"nan\",\"PLNCoin\",\"nan\",\"AquariusCoin\",\"Kurrent\",\"Creatio\",\"Eternity\",\"Eurocoin\",\"BitcoinFast\",\"Stakenet\",\"BitConnect Coin\",\"MoneyCoin\",\"Enigma\",\"Cannabis Industry Coin\",\"Russiacoin\",\"PandaCoin\",\"GameUnits\",\"GAKHcoin\",\"Allsafe\",\"LiteCreed\",\"OsmiumCoin\",\"Bikercoins\",\"nan\",\"HexxCoin\",\"nan\",\"nan\",\"Klingon Empire Darsek\",\"Internet of People\",\"KushCoin\",\"nan\",\"nan\",\"Printerium\",\"PacCoin\",\"Impeach\",\"nan\",\"Citadel\",\"Zilbercoin\",\"FirstCoin\",\"nan\",\"BeaverCoin\",\"FindCoin\",\"VaultCoin\",\"Zero\",\"OpenChat\",\"Canada eCoin\",\"Zoin\",\"nan\",\"nan\",\"RenosCoin\",\"DubaiCoin\",\"VirtacoinPlus\",\"TajCoin\",\"Impact\",\"EB3coin\",\"nan\",\"Atmos\",\"HappyCoin\",\"Coinonat\",\"MacronCoin\",\"Condensate\",\"Independent Money System\",\"ArgusCoin\",\"LomoCoin\",\"nan\",\"ProCurrency\",\"GoldReserve\",\"BenjiRolls\",\"nan\",\"GrowthCoin\",\"ILCoin\",\"Phreak\",\"Degas Coin\",\"nan\",\"HTML5 Coin\",\"Ultimate Secure Cash\",\"EquiTrader\",\"QTUM\",\"Quantum Resistant Ledger\",\"Espers\",\"Dynamic\",\"Nano\",\"ChanCoin\",\"Dinastycoin\",\"Denarius\",\"DigitalPrice\",\"Virta Unique Coin\",\"Bitcoin Planet\",\"Unify\",\"BritCoin\",\"SocialCoin\",\"nan\",\"ArcticCoin\",\"DAS\",\"Linda\",\"LeviarCoin\",\"DeepOnion\",\"Bitcore\",\"gCn Coin\",\"SmartCash\",\"Signatum\",\"Onix\",\"Cream\",\"Bitcoin Cash\",\"Monoeci\",\"nan\",\"Draftcoin\",\"Vechain\",\"Sojourn Coin\",\"Stakecoin\",\"NewYorkCoin\",\"nan\",\"FrazCoin\",\"Kronecoin\",\"AdCoin\",\"Linx\",\"CoinonatX\",\"Ethereum Dark\",\"Sumokoin\",\"Obsidian\",\"Cardano\",\"Regalcoin\",\"BitcoinZ\",\"TrezarCoin\",\"Elements\",\"TerraNovaCoin\",\"VIVO Coin\",\"Rupee\",\"Bitcoin Gold\",\"WomenCoin\",\"Theresa May Coin\",\"NamoCoin\",\"LUXCoin\",\"Pirl\",\"Xios\",\"Bitcloud 2.0\",\"eBoost\",\"KekCoin\",\"BlackholeCoin\",\"nan\",\"nan\",\"nan\",\"Infinity Economics\",\"Pura\",\"Innova\",\"nan\",\"Ellaism\",\"nan\",\"GoByte\",\"nan\",\"Magnet\",\"Lamden Tau\",\"Electra\",\"Bitcoin Diamond\",\"SHIELD\",\"Cash & Back Coin\",\"UltraNote\",\"BitCoal\",\"DaxxCoin\",\"Bulwark\",\"Kalkulus\",\"AC3\",\"nan\",\"Lethean\",\"GermanCoin\",\"LiteCoin Ultra\",\"PopularCoin\",\"PhantomX\",\"nan\",\"Photon\",\"Sucre\",\"nan\",\"SparksPay\",\"Digiwage\",\"GunCoin\",\"IrishCoin\",\"Trollcoin\",\"Litecoin Plus\",\"Monkey Project\",\"Pioneer Coin\",\"UnitedBitcoin\",\"Interzone\",\"nan\",\"nan\",\"TokenPay\",\"1717 Masonic Commemorative Token\",\"My Big Coin\",\"TurtleCoin\",\"MUNcoin\",\"Unified Society USDEX\",\"Niobio Cash\",\"nan\",\"nan\",\"ShareChain\",\"Travelflex\",\"KREDS\",\"Tokyo Coin\",\"BiblePay\",\"LitecoinCash\",\"BitFlip\",\"LottoCoin\",\"nan\",\"nan\",\"nan\",\"Crypto Improvement Fund\",\"Stipend\",\"Poa Network\",\"Pushi\",\"Ellerium\",\"Velox\",\"Ontology\",\"Callisto Network\",\"nan\",\"BitTube\",\"nan\",\"Poseidon\",\"Aidos Kuneen\",\"Bitspace\",\"nan\",\"Briacoin\",\"Ignition\",\"Bitrolium\",\"nan\",\"MedicCoin\",\"Alpenschillling\",\"nan\",\"Bitcoin Green\",\"Deviant Coin\",\"Abjcoin\",\"nan\",\"Semux\",\"nan\",\"FuturoCoin\",\"Carebit\",\"Zealium\",\"Monero Classic\",\"Proton\",\"iDealCash\",\"Jumpcoin\",\"Infinex\",\"Bitcoin Incognito\",\"KEYCO\",\"HollyWoodCoin\",\"GINcoin\",\"PlatinCoin\",\"Loki\",\"Newton Coin\",\"Swisscoin\",\"Xt3ch\",\"MassGrid\",\"TheVig\",\"PluraCoin\",\"EmaratCoin\",\"Dekado\",\"Lynx\",\"Poseidon Quark\",\"BitcoinWSpectrum\",\"Muse\",\"Motion\",\"PlusOneCoin\",\"Axe\",\"Trivechain\",\"Dystem\",\"Giant\",\"Peony Coin\",\"nan\",\"Absolute Coin\",\"Vitae\",\"HexCoin\",\"TPCash\",\"Webchain\",\"Ryo\",\"nan\",\"Urals Coin\",\"Qwertycoin\",\"ARENON\",\"EUNO\",\"MMOCoin\",\"Ketan\",\"nan\",\"nan\",\"Project Pai\",\"nan\",\"XDNA\",\"PAXEX\",\"Azart\",\"nan\",\"ThunderStake\",\"Kcash\",\"Xchange\",\"Acute Angle Cloud\",\"nan\",\"CrypticCoin\",\"Bettex coin\",\"nan\",\"nan\",\"Actinium\",\"nan\",\"Bitcoin SV\",\"BitMoney\",\"nan\",\"Junson Ming Chan Coin\",\"FREDEnergy\",\"nan\",\"nan\",\"HerbCoin\",\"nan\",\"Universal Molecule\",\"Lithium\",\"nan\",\"PirateCash\",\"Exosis\",\"Block-Logic\",\"Oduwa\",\"Beam\",\"Galilel\",\"Bithereum\",\"Crypto Sports\",\"Credit\",\"SLICE\",\"Dash Platinum\",\"Nasdacoin\",\"nan\",\"Beetle Coin\",\"Titan Coin\",\"Award\",\"nan\",\"BLAST\",\"Bitcoin Rhodium\",\"GlobalToken\",\"Insane Coin\",\"ALAX\",\"nan\",\"LiteDoge\",\"nan\",\"SolarCoin\",\"TruckCoin\",\"UFO Coin\",\"nan\",\"OrangeCoin\",\"BlakeCoin\",\"BitstarCoin\",\"NeosCoin\",\"HyperCoin\",\"PinkCoin\",\"nan\",\"Crypto Escudo\",\"AudioCoin\",\"IncaKoin\",\"Piggy Coin\",\"Crown Coin\",\"Genstake\",\"nan\",\"SmileyCoin\",\"nan\",\"XiaoMiCoin\",\"Groestlcoin\",\"CapriCoin\",\" ClubCoin\",\"Radium\",\"Bata\",\"Pakcoin\",\"Creditbit \",\"OKCash\",\"Lisk\",\"HiCoin\",\"WhiteCoin\",\"nan\",\"FriendshipCoin\",\"nan\",\"nan\",\"JoinCoin\",\"Triangles Coin\",\"Vollar\",\"EOS\",\"Reality Clash\",\"Oxycoin\",\"nan\",\"TigerCash\",\"Waves\",\"Particl\",\"BitTorrent\",\"Nxt\",\"ZEPHYR\",\"Gapcoin\",\"Beldex\",\"Horizen\",\"BitcoinPlus\"],\"ProofType\":[\"PoW/PoS\",\"PoW/PoS\",\"PoW/PoS\",\"PoW/PoS\",\"PoW\",\"PoW\",\"PoW\",\"PoW/PoS\",\"PoW\",\"PoW\",\"PoW\",\"PoS\",\"PoW\",\"PoW/PoS\",\"PoW/PoS\",\"PoS\",\"PoW\",\"PoW/PoS\",\"PoW\",\"PoW\",\"PoS\",\"PoW/PoS\",\"PoS\",\"PoW\",\"PoW/PoS\",\"PoW\",\"PoW/PoS\",\"PoW\",\"PoW\",\"PoW\",\"PoW\",\"PoW\",\"PoW/PoS\",\"PoW\",\"PoW\",\"PoW\",\"PoW\",\"PoW/PoS\",\"PoW\",\"PoW/PoS\",\"PoW\",\"PoW/PoS\",\"PoW\",\"PoW/PoS\",\"PoS\",\"PoW\",\"PoC\",\"PoW/PoS\",\"PoW/PoS\",\"PoW\",\"PoW/PoS\",\"PoW\",\"PoW\",\"PoW\",\"PoW\",\"PoW\",\"PoW\",\"PoW\",\"PoS\",\"PoW\",\"PoS\",\"PoW/PoS\",\"PoW\",\"PoS/PoW/PoT\",\"PoW\",\"PoW\",\"PoW\",\"PoW\",\"PoW\",\"PoW/PoS\",\"PoW/PoS\",\"PoW/PoS\",\"PoW\",\"PoS\",\"PoW\",\"PoW/PoS\",\"PoW\",\"PoW/PoS\",\"PoW/PoS\",\"PoW\",\"PoW\",\"PoW\",\"PoW\",\"PoW/PoS\",\"PoW/PoS\",\"PoW\",\"PoW\",\"PoS\",\"PoW\",\"PoW/PoS\",\"PoS\",\"PoW/PoS\",\"PoW\",\"PoW\",\"PoW\",\"PoW\",\"PoW/PoS\",\"PoW/PoS\",\"PoW/PoS\",\"PoW/PoS\",\"PoW/PoS\",\"PoW\",\"PoW\",\"PoW\",\"PoW/PoS\",\"PoW/PoS\",\"PoW\",\"PoW\",\"PoW\",\"PoS\",\"PoW/PoS\",\"PoW\",\"PoS\",\"PoW\",\"PoS\",\"PoW/PoS\",\"PoW\",\"PoW\",\"PoW\",\"PoW\",\"PoW\",\"PoW/PoS\",\"PoW/PoS\",\"PoW/PoS\",\"PoW\",\"PoW\",\"PoST\",\"PoW\",\"PoW\",\"PoW/PoS\",\"PoW/PoS\",\"PoS\",\"PoW\",\"PoW/PoS\",\"PoW/PoS\",\"PoW/PoS\",\"PoW\",\"PoW\",\"PoC\",\"PoS\",\"PoW\",\"PoW/PoS\",\"PoW\",\"PoS\",\"PoW/PoS\",\"PoW\",\"PoS\",\"PoW\",\"PoW/PoS\",\"PoW\",\"PoS\",\"PoW\",\"PoS\",\"PoW/PoS\",\"PoW/PoS\",\"PoW/PoS\",\"PoW\",\"PoW/PoS\",\"PoW\",\"PoW\",\"PoS\",\"PoW\",\"PoW\",\"PoW/PoS\",\"PoW\",\"PoW/PoS\",\"PoW/PoS\",\"PoW\",\"PoW\",\"PoW\",\"PoW\",\"PoW\",\"PoW\",\"PoW\",\"PoW\",\"PoW/PoS\",\"PoW/PoS\",\"PoW\",\"PoW/nPoS\",\"PoW\",\"PoW/PoS\",\"PoW\",\"PoW\",\"PoW/PoS\",\"PoW\",\"PoS\",\"PoS/PoW\",\"PoW/PoS\",\"PoW\",\"PoW\",\"PoS\",\"PoW\",\"PoS\",\"PoW/PoS\",\"PoW\",\"PoW/PoS\",\"PoS\",\"PoW/PoS\",\"PoW\",\"PoW\",\"PoW/PoS\",\"PoW\",\"PoW\",\"PoW\",\"PoW/PoS\",\"PoW/PoS\",\"PoW\",\"PoW\",\"PoW/PoS\",\"PoW/PoS\",\"PoW\",\"PoW/PoS\",\"PoS\",\"PoW/PoS\",\"PoW/PoS\",\"PoW\",\"PoW\",\"PoS\",\"PoW\",\"PoW\",\"PoW\",\"PoW\",\"PoW\",\"PoW/PoS\",\"PoW\",\"PoW\",\"PoW/PoS\",\"PoW\",\"PoS\",\"PoW/PoS\",\"PoC\",\"PoS\",\"PoW\",\"PoW\",\"PoW/PoS\",\"PoW/PoS\",\"PoW/PoS\",\"PoS\",\"PoW/PoS\",\"PoW\",\"PoW/PoS\",\"PoW/PoS\",\"PoW/PoS\",\"PoW/PoS\",\"PoW/PoS\",\"PoW/PoS\",\"PoW/PoS\",\"PoW\",\"PoS\",\"PoW/PoS\",\"PoW/PoS\",\"PoW/PoS\",\"PoS\",\"PoW\",\"PoS\",\"dPoW/PoW\",\"PoW/PoS\",\"PoS\",\"PoW/PoS\",\"PoW\",\"PoW/PoS\",\"PoW\",\"PoW/PoS\",\"PoW/PoS\",\"PoW\",\"PoW/PoS\",\"PoW\",\"PoW/PoS\",\"PoS\",\"PoW\",\"PoW/PoW\",\"PoW\",\"PoW/PoS\",\"PoS\",\"PoW/PoS\",\"PoW\",\"PoW/PoS\",\"PoW\",\"PoW\",\"PoW\",\"PoS\",\"PoS\",\"PoW\",\"PoW/PoS\",\"PoS\",\"PoW/PoS\",\"PoW\",\"PoW\",\"PoW\",\"DPoS\",\"PoW/PoS\",\"PoW/PoS\",\"PoW\",\"PoW\",\"PoW\",\"PoW/PoS\",\"PoW/PoS\",\"PoS\",\"PoW/PoS\",\"PoW/PoS\",\"PoW/PoS\",\"PoW/PoS\",\"PoW\",\"PoS\",\"PoW/PoS\",\"PoW/PoS\",\"PoW/PoS\",\"TPoS\",\"PoW/PoS\",\"PoW/PoS\",\"PoW/PoS\",\"PoW\",\"PoW/PoS\",\"PoS\",\"PoW/PoS\",\"PoW/PoS\",\"PoS\",\"PoW/PoS\",\"PoW\",\"PoW\",\"PoW/PoS\",\"PoW\",\"PoW/PoS\",\"PoS\",\"PoW/PoS\",\"PoW/PoS\",\"PoW/PoS\",\"PoW/PoS\",\"PoW\",\"PoW/PoS\",\"PoW\",\"PoW/PoS\",\"PoW\",\"PoW\",\"PoS\",\"PoW/PoS \",\"PoW\",\"PoW\",\"PoS\",\"PoW\",\"PoW\",\"PoW/PoS\",\"PoW\",\"PoW\",\"PoW\",\"PoW\",\"PoS\",\"PoW\",\"PoW/PoS\",\"PoW/PoS\",\"PoW/PoS\",\"PoW\",\"PoS\",\"PoS\",\"PoW/PoS\",\"PoW\",\"PoS\",\"PoW/PoS\",\"PoW/PoS\",\"PoW/PoS\",\"PoW/PoS\",\"PoW\",\"PoS\",\"PoW/PoS\",\"PoW\",\"PoW\",\"PoS\",\"PoW\",\"PoS\",\"PoW/PoS\",\"PoW/PoS\",\"PoW/PoS\",\"PoS\",\"PoW\",\"PoS\",\"PoW\",\"PoW/PoS\",\"PoW\",\"PoW\",\"PoW\",\"PoW\",\"PoW/PoS\",\"PoW\",\"PoW/PoS\",\"PoW/PoS\",\"PoW\",\"PoW/PoS\",\"PoW\",\"PoW/PoS\",\"PoW\",\"PoW\",\"PoW/PoS\",\"PoW\",\"PoW/PoS\",\"PoW\",\"PoW\",\"PoW\",\"PoS\",\"PoW\",\"PoW/PoS\",\"PoW\",\"PoW/PoS\",\"PoW\",\"PoS\",\"Proof of Authority\",\"PoW\",\"PoS\",\"PoW\",\"PoW\",\"PoW\",\"PoW\",\"PoW\",\"PoW\",\"PoW/PoS\",\"PoW/PoS\",\"PoW\",\"PoS\",\"PoS\",\"PoW/PoS\",\"PoW\",\"PoW/PoS\",\"PoW\",\"PoW/PoS\",\"PoW\",\"PoS\",\"PoW\",\"PoW/PoS\",\"PoW/PoS\",\"PoW/PoS\",\"PoW/PoS\",\"PoW\",\"PoW/PoS\",\"PoW/PoS\",\"PoW\",\"PoS\",\"PoW/PoS\",\"PoW/PoS\",\"PoW/PoS\",\"PoS\",\"PoS\",\"PoW\",\"PoW\",\"PoW\",\"PoW\",\"PoW\",\"PoW\",\"DPoS\",\"PoW/PoS\",\"DPoS\",\"PoW/PoS\",\"PoW/PoS\",\"PoW\",\"PoW/PoS\",\"PoW\",\"PoW\",\"PoW\",\"PoS\",\"PoS\",\"PoW\",\"PoW\",\"PoW\",\"PoW/PoS\",\"PoW/PoS\",\"PoW\",\"PoW/PoS\",\"PoW/PoS\",\"PoW\",\"PoW\",\"PoW/PoS\",\"PoW\",\"PoS\",\"PoW\",\"PoW\",\"PoW/PoS\",\"PoW/PoS\",\"PoS\",\"PoW\",\"PoW\",\"PoW\",\"PoW/PoS\",\"PoW/PoS\",\"PoS\",\"PoS\",\"PoW and PoS\",\"PoW\",\"PoW\",\"PoW/PoS\",\"PoW\",\"PoW\",\"PoW\",\"PoW\",\"PoW\",\"PoW\",\"PoS\",\"POBh\",\"PoW + Hive\",\"PoW\",\"PoW\",\"PoW\",\"PoW\",\"PoW\",\"PoW\",\"PoW/PoS\",\"PoA\",\"PoW/PoS\",\"PoW/PoS\",\"PoS\",\"PoS\",\"PoW\",\"PoW\",\"PoW\",\"PoW\",\"PoW\",\"PoW\",\"PoW/PoS\",\"PoW\",\"PoW/PoS\",\"PoW/PoS\",\"PoW\",\"PoW\",\"PoS\",\"PoW\",\"PoW/PoS\",\"PoS\",\"PoS\",\"PoW/PoS\",\"PoW/PoS\",\"DPoS\",\"PoW/PoS\",\"PoW\",\"PoW/PoS\",\"PoS\",\"PoW\",\"PoS\",\"PoW/PoS\",\"PoW\",\"PoW\",\"PoS/PoW\",\"PoW\",\"PoS\",\"PoW\",\"PoW\",\"PoW\",\"PoW\",\"PoW/PoS\",\"PoS\",\"PoW\",\"PoW/PoS\",\"PoW\",\"PoW/PoS\",\"PoS\",\"HPoW\",\"PoS\",\"PoS\",\"PoS\",\"PoW\",\"PoW\",\"PoW\",\"PoW/PoS\",\"PoS\",\"PoW/PoS\",\"PoS\",\"PoW/PoS\",\"PoW/PoS\",\"PoS\",\"PoW\",\"PoW/PoS\",\"PoW\",\"PoW\",\"PoW/PoS\",\"PoW\",\"PoW\",\"PoS\",\"PoW/PoS\",\"PoS\",\"PoS\",\"PoW\",\"PoS\",\"PoW\",\"PoS\",\"PoW/PoS\",\"PoS\",\"PoW\",\"PoW/PoS\",\"PoW/PoS\",\"Zero-Knowledge Proof\",\"PoW\",\"DPOS\",\"PoW/PoS\",\"PoW\",\"PoS\",\"PoW\",\"PoW\",\"PoW\",\"PoW\",\"PoW\",\"Pos\",\"PoW\",\"PoS\",\"PoW\",\"POS / MN\",\"PoW\",\"PoW/PoS\",\"PoW\",\"PoW\",\"PoW\",\"PoW\",\"PoS\",\"PoW\",\"PoW\",\"PoW/PoS\",\"PoW\",\"PoW/PoS\",\"PoW\",\"PoS\",\"PoW/PoS\",\"PoW\",\"PoS\",\"PoW/PoS\",\"PoW\",\"PoW/PoS\",\"PoW/PoS\",\"PoW/PoS\",\"PoW\",\"PoW\",\"PoW\",\"PoW\",\"PoW/PoS\",\"DPoS\",\"PoS\",\"PoW/PoS\",\"PoW\",\"PoW\",\"PoW/PoS\",\"PoW\",\"PoW/PoS\",\"PoW/PoS\",\"PoW\",\"PoW/PoS\",\"PoS\",\"PoW/PoS\",\"PoW/PoS\",\"PoW\",\"PoW\",\"PoW/PoS\",\"PoW/PoS\",\"PoW/PoS\",\"PoW\",\"PoW/PoS\",\"PoW\",\"PoW\",\"PoW/PoS\",\"PoW/PoS\",\"PoW\",\"PoW/PoS\",\"PoW/PoS\",\"PoS\",\"PoW\",\"PoW\",\"Proof of Trust\",\"PoW/PoS\",\"DPoS\",\"PoS\",\"PoW/PoS\",\"PoW\",\"PoW/PoS\",\"PoW/PoS\",\"DPoC\",\"PoW\",\"PoW/PoS\",\"PoW\",\"DPoS\",\"PoW\",\"DPoS\",\"PoW\",\"PoS\",\"LPoS\",\"PoS\",\"DPoS\",\"PoS/LPoS\",\"DPoS\",\"PoW/PoS\",\"PoW\",\"PoW\",\"PoS\"],\"TotalCoinSupply\":[\"42\",\"532000000\",\"0\",\"314159265359\",\"21000000\",\"0\",\"84000000\",\"22000000\",\"0\",\"210000000\",\"21000000\",\"3600570502\",\"21000000000\",\"22000000\",\"1300000\",\"12500000\",\"21000000\",\"350000000\",\"20000000\",\"1600000\",\"7000000\",\"6000000\",\"16403135\",\"64000000\",\"16768584\",\"32000000\",\"0\",\"2000000000\",\"384000000000\",\"169795588\",\"250000000\",\"100000000\",\"0\",\"247000000\",\"84000000\",\"48166000\",\"21000000 \",\"500000\",\"27580000\",\"47433600\",\"21000000 \",\"1000000\",\"13140000\",\"114000000\",\"100000000\",\"18000000\",\"40000000000\",\"0\",\"4380000\",\"16555000000\",\"3720000\",\"2043962\",\"21000000000\",\"13500000000\",\"21000000 \",\"75000000\",\"299792458\",\"32000000\",\"0\",\"100000000000\",\"100000000\",\"624000\",\"2602410\",\"0\",\"11235813\",\"336000000\",\"1420609614\",\"70000000\",\"72245700\",\"7000000\",\"0\",\"120000000\",\"42000000\",\"0\",\"90600000000\",\"22000000\",\"21000000\",\"3293010\",\"21600000\",\"265420800\",\"20000000\",\"1350000\",\"82003200\",\"1000000\",\"100000000\",\"42000000\",\"200000000\",\"0\",\"10000000\",\"2419200000\",\"16180000\",\"0\",\"50000000\",\"15000000000\",\"21000000\",\"337000000\",\"0\",\"3770000\",\"420000000\",\"98000000\",\"0\",\"12000000\",\"21000000\",\"250000000\",\"1000000\",\"1000000\",\"51200000\",\"50000000\",\"21000000\",\"0\",\"1000\",\"888000000\",\"100000000\",\"47011968\",\"2300000000\",\"10000000\",\"42000000\",\"2625000\",\"80000000\",\"250000\",\"0\",\"1600000000\",\"100000000\",\"0\",\"23000000\",\"0\",\"0\",\"84000000\",\"265420800\",\"2000000\",\"5500000\",\"0\",\"45000000\",\"0\",\"50000000\",\"1000000000\",\"184467440735\",\"10000000000\",\"2158812800\",\"500000000\",\"105120000\",\"68000000\",\"1000000\",\"17000000\",\"0\",\"1680000000\",\"0\",\"166386000\",\"12000000\",\"2628000\",\"500000000\",\"160000000\",\"2014\",\"0\",\"10000000\",\"12000000\",\"1000000000\",\"10110000\",\"210000000\",\"1000000000\",\"20000000\",\"0\",\"0\",\"0\",\"3371337\",\"0\",\"20000000\",\"10000000000\",\"0\",\"1840000000\",\"84000000\",\"33000000\",\"619478\",\"21000000\",\"92000000000\",\"0\",\"0\",\"33000000\",\"78000000\",\"33000000\",\"0\",\"65789100\",\"53760000\",\"5060000\",\"21000000\",\"0\",\"0\",\"0\",\"210240000\",\"250000000\",\"100000000\",\"16906397\",\"2228921.184\",\"50000000\",\"0\",\"1000000000\",\"3852156\",\"26298000\",\"16000000\",\"21000000\",\"21000000\",\"16500000000\",\"210000000\",\"81962100\",\"22000000\",\"26550000000\",\"84000000\",\"18446744\",\"10500000\",\"20190463.54969237\",\"21626280000 \",\"0\",\"12000000\",\"42000000\",\"4200000\",\"15000000\",\"2250000000\",\"221052632\",\"5000000000\",\"84000000\",\"21000000000\",\"30000000\",\"168351300\",\"210000000\",\"18400000\",\"24000000\",\"384000000\",\"42000000\",\" 99000000000\",\"40000000\",\"2147483647\",\"20000000\",\"20000000\",\"25000000\",\"100000\",\"21000000\",\"75000000\",\"15000000\",\"222725000\",\"2421227\",\"525000000\",\"90000000\",\"36000000\",\"139000000\",\"16000000\",\"74666667\",\"350000000\",\"616448\",\"33500000\",\"2000000000\",\"44333333\",\"100000000\",\"200000000\",\"25000000\",\"657000000\",\"200000000\",\"50000000\",\"100000000\",\"90000000\",\"10000000\",\"21000000\",\"9736000\",\"3000000\",\"21000000\",\"1200000000\",\"0\",\"200000000\",\"10000000000\",\"0\",\"10638298\",\"3100000000\",\"30000000\",\"20000000000\",\"74000000\",\"0\",\"87500000\",\"1500000000\",\"10000000\",\"21400000\",\"2000000000\",\"39999898\",\"2500124\",\"126000000\",\"100000000\",\"301000000\",\"7506000000\",\"26205539\",\"100000000\",\"21000000\",\"125000000\",\"30000000\",\"1000000000\",\"10000000000\",\"21000000\",\"500000000\",\"850000000\",\"3853326.77707314\",\"50000000\",\"7000000000\",\"38540000 \",\"200000000 \",\"42000000\",\"228000000\",\"20000000\",\"60000000\",\"20000000\",\"33000000\",\"76500000\",\"28000000\",\"650659833\",\"5000000\",\"21000000\",\"144000000\",\"32514916898\",\"13000000\",\"3315789\",\"15000000\",\"78835200\",\"2714286\",\"25000000\",\"250000000\",\"9999999\",\"450000000\",\"100000000\",\"500000000\",\"21000000\",\"9354000\",\"100000000\",\"100640000\",\"20000000\",\"100000000000\",\"21933333\",\"20000000\",\"185000000\",\"55000000\",\"110000000\",\"115000000\",\"3360000\",\"14524851.4827\",\"1000000000\",\"17000000\",\"1000000000\",\"100000000 \",\"21000000\",\"454898394\",\"210000000\",\"34426423\",\"2232901\",\"100000000\",\"36900000\",\"110000000\",\"4000000000\",\"112000000\",\"110290030\",\"100000000\",\"48252000\",\"400000000\",\"500000000\",\"21212121\",\"28600000\",\"1000000000\",\"21000000\",\"75000000000\",\"40000000\",\"35520400\",\"1000000\",\"2000000000\",\"2500000000\",\"30000000\",\"105000000\",\"2093500000\",\"90000000000\",\"200084200\",\"72000000\",\"100000000\",\"105000000\",\"50000000000\",\"0\",\"340282367\",\"30000000\",\"2000000000\",\"10000000\",\"100000000\",\"120000000\",\"100000000\",\"19276800\",\"30000000\",\" 75000000\",\"7905634\",\"60000000\",\"18900000\",\"50000000000\",\"54000000\",\"18898187.6216583\",\"21000000\",\"200000000000\",\"5000000000\",\"137500000\",\"1100000000\",\"100000000\",\"21000000\",\"9507271\",\"1010000000\",\"17405891.19707116\",\"86712634466\",\"10500000000\",\"61599965\",\"0\",\"1000000000\",\"20000000\",\"84000000\",\"100000000\",\"100000000\",\"48252000\",\"4200000\",\"88888888\",\"91388946\",\"45000000000\",\"27000000\",\"21000000000\",\"400000000\",\"1800000000\",\"15733333\",\"27000000\",\"24000000\",\"21000000\",\"25000000000\",\"100000000\",\"1200000000\",\"60000000\",\"156306732.71\",\"21000000\",\"200000000\",\"100000000\",\"21000000\",\"14788275.991\",\"5000000\",\"3686860\",\"75000000\",\"9000000000\",\"350000000\",\"45000000\",\"300000000\",\"280000000\",\"105100000\",\"31800000\",\"50000000 \",\"144000000\",\"500000000\",\"30000000000\",\"210000000\",\"660000000\",\"210000000\",\"85000000000\",\"12500000\",\"10000000000\",\"27716121\",\"20000000\",\"550000000\",\"21000000\",\"999481516\",\"50000000000\",\"150000000\",\"4999999999\",\"50000000\",\"90000000000\",\" 90000000000\",\"19800000\",\"4600000\",\"21000000\",\"120000000\",\"500000000\",\"64000000\",\"900000000\",\"4000000\",\"21000000\",\"23000000\",\"20166000\",\"23000000\",\"2000000000\",\"92233720000000000\",\"25000000\",\"1618033\",\"30000000\",\"1000000000000\",\"16600000\",\"232000000\",\"336000000\",\"21000000\",\"17000000\",\"10000000000\",\"100000000\",\"1100000000\",\"800000000\",\"5200000000\",\"840000000\",\"40000000\",\"18406979840\",\"21000000000\",\"31500000\",\"21000000\",\"500000000\",\"19340594\",\"252460800\",\"25000000\",\"60000000\",\"124000000\",\"1000000000\",\"6500000000\",\"22000000\",\"1000000000\",\"100000000\",\"21000000\",\"25000000\",\"50000000\",\"84096000\",\"3000000\",\"5000000\",\"70000000\",\"22300000\",\"500000000\",\"300000000\",\"210000000\",\"21000000\",\"88000000\",\"30000000\",\"100000000\",\"100000000\",\"500000000\",\"100000000\",\"200000000\",\"80000000\",\"18400000\",\"45000000\",\"5121951220\",\"21000000\",\"26280000\",\"21000000\",\"18000000\",\"26000000\",\"10500000\",\"600000518\",\"150000000\",\"184000000000\",\"10200000000\",\"44000000\",\"168000000\",\"100000000\",\"1000000000\",\"84000000\",\"90000000\",\"92000000000\",\"650000000 \",\"100262205\",\"18081806 \",\"22075700\",\"21000000\",\"21000000\",\"82546564\",\"21000000\",\"5151000\",\"16880000000\",\"36000000\",\"52500000\",\"100000000\",\"22105263\",\"1000000000\",\"1750000000\",\"88188888\",\"100000000\",\"210000000\",\"184470000000\",\"55000000\",\"50000000\",\"260000000\",\"210000000\",\"175000000\",\"840000000\",\"2100000000\",\"70000000\",\"366000000\",\"100000000\",\"25000000\",\"250000000\",\"18000000000\",\"1000000000\",\"100000000\",\"1000000000\",\"252000000\",\"7600000000\",\"50000000\",\"29300000\",\"100000000000\",\"84000000\",\"13666237\",\"21000000\",\"70000000000\",\"100000000\",\"0\",\"8080000000\",\"46000000\",\"6100000\",\"54000000\",\"42000000\",\"105120001.44\",\"25228800\",\"20999764\",\"105000000\",\"21000000\",\"120000000\",\"21000000\",\"262800000\",\"19035999\",\"30886000\",\"13370000\",\"74800000000\",\"100000000\",\"19700000\",\"84000000\",\"100000000\",\"500000000\",\"5000000000\",\"420000000\",\"105000000\",\"64000000\",\"2100000\",\"168000000\",\"30000000\",\"1000000000\",\"25000000\",\"35000000000\",\"18450000\",\"98100000000\",\"0\",\"4000000000\",\"0\",\"200000000\",\"7000000000\",\"54256119\",\"21000000\",\"0\",\"500000000\",\"18400000\",\"1000000000\",\"10500000000\",\"190000000\",\"1000000000\",\"42000000\",\"15000000\",\"18446744\",\"50000000000\",\"25000000\",\"400000000\",\"105000000\",\"208000000\",\"160000000\",\"9000000\",\"5000000\",\"182000000\",\"16504333\",\"105000000\",\"159918400\",\"10008835635\",\"300000000\",\"890000000\",\"60168145\",\"300000000\",\"5000000000\",\"2800000\",\"120000\",\"2100000000\",\"0\",\"24487944\",\"0\",\"1000000000\",\"1000000000\",\"100000000\",\"8634140\",\"990000000000\",\"1000000000\",\"2000000000\",\"250000000\",\"1400222610\",\"21000000\",\"1000000\"],\"TotalCoinsMined\":{\"__ndarray__\":\"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\",\"dtype\":\"float64\",\"shape\":[685]},\"class\":{\"__ndarray__\":\"AAAAAAAAAAAAAAAAAAAAAAAAAAAAAAAAAAAAAAAAAAAAAAAAAAAAAAAAAAAAAAAAAAAAAAAAAAAAAAAAAAAAAAAAAAAAAAAAAAAAAAAAAAAAAAAAAAAAAAAAAAAAAAAAAAAAAAAAAAAAAAAAAAAAAAAAAAAAAAAAAAAAAAAAAAAAAAAAAAAAAAAAAAAAAAAAAAAAAAAAAAAAAAAAAAAAAAAAAAAAAAAAAAAAAAAAAAAAAAAAAAAAAAAAAAAAAAAAAAAAAAAAAAAAAAAAAAAAAAAAAAAAAAAAAAAAAAAAAAAAAAAAAAAAAAAAAAAAAAAAAAAAAAAAAAAAAAAAAAAAAAAAAAAAAAAAAAAAAAAAAAAAAAAAAAAAAAAAAAAAAAAAAAAAAAAAAAAAAAAAAAAAAAAAAAAAAAAAAAAAAAAAAAAAAAAAAAAAAAAAAAAAAAAAAAAAAAAAAAAAAAAAAAAAAAAAAAAAAAAAAAAAAAAAAAAAAAAAAAAAAAAAAAAAAAAAAAAAAAAAAAAAAAAAAAAAAAAAAAAAAAAAAAAAAAAAAAAAAAAAAAAAAAAAAAAAAAAAAAAAAAAAAAAAAAAAAAAAAAAAAAAAAAAAAAAAAAAAAAAAAAAAAAAAAAAAAAAAAAAAAAAAAAAAAAAAAAAAAAAAAAAAAAAAAAAAAAAAAAAAAAAAAAAAAAAAAAAAAAAAAAAAAAAAAAAAAAAAAAAAAAAAAAAAAAAAAAAAAAAAAAAAAAAAAAAAAAAAAAAAAAAAAAAAAAAAAAAAAAAAAAAAAAAAAAAAAAAAAAAAAAAAAAAAAAAAAAAAAAAAAAAAAAAAAAAAAAAAAAAAAAAAAAAAAAAAAAAAAAAAAAAAAAAAAAAAAAAAAAAAAAAAAAAAAAAAAAAAAAAAAAAAAAAAAAAAAAAAAAAAAAAAAAAAAAAAAAAAAAAAAAAAAAAAAAAAAAAAAAAAAAAAAAAAAAAAAAAAAAAAAAAAAAAAAAAAAAAAAAAAAAAAAAAAAAAAAAAAAAAAAAAAAAAAAAAAAAAAAAAAAAAAAAAAAAAAAAAAAAAAAAAAAAAAAAAAAAAAAAAAAAAAAAAAAAAAAAAAAAAAAAAAAAAAAAAAAAAAAAAAAAAAAAAAAAAAAAAAAAAAAAAAAAAAAAAAAAAAAAAAAAAAAAAAAAAAAAAAAAAAAAAAAAAAAAAAAAAAAAAAAAAAAAAAAAAAAAAAAAAAAAAAAAAAAAAAAAAAAAAAAAAAAAAAAAAAAAAAAAAAAAAAAAAAAAAAAAAAAAAAAAAAAAAAAAAAAAAAAAAAAAAAAAAAAAAAAAAAAAAAAAAAAAAAAAAAAAAAAAAAAAAAAAAAAAAAAAAAAAAAAAAAAAAAAAAAAAAAAAAAAAAAAAAAAAAAAAAAAAAAAAAAAAAAAAAAAAAAAAAAAAAAAAAAAAAAAAAAAAAAAAAAAAAAAAAAAAAAAAAAAAAAAAAAAAAAAAAAAAAAAAAAAAAAAAAAAAAAAAAAAAAAAAAAAAAAAAAAAAAAAAAAAAAAAAAAAAAAAAAAAAAAAAAAAAAAAAAAAAAAAAAAAAAAAAAAAAAAAAAAAAAAAAAAAAAAAAAAAAAAAAAAAAAAAAAAAAAAAAAAAAAAAAAAAAAAAAAAAAAAAAAAAAAAAAAAAAAAAAAAAAAAAAAAAAAAAAAAAAAAAAAAAAAAAAAAAAAAAAAAAAAAAAAAAAAAAAAAAAAAAAAAAAAAAAAAAAAAAAAAAAAAAAAAAAAAAAAAAAAAAAAAAAAAAAAAAAAAAAAAAAAAAAAAAAAAAAAAAAAAAAAAAAAAAAAAAAAAAAAAAAAAAAAAAAAAAAAAAAAAAAAAAAAAAAAAAAAAAAAAAAAAAAAAAAAAAAAAAAAAAAAAAAAAAAAAAAAAAAAAAAAAAAAAAAAAAAAAAAAAAAAAAAAAAAAAAAAAAAAAAAAAAAAAAAAAAAAAAAAAAAAAAAAAAAAAAAAAAAAAAAAAAAAAAAAAAAAAAAAAAAAAAAAAAAAAAAAAAAAAAAAAAAAAAAAAAAAAAAAAAAAAAAAAAAAAAAAAAAAAAAAAAAAAAAAAAAAAAAAAAAAAAAAAAAAAAAAAAAAAAAAAAAAAAAAAAAAAAAAAAAAAAAAAAAAAAAAAAAAAAAAAAAAAAAAAAAAAAAAAAAAAAAAAAAAAAAAAAAAAAAAAAAAAAAAAAAAAAAAAAAAAAAAAAAAAAAAAAAAAAAAAAAAAAAAAAAAAAAAAAAAAAAAAAAAAAAAAAAAAAAAAAAAAAAAAAAAAAAAAAAAAAAAAAAAAAAAAAAAAAAAAAAAAAAAAAAAAAAAAAAAAAAAAAAAAAAAAAAAAAAAAAAAAAAAAAAAAAAAAAAAAAAAAAAAAAAAAAAAAAAAAAAAAAAAAAAAAAAAAAAAAAAAAAAAAAAAAAAAAAAAAAAAAAAAAAAAAAAAAAAAAAAAAAAAAAAAAAAAAAAAAAAAAAAAAAAAAAAAAAAAAAAAAAAAAAAAAAAAAAAAAAAAAAAAAAAAAAAAAAAAAAAAAAAAAAAAAAAAAAAAAAAAAAAAAAAAAAAAAAQAAAAAAAAAAAAAAAAAAAAIAAAAAAAAAAAAAAAAAAAAAAAAAAAAAAAAAAAAAAAAAAAAAAAAAAAAAAAAAAAAAAAAAAAAAAAAAAAAAAAAAAAAAAAAAAAAAAAAAAAAAAAAAAAAAAAAAAAAAAAAAAAAAAAAAAAAAAAAAAAAAAAAAAAAAAAAAAAAAAAAAAAAAAAAAAAAAAAAAAAAAAAAAAAAAAAAAAAAAAAAAAAAAAAAAAAAAAAAAAAAAAAAAAAAAAAAAAAAAAAAAAAAAAAAAAAAAAAAAAAAAAAAAAAAAAAAAAAAAAAAAAAAAAAAAAAAAAAAAAAAAAAAAAAAAAAAAAAAAAAAAAAAAAAAAAAAAAAAAAAAAAAAAAAAAAAAAAAAAAAAAAAAAAAAAAAAAAAAAAAAAAAAAAAAAAAAAAAAAAAAAAAAAAAAAAAAAAAAAAAAAAAAAAAAAAAAAAAAAAAAAAAAAAAAAAAAAAAAAAAAAAAAAAAAAAAAAAAAAAAAAAAAAAAAAAAAAAAAAAAAAAAAAAAAAAAAAAAAAAAAAAAAAAAAAAAAAAAAAAAAAAAAAAAAAAAAAAAAAAAAAAAAAAAAAAAAAAAAAAAAAAAAAAAAAAAAAAAAAAAAAAAAAAAAAAAAAAAAAAAAAAAAAAAAAAAAAAAAAAAAAAAAAAAAAAAAAAAAAAAAAAAAAAAAAAAAAAAAAAAAAAAAAAAAAAAAAAAAAAAAAAAAAAAAAAAAAAAAAAAAAAAAAAAAAAAAAAAAAAAAAAAAAAAAAAAAAAAAAAAAAAAAAAAAAAAAAAAAAAAAAAAAAAAAAAAAAAAAAAAAAAAAAAAAAAAAAAAAAAAAAAAAAAAAAAAAAAAAAAAAAAAAAAAAAAAAAAAAAAAAAAAAAAAAAAAAAAAAAAAAAAAAAAAAAAAAAAAAAAAAAAAAAAAAAAAAAAAAAAAAAAAAAAAAAAAAAAAAAAAAAAAAAAAAAAAAAAAAAAAAAAAAAAAAAAAAAAAAAAAAAAAAAAAAAAAAAAAAAAAAAAAAAAAAAAAAAAAAAAAAAAAAAAAAAAAAAAwAAAAAAAAAAAAAAAAAAAAAAAAAAAAAAAAAAAA==\",\"dtype\":\"int32\",\"shape\":[685]}},\"selected\":{\"id\":\"1556\"},\"selection_policy\":{\"id\":\"1589\"}},\"id\":\"1555\",\"type\":\"ColumnDataSource\"},{\"attributes\":{\"editor\":{\"id\":\"1558\"},\"field\":\"CoinName\",\"formatter\":{\"id\":\"1557\"},\"title\":\"CoinName\"},\"id\":\"1559\",\"type\":\"TableColumn\"},{\"attributes\":{},\"id\":\"1572\",\"type\":\"StringFormatter\"},{\"attributes\":{},\"id\":\"1558\",\"type\":\"StringEditor\"},{\"attributes\":{},\"id\":\"1582\",\"type\":\"NumberFormatter\"},{\"attributes\":{\"editor\":{\"id\":\"1563\"},\"field\":\"Algorithm\",\"formatter\":{\"id\":\"1562\"},\"title\":\"Algorithm\"},\"id\":\"1564\",\"type\":\"TableColumn\"},{\"attributes\":{},\"id\":\"1556\",\"type\":\"Selection\"},{\"attributes\":{},\"id\":\"1573\",\"type\":\"StringEditor\"},{\"attributes\":{},\"id\":\"1583\",\"type\":\"IntEditor\"},{\"attributes\":{\"editor\":{\"id\":\"1573\"},\"field\":\"TotalCoinSupply\",\"formatter\":{\"id\":\"1572\"},\"title\":\"TotalCoinSupply\"},\"id\":\"1574\",\"type\":\"TableColumn\"},{\"attributes\":{\"margin\":[5,5,5,5],\"name\":\"HSpacer02740\",\"sizing_mode\":\"stretch_width\"},\"id\":\"1554\",\"type\":\"Spacer\"},{\"attributes\":{\"margin\":[5,5,5,5],\"name\":\"HSpacer02741\",\"sizing_mode\":\"stretch_width\"},\"id\":\"1591\",\"type\":\"Spacer\"},{\"attributes\":{\"source\":{\"id\":\"1555\"}},\"id\":\"1588\",\"type\":\"CDSView\"},{\"attributes\":{},\"id\":\"1557\",\"type\":\"StringFormatter\"},{\"attributes\":{\"format\":\"0,0.0[00000]\"},\"id\":\"1577\",\"type\":\"NumberFormatter\"},{\"attributes\":{\"columns\":[{\"id\":\"1559\"},{\"id\":\"1564\"},{\"id\":\"1569\"},{\"id\":\"1574\"},{\"id\":\"1579\"},{\"id\":\"1584\"}],\"height\":300,\"reorderable\":false,\"source\":{\"id\":\"1555\"},\"view\":{\"id\":\"1588\"},\"width\":700},\"id\":\"1587\",\"type\":\"DataTable\"},{\"attributes\":{\"children\":[{\"id\":\"1554\"},{\"id\":\"1587\"},{\"id\":\"1591\"}],\"margin\":[0,0,0,0],\"name\":\"Row02736\",\"tags\":[\"embedded\"]},\"id\":\"1553\",\"type\":\"Row\"},{\"attributes\":{},\"id\":\"1578\",\"type\":\"NumberEditor\"}],\"root_ids\":[\"1553\"]},\"title\":\"Bokeh Application\",\"version\":\"2.0.2\"}};\n",
       "  var render_items = [{\"docid\":\"c9844ed5-2d4d-41be-a76c-f197fce076d5\",\"root_ids\":[\"1553\"],\"roots\":{\"1553\":\"005b98dd-d35c-43eb-a1f3-1040dfa92905\"}}];\n",
       "  root.Bokeh.embed.embed_items_notebook(docs_json, render_items);\n",
       "  }\n",
       "if (root.Bokeh !== undefined) {\n",
       "    embed_document(root);\n",
       "  } else {\n",
       "    var attempts = 0;\n",
       "    var timer = setInterval(function(root) {\n",
       "      if (root.Bokeh !== undefined) {\n",
       "        clearInterval(timer);\n",
       "        embed_document(root);\n",
       "      } else if (document.readyState == \"complete\") {\n",
       "        attempts++;\n",
       "        if (attempts > 100) {\n",
       "          clearInterval(timer);\n",
       "          console.log(\"Bokeh: ERROR: Unable to run BokehJS code because BokehJS library is missing\");\n",
       "        }\n",
       "      }\n",
       "    }, 10, root)\n",
       "  }\n",
       "})(window);</script>"
      ],
      "text/plain": [
       ":Table   [CoinName,Algorithm,ProofType,TotalCoinSupply,TotalCoinsMined,class]"
      ]
     },
     "execution_count": 81,
     "metadata": {
      "application/vnd.holoviews_exec.v0+json": {
       "id": "1553"
      }
     },
     "output_type": "execute_result"
    }
   ],
   "source": [
    "# Table with tradable cryptos\n",
    "cluster_df[[\"CoinName\", \"Algorithm\", \"ProofType\", \"TotalCoinSupply\", \"TotalCoinsMined\", \"class\"]].hvplot.table()"
   ]
  },
  {
   "cell_type": "code",
   "execution_count": 80,
   "metadata": {},
   "outputs": [
    {
     "data": {
      "text/plain": [
       "685"
      ]
     },
     "execution_count": 80,
     "metadata": {},
     "output_type": "execute_result"
    }
   ],
   "source": [
    "# Print the total number of tradable cryptocurrencies\n",
    "len(cluster_df)"
   ]
  },
  {
   "cell_type": "markdown",
   "metadata": {},
   "source": [
    "#### Scatter Plot with Tradable Cryptocurrencies"
   ]
  },
  {
   "cell_type": "code",
   "execution_count": 84,
   "metadata": {},
   "outputs": [],
   "source": [
    "# Scale data to create the scatter plot\n",
    "scaler_df = StandardScaler().fit_transform(cluster_df[[\"TotalCoinsMined\",\"TotalCoinSupply\"]])\n",
    "#X = scaler.transform(X)\n",
    "scatter_plot_df = pd.DataFrame(scaler_df, columns=['TotalCoinsMined',\"TotalCoinSupply\"], index=cluster_df.index)"
   ]
  },
  {
   "cell_type": "code",
   "execution_count": 85,
   "metadata": {},
   "outputs": [
    {
     "data": {
      "text/html": [
       "<div>\n",
       "<style scoped>\n",
       "    .dataframe tbody tr th:only-of-type {\n",
       "        vertical-align: middle;\n",
       "    }\n",
       "\n",
       "    .dataframe tbody tr th {\n",
       "        vertical-align: top;\n",
       "    }\n",
       "\n",
       "    .dataframe thead th {\n",
       "        text-align: right;\n",
       "    }\n",
       "</style>\n",
       "<table border=\"1\" class=\"dataframe\">\n",
       "  <thead>\n",
       "    <tr style=\"text-align: right;\">\n",
       "      <th></th>\n",
       "      <th>TotalCoinsMined</th>\n",
       "      <th>TotalCoinSupply</th>\n",
       "      <th>CoinName</th>\n",
       "      <th>class</th>\n",
       "    </tr>\n",
       "  </thead>\n",
       "  <tbody>\n",
       "    <tr>\n",
       "      <th>42</th>\n",
       "      <td>-0.102828</td>\n",
       "      <td>-0.038238</td>\n",
       "      <td>42 Coin</td>\n",
       "      <td>0</td>\n",
       "    </tr>\n",
       "    <tr>\n",
       "      <th>404</th>\n",
       "      <td>-0.076613</td>\n",
       "      <td>-0.038238</td>\n",
       "      <td>404Coin</td>\n",
       "      <td>0</td>\n",
       "    </tr>\n",
       "    <tr>\n",
       "      <th>808</th>\n",
       "      <td>-0.102828</td>\n",
       "      <td>-0.038238</td>\n",
       "      <td>NaN</td>\n",
       "      <td>0</td>\n",
       "    </tr>\n",
       "    <tr>\n",
       "      <th>1337</th>\n",
       "      <td>0.624584</td>\n",
       "      <td>-0.038149</td>\n",
       "      <td>EliteCoin</td>\n",
       "      <td>0</td>\n",
       "    </tr>\n",
       "    <tr>\n",
       "      <th>BTC</th>\n",
       "      <td>-0.102383</td>\n",
       "      <td>-0.038238</td>\n",
       "      <td>Bitcoin</td>\n",
       "      <td>0</td>\n",
       "    </tr>\n",
       "  </tbody>\n",
       "</table>\n",
       "</div>"
      ],
      "text/plain": [
       "      TotalCoinsMined  TotalCoinSupply   CoinName  class\n",
       "42          -0.102828        -0.038238    42 Coin      0\n",
       "404         -0.076613        -0.038238    404Coin      0\n",
       "808         -0.102828        -0.038238        NaN      0\n",
       "1337         0.624584        -0.038149  EliteCoin      0\n",
       "BTC         -0.102383        -0.038238    Bitcoin      0"
      ]
     },
     "execution_count": 85,
     "metadata": {},
     "output_type": "execute_result"
    }
   ],
   "source": [
    "scatter_plot_df['CoinName']= cluster_df['CoinName']\n",
    "scatter_plot_df['class']= cluster_df['class']\n",
    "scatter_plot_df.head()"
   ]
  },
  {
   "cell_type": "code",
   "execution_count": null,
   "metadata": {},
   "outputs": [],
   "source": [
    "# Plot the scatter with x=\"TotalCoinsMined\" and y=\"TotalCoinSupply\"\n",
    "scatter_plot_df.hvplot.scatter(\n",
    "    x=\"TotalCoinsMined\",\n",
    "    y=\"TotalCoinSupply\",\n",
    "    hover_cols=[\"CoinName\"],\n",
    "    by=\"class\")"
   ]
  },
  {
   "cell_type": "code",
   "execution_count": null,
   "metadata": {},
   "outputs": [],
   "source": []
  }
 ],
 "metadata": {
  "file_extension": ".py",
  "kernelspec": {
   "display_name": "Python 3",
   "language": "python",
   "name": "python3"
  },
  "language_info": {
   "codemirror_mode": {
    "name": "ipython",
    "version": 3
   },
   "file_extension": ".py",
   "mimetype": "text/x-python",
   "name": "python",
   "nbconvert_exporter": "python",
   "pygments_lexer": "ipython3",
   "version": "3.7.7"
  },
  "mimetype": "text/x-python",
  "name": "python",
  "npconvert_exporter": "python",
  "pygments_lexer": "ipython3",
  "version": 3
 },
 "nbformat": 4,
 "nbformat_minor": 4
}
